{
  "cells": [
    {
      "cell_type": "markdown",
      "metadata": {
        "colab_type": "text",
        "id": "view-in-github"
      },
      "source": [
        "<a href=\"https://colab.research.google.com/github/mvaldenegro/UncertaintyML-course-ESSAI-labs/blob/main/00_tensors_keras_refresher.ipynb\" target=\"_parent\"><img src=\"https://colab.research.google.com/assets/colab-badge.svg\" alt=\"Open In Colab\"/></a>"
      ]
    },
    {
      "cell_type": "code",
      "execution_count": 1,
      "metadata": {
        "id": "Wu8jxnrteM_D"
      },
      "outputs": [],
      "source": [
        "import torch\n",
        "\n",
        "from matplotlib import pyplot as plt\n",
        "import numpy as np"
      ]
    },
    {
      "cell_type": "markdown",
      "metadata": {
        "id": "A7U7jcESezVM"
      },
      "source": [
        "## construct a simple dataset for a simple problem\n",
        "\n",
        "We will fit a sinusoid from a limited number of samples.\n",
        "\n",
        "The nature of this problem is perfect for this course: we want to accompany predictions with a level of uncertainty. The uncertainty should be low as we get close to the training points, high otherwise.\n",
        "\n",
        "We create two linear sequences of 15 points with a \"hole\" in the middle. This will serve as a training data for our machine learning model."
      ]
    },
    {
      "cell_type": "code",
      "execution_count": 14,
      "metadata": {
        "colab": {
          "base_uri": "https://localhost:8080/",
          "height": 447
        },
        "id": "Z1q-CumGed40",
        "outputId": "e20bad7c-6c8b-4b86-c09d-76e16763d388"
      },
      "outputs": [
        {
          "data": {
            "text/plain": [
              "<matplotlib.collections.PathCollection at 0x7fb9fdf2d390>"
            ]
          },
          "execution_count": 14,
          "metadata": {},
          "output_type": "execute_result"
        },
        {
          "data": {
            "image/png": "[encoded data removed]",
            "text/plain": [
              "<Figure size 640x480 with 1 Axes>"
            ]
          },
          "metadata": {},
          "output_type": "display_data"
        }
      ],
      "source": [
        "x_max = 3.14\n",
        "x_min_pos = 0.5\n",
        "n = 30\n",
        "assert n//2 != 0, f\"Only even number of data allowed (current {n})\"\n",
        "\n",
        "x = np.concatenate([np.linspace(-x_max, -x_min_pos, num=n//2), np.linspace(x_min_pos, x_max, num=n//2)])\n",
        "y = np.sin(x)\n",
        "x += np.random.normal(0, 0.1, x.shape)\n",
        "\n",
        "\n",
        "\n",
        "# plot the data\n",
        "plt.scatter(x, y)"
      ]
    },
    {
      "cell_type": "markdown",
      "metadata": {
        "id": "aC0Cgikcqek1"
      },
      "source": [
        "This dataset could be fit pretty easily by a plethora of very simple machine learning models; however, in this course we are mainly focused on neural networks (NNs).\n",
        "\n",
        "Specifically, we will quickly review how to train a very small NN using Keras as a refresher of this library."
      ]
    },
    {
      "cell_type": "markdown",
      "metadata": {
        "id": "RKM8yXth5XEG"
      },
      "source": [
        "### Detour on tensors\n",
        "\n",
        "Tensorflow (and PyTorch) revolve around the concept of tensor.\n",
        "For our purposes, we can view the tensor as an extension of the concept of vector and matrix into $n$ dimensions.\n",
        "\n",
        "A vector of size $k_1$ can be seen as an ordered collection of $k_1$ scalars. We represent it as a vertical stack.\n",
        "\n",
        "![](https://drive.google.com/uc?export=view&id=1o2RiXi7fC3E-GBkL_rLxuFVi6OV1nrqV)\n",
        "\n",
        "A vector is ideal for representing lists of homogeneous data: for instance, we can think of having a reading of a sensor for $k_1$ time steps.\n",
        "\n",
        "The matrix adds another dimension of size $k_2$. We can represent it by repeating the previous vector of size $k_1$ for $k_2$ times, then stack these slices horizontally, thus obtaining a grid of size $k_1$ times $k_2$:\n",
        "\n",
        "![](https://drive.google.com/uc?export=view&id=1334LpKUNNS5JjGdPzvNzAUFlwFBMDA63)\n",
        "\n",
        "By extending the previous sensor example, we can have $k_2$ different sensors, each with its $k_1$ readings. We can store these data into a matrix.\n",
        "\n",
        "We can extend the matrix to a generic 3-dimensional structure by doing as we did with the extension from vector to matrix: just repeat the matrix structure $k_3$ times and stack them together.\n",
        "\n",
        "![](https://drive.google.com/uc?export=view&id=1QGeBKzjrcgk6zl14qoPrldNlQMtOFfaI)\n",
        "\n",
        "We have now obtained a 3-d **tensor** of dimension $k_1 \\times k_2 \\times k_3$. Recalling the sensor example, we can now extend this example to fit into a 3-d tensor.\n",
        "Let us suppose that our company has several facilities (specifically $k_3$ of them), each facility having $k_2$ tensors recording $k_1$ readings in a defined time frame. We can store these readings separately in each matrix, and stack them together into a 3-d tensor.\n",
        "Generically, a 3-d tensor can also be seen as a **list of matrices** all having the **same shape**.\n",
        "\n",
        "![](https://drive.google.com/uc?export=view&id=1bLQXRB4bqzf3LhbD4_ihsXqp3r7xc_ku)\n",
        "\n",
        "The extension to a 4-d tensor is then simple: a list of 3-d tensor of the same shape, or a list of list of matrices.\n",
        "Notice that **all sub-structures have the same shape**.\n",
        "\n",
        "![](https://drive.google.com/uc?export=view&id=176sAfZ4UOrpytY_5DxoVxY52UFxmwyrm)\n"
      ]
    },
    {
      "cell_type": "markdown",
      "metadata": {
        "id": "2VkGWM8Hnjmn"
      },
      "source": [
        "#### Tensors in Python\n",
        "\n",
        "There exist many libraries introducing the concept of tensors or $n$-dimensional arrays in Python, the most famous one being `numpy`, where they are called `ndarray`s.\n",
        "We have previously defined `x` as a one-dimensional array.\n",
        "Next, we defined `y` by applying `np.sin`, a numpy function, to `x`. This function is applied element-wise to `x`, and thus produces a new one-dimensional array of the same shape as `x`."
      ]
    },
    {
      "cell_type": "code",
      "execution_count": null,
      "metadata": {
        "colab": {
          "base_uri": "https://localhost:8080/"
        },
        "id": "eJPWutlQnfMY",
        "outputId": "371a96d1-3ac0-4285-f66a-68cfe97f7191"
      },
      "outputs": [
        {
          "name": "stdout",
          "output_type": "stream",
          "text": [
            "x\n",
            "[-3.14       -2.95142857 -2.76285714 -2.57428571 -2.38571429 -2.19714286\n",
            " -2.00857143 -1.82       -1.63142857 -1.44285714 -1.25428571 -1.06571429\n",
            " -0.87714286 -0.68857143 -0.5         0.5         0.68857143  0.87714286\n",
            "  1.06571429  1.25428571  1.44285714  1.63142857  1.82        2.00857143\n",
            "  2.19714286  2.38571429  2.57428571  2.76285714  2.95142857  3.14      ] \n",
            "\n",
            "y\n",
            "[-0.00159265 -0.18902002 -0.36974589 -0.5373628  -0.68592809 -0.81017453\n",
            " -0.9056971  -0.96910913 -0.99816243 -0.99182694 -0.95032728 -0.87513478\n",
            " -0.7689153  -0.63543475 -0.47942554  0.47942554  0.63543475  0.7689153\n",
            "  0.87513478  0.95032728  0.99182694  0.99816243  0.96910913  0.9056971\n",
            "  0.81017453  0.68592809  0.5373628   0.36974589  0.18902002  0.00159265] \n",
            "\n",
            "Shape of x: (30,)\n",
            "Shape of y: (30,)\n"
          ]
        }
      ],
      "source": [
        "print(\"x\")\n",
        "print(x, \"\\n\")\n",
        "\n",
        "print(\"y\")\n",
        "print(y, \"\\n\")\n",
        "\n",
        "print(\"Shape of x:\", x.shape)\n",
        "print(\"Shape of y:\", y.shape)"
      ]
    },
    {
      "cell_type": "markdown",
      "metadata": {
        "id": "9PDaZHbOoNFf"
      },
      "source": [
        "We can immediately notice that we have used no explicit loops to compute `y`. If we used lists to store the values of `x`, we would have needed to write the following:\n",
        "```python\n",
        "import math\n",
        "\n",
        "y = []\n",
        "for element in x:\n",
        "  y = math.sin(x)\n",
        "```\n",
        "\n",
        "or, using list comprehensions:\n",
        "\n",
        "```python\n",
        "import math\n",
        "\n",
        "y = [math.sin(element) for element in x]\n",
        "```\n",
        "\n",
        "These code pieces force the construction of `y` element-by-element, in a sequential way.\n",
        "Instead, by using tensors and function for tensors, we are implicitly using all sorts of vectorized computations which exploit parallelism in the CPU (or, as we will later see, in GPUs) to get much faster results.\n",
        "\n",
        "On to $n$-dimensional arrays, we can construct them quickly in NumPy using one of four functions:\n",
        "\n",
        "```python\n",
        "shape = (2,3,5,4) # a list or tuple containing the shape of the tensor\n",
        "np.zeros(shape) # -> creates a tensor of zeros of the desired shape\n",
        "np.ones(shape) #  -> creates a tensor of ones of the desired shape\n",
        "np.empty(shape) # -> creates an empty tensor of the desired shape\n",
        "                #    Note that the content is absolutely garbage!\n",
        "np.full(shape, fill_value=np.pi) # -> creates a tensor with the desided shape, all elements will have the specified fill_value\n",
        "```"
      ]
    },
    {
      "cell_type": "code",
      "execution_count": null,
      "metadata": {
        "colab": {
          "base_uri": "https://localhost:8080/"
        },
        "id": "bEDVSRCgqH8e",
        "outputId": "de2b69c8-de67-49a4-df3d-d75e6db89ec4"
      },
      "outputs": [
        {
          "name": "stdout",
          "output_type": "stream",
          "text": [
            "[[[[3.14159265 3.14159265 3.14159265 3.14159265]\n",
            "   [3.14159265 3.14159265 3.14159265 3.14159265]\n",
            "   [3.14159265 3.14159265 3.14159265 3.14159265]\n",
            "   [3.14159265 3.14159265 3.14159265 3.14159265]\n",
            "   [3.14159265 3.14159265 3.14159265 3.14159265]]\n",
            "\n",
            "  [[3.14159265 3.14159265 3.14159265 3.14159265]\n",
            "   [3.14159265 3.14159265 3.14159265 3.14159265]\n",
            "   [3.14159265 3.14159265 3.14159265 3.14159265]\n",
            "   [3.14159265 3.14159265 3.14159265 3.14159265]\n",
            "   [3.14159265 3.14159265 3.14159265 3.14159265]]\n",
            "\n",
            "  [[3.14159265 3.14159265 3.14159265 3.14159265]\n",
            "   [3.14159265 3.14159265 3.14159265 3.14159265]\n",
            "   [3.14159265 3.14159265 3.14159265 3.14159265]\n",
            "   [3.14159265 3.14159265 3.14159265 3.14159265]\n",
            "   [3.14159265 3.14159265 3.14159265 3.14159265]]]\n",
            "\n",
            "\n",
            " [[[3.14159265 3.14159265 3.14159265 3.14159265]\n",
            "   [3.14159265 3.14159265 3.14159265 3.14159265]\n",
            "   [3.14159265 3.14159265 3.14159265 3.14159265]\n",
            "   [3.14159265 3.14159265 3.14159265 3.14159265]\n",
            "   [3.14159265 3.14159265 3.14159265 3.14159265]]\n",
            "\n",
            "  [[3.14159265 3.14159265 3.14159265 3.14159265]\n",
            "   [3.14159265 3.14159265 3.14159265 3.14159265]\n",
            "   [3.14159265 3.14159265 3.14159265 3.14159265]\n",
            "   [3.14159265 3.14159265 3.14159265 3.14159265]\n",
            "   [3.14159265 3.14159265 3.14159265 3.14159265]]\n",
            "\n",
            "  [[3.14159265 3.14159265 3.14159265 3.14159265]\n",
            "   [3.14159265 3.14159265 3.14159265 3.14159265]\n",
            "   [3.14159265 3.14159265 3.14159265 3.14159265]\n",
            "   [3.14159265 3.14159265 3.14159265 3.14159265]\n",
            "   [3.14159265 3.14159265 3.14159265 3.14159265]]]]\n",
            "Shape: (2, 3, 5, 4)\n"
          ]
        }
      ],
      "source": [
        "full_tensor = np.full((2, 3, 5, 4), np.pi)\n",
        "\n",
        "print(full_tensor)\n",
        "print(\"Shape:\", full_tensor.shape)"
      ]
    },
    {
      "cell_type": "markdown",
      "metadata": {
        "id": "k3zzLxERrtYi"
      },
      "source": [
        "We can additionally use functions to create random tensors, like\n",
        "`np.random.rand` (for sampling uniformly the elements of the tensors between 0 and 1) or `np.random.randn` (for sampling elements from a standard Gaussian distribution). See the [documentation for NumPy random generation](https://numpy.org/doc/stable/reference/random/legacy.html) for additional info."
      ]
    },
    {
      "cell_type": "code",
      "execution_count": null,
      "metadata": {
        "colab": {
          "base_uri": "https://localhost:8080/"
        },
        "id": "1sOo-EMFrtHg",
        "outputId": "4bb1f600-291b-4f3d-c393-1cc1a5fe6ab3"
      },
      "outputs": [
        {
          "data": {
            "text/plain": [
              "array([[[ 0.73139139, -1.84111706, -0.3786717 ,  1.47080778],\n",
              "        [ 1.2964979 , -1.54767405,  0.0156995 ,  0.09763597],\n",
              "        [-0.09209147,  1.79096658, -1.20780056, -1.65014604]],\n",
              "\n",
              "       [[-1.52821575, -0.85428548, -0.44114732, -2.12977187],\n",
              "        [-1.14808707,  0.01458362,  0.06163712, -0.22360333],\n",
              "        [ 0.91090155,  1.28093638,  0.35896574, -0.02407398]],\n",
              "\n",
              "       [[ 1.09398795, -1.8042315 ,  0.70963403,  1.00744955],\n",
              "        [-0.69612781,  0.54921579,  1.17882837,  0.03924421],\n",
              "        [ 0.29707711,  0.8734152 , -0.88011707,  1.54786768]]])"
            ]
          },
          "execution_count": 99,
          "metadata": {},
          "output_type": "execute_result"
        }
      ],
      "source": [
        "np.random.randn(3,3,4)"
      ]
    },
    {
      "cell_type": "markdown",
      "metadata": {
        "id": "q2LVYs7gsUiI"
      },
      "source": [
        "Before going on to Keras, it's worth to concentrate on the tensors data types and operations.\n",
        "\n",
        "Conversely to lists, tensors and ndarrays can hold data of the same type. That means only bools, ints, floats, etc. of the same precision. For instance"
      ]
    },
    {
      "cell_type": "code",
      "execution_count": null,
      "metadata": {
        "colab": {
          "base_uri": "https://localhost:8080/"
        },
        "id": "yUU6ZVJ1s8rp",
        "outputId": "8b934bed-043b-4554-aa11-800712ef96fd"
      },
      "outputs": [
        {
          "data": {
            "text/plain": [
              "dtype('float64')"
            ]
          },
          "execution_count": 100,
          "metadata": {},
          "output_type": "execute_result"
        }
      ],
      "source": [
        "x.dtype"
      ]
    },
    {
      "cell_type": "markdown",
      "metadata": {
        "id": "CDh9ug2Ls_Rj"
      },
      "source": [
        "We can change the precision of an ndarray by using the function `astype`:"
      ]
    },
    {
      "cell_type": "code",
      "execution_count": null,
      "metadata": {
        "colab": {
          "base_uri": "https://localhost:8080/"
        },
        "id": "kC2lS13Ss-6e",
        "outputId": "b432525e-92a4-4e12-a793-628906242231"
      },
      "outputs": [
        {
          "name": "stdout",
          "output_type": "stream",
          "text": [
            "[[-1.21545853 -0.04499143 -0.33707021  1.58530116]\n",
            " [-0.75297906 -0.07671908 -0.39584752 -0.87811211]\n",
            " [-1.33542809 -1.41849018  1.57044568 -0.44058966]]\n",
            "float64\n",
            "[[-1.216   -0.04498 -0.3372   1.585  ]\n",
            " [-0.753   -0.0767  -0.3958  -0.878  ]\n",
            " [-1.335   -1.419    1.57    -0.4407 ]]\n",
            "float16\n",
            "[[-1  0  0  1]\n",
            " [ 0  0  0  0]\n",
            " [-1 -1  1  0]]\n",
            "int8\n"
          ]
        }
      ],
      "source": [
        "rand_ndarray = np.random.randn(3, 4)\n",
        "\n",
        "print(rand_ndarray)\n",
        "print(rand_ndarray.dtype)\n",
        "\n",
        "rand_ndarray_float16 = rand_ndarray.astype(np.float16) # same as rand_ndarray.astype(\"float16\")\n",
        "\n",
        "print(rand_ndarray_float16)\n",
        "print(rand_ndarray_float16.dtype)\n",
        "\n",
        "# Be careful at possible loss of information!\n",
        "\n",
        "rand_ndarray_int8 = rand_ndarray.astype(np.int8) # same as rand_ndarray.astype(\"int8\")\n",
        "\n",
        "print(rand_ndarray_int8)\n",
        "print(rand_ndarray_int8.dtype)"
      ]
    },
    {
      "cell_type": "markdown",
      "metadata": {
        "id": "BnghGJuXuBYE"
      },
      "source": [
        "We can create subsets of tensors by means of **slicing operators**, which append a set of square brackets `[]` at the end of the tensor name.\n",
        "\n",
        "This allows us to select one or more element of the tensors, at any position within the hierarchy of dimensions.\n",
        "\n",
        "`x[0]` select the first element of the first dimension of the tensor `x`. In the case of a 4-d tensor interpretable as a list of 3-d tensors, this will select the first 3-d tensor in this list:"
      ]
    },
    {
      "cell_type": "code",
      "execution_count": null,
      "metadata": {
        "colab": {
          "base_uri": "https://localhost:8080/"
        },
        "id": "9QCS-YiZutzq",
        "outputId": "3d6d18e9-4767-4709-bbfa-410498b5990e"
      },
      "outputs": [
        {
          "name": "stdout",
          "output_type": "stream",
          "text": [
            "tensor_4d:\n",
            " [[[[7 1 4 5]\n",
            "   [6 2 8 0]\n",
            "   [8 5 7 6]]\n",
            "\n",
            "  [[3 4 9 0]\n",
            "   [4 5 0 1]\n",
            "   [4 9 4 9]]\n",
            "\n",
            "  [[9 5 8 8]\n",
            "   [6 8 5 2]\n",
            "   [9 3 4 4]]]\n",
            "\n",
            "\n",
            " [[[7 4 1 0]\n",
            "   [5 4 4 4]\n",
            "   [7 2 3 8]]\n",
            "\n",
            "  [[2 5 0 6]\n",
            "   [7 7 6 8]\n",
            "   [9 8 9 9]]\n",
            "\n",
            "  [[0 4 9 5]\n",
            "   [1 2 6 3]\n",
            "   [8 4 7 4]]]]\n",
            "shape: (2, 3, 3, 4) \n",
            "\n",
            "tensor_4d [0]:\n",
            " [[[7 1 4 5]\n",
            "  [6 2 8 0]\n",
            "  [8 5 7 6]]\n",
            "\n",
            " [[3 4 9 0]\n",
            "  [4 5 0 1]\n",
            "  [4 9 4 9]]\n",
            "\n",
            " [[9 5 8 8]\n",
            "  [6 8 5 2]\n",
            "  [9 3 4 4]]]\n",
            "shape: (3, 3, 4) \n",
            "\n"
          ]
        }
      ],
      "source": [
        "tensor_4d = np.random.randint(0, 10, (2,3,3,4))\n",
        "\n",
        "print(\"tensor_4d:\\n\", tensor_4d)\n",
        "print(\"shape:\", tensor_4d.shape, \"\\n\")\n",
        "\n",
        "print(\"tensor_4d [0]:\\n\", tensor_4d[0])\n",
        "print(\"shape:\", tensor_4d[0].shape, \"\\n\")"
      ]
    },
    {
      "cell_type": "markdown",
      "metadata": {
        "id": "wuOytBM_vNmF"
      },
      "source": [
        "If we want to select a single scalar in our tensor, we have to specify a value for all the four dimensions:"
      ]
    },
    {
      "cell_type": "code",
      "execution_count": null,
      "metadata": {
        "colab": {
          "base_uri": "https://localhost:8080/"
        },
        "id": "LCB9LFnQvNNM",
        "outputId": "62063f88-3b88-48a0-b729-2956375b8cc4"
      },
      "outputs": [
        {
          "data": {
            "text/plain": [
              "1"
            ]
          },
          "execution_count": 103,
          "metadata": {},
          "output_type": "execute_result"
        }
      ],
      "source": [
        "tensor_4d[0, 1, 1, 3]"
      ]
    },
    {
      "cell_type": "markdown",
      "metadata": {
        "id": "n-IYeI-swIUt"
      },
      "source": [
        "If we want to select a single structure in the second dimension of the hierarchy, we have to indicate a `:` in the place corresponding to the first:"
      ]
    },
    {
      "cell_type": "code",
      "execution_count": null,
      "metadata": {
        "colab": {
          "base_uri": "https://localhost:8080/"
        },
        "id": "7IrkPGkZwH9p",
        "outputId": "562bf14b-b322-4f79-e615-36a7e427d43f"
      },
      "outputs": [
        {
          "data": {
            "text/plain": [
              "array([[[3, 4, 9, 0],\n",
              "        [4, 5, 0, 1],\n",
              "        [4, 9, 4, 9]],\n",
              "\n",
              "       [[2, 5, 0, 6],\n",
              "        [7, 7, 6, 8],\n",
              "        [9, 8, 9, 9]]])"
            ]
          },
          "execution_count": 104,
          "metadata": {},
          "output_type": "execute_result"
        }
      ],
      "source": [
        "tensor_4d[:, 1] # this returns, for all the 3-d tensors in our list, only the second matrix"
      ]
    },
    {
      "cell_type": "markdown",
      "metadata": {
        "id": "brcQpvUowuDh"
      },
      "source": [
        "We can also select multiple elements in the slices. For instance, we can use intervals. For instance, if we want the last two columns of the last matrix of the last 3-d tensor in the list, we can type"
      ]
    },
    {
      "cell_type": "code",
      "execution_count": null,
      "metadata": {
        "colab": {
          "base_uri": "https://localhost:8080/"
        },
        "id": "dYXGyLDrxFLC",
        "outputId": "195ba1bb-d01f-41ed-9dbd-8e37cade3b82"
      },
      "outputs": [
        {
          "data": {
            "text/plain": [
              "array([[9, 5],\n",
              "       [6, 3],\n",
              "       [7, 4]])"
            ]
          },
          "execution_count": 105,
          "metadata": {},
          "output_type": "execute_result"
        }
      ],
      "source": [
        "tensor_4d[1, 2, :, 2:4] # 2:4 = select rows from 2 (included) to 4 (not included)"
      ]
    },
    {
      "cell_type": "markdown",
      "metadata": {
        "id": "JN8t4a56xbOI"
      },
      "source": [
        "For the same task we can also use negative indices in the slice. Negative indices start from the last element (indexed as `-1` and decrease accordingly). `x[-5]` returns the fifth-to-last element of tensor `x`:"
      ]
    },
    {
      "cell_type": "code",
      "execution_count": null,
      "metadata": {
        "colab": {
          "base_uri": "https://localhost:8080/"
        },
        "id": "URtgXY5pxrDb",
        "outputId": "0d0b0df5-60a7-4620-a18e-3984fbddb82b"
      },
      "outputs": [
        {
          "data": {
            "text/plain": [
              "array([[9, 5],\n",
              "       [6, 3],\n",
              "       [7, 4]])"
            ]
          },
          "execution_count": 106,
          "metadata": {},
          "output_type": "execute_result"
        }
      ],
      "source": [
        "tensor_4d[-1, -1, :, 2:4]"
      ]
    },
    {
      "cell_type": "markdown",
      "metadata": {
        "id": "Kfupx-oUx8ej"
      },
      "source": [
        "We can also omit the `4` in the last position of the slice: this means \"pick all elements from 2 to the end\""
      ]
    },
    {
      "cell_type": "code",
      "execution_count": null,
      "metadata": {
        "colab": {
          "base_uri": "https://localhost:8080/"
        },
        "id": "A10pr18vx8KF",
        "outputId": "1a5d47f6-bc3f-4479-8b8a-3b6a227ee20e"
      },
      "outputs": [
        {
          "name": "stdout",
          "output_type": "stream",
          "text": [
            "[[9 5]\n",
            " [6 3]\n",
            " [7 4]]\n",
            "[[9 5]\n",
            " [6 3]\n",
            " [7 4]]\n"
          ]
        }
      ],
      "source": [
        "print(tensor_4d[-1, -1, :, 2:])\n",
        "\n",
        "# alternatively, using negative indices\n",
        "\n",
        "print(tensor_4d[-1, -1, :, -2:])"
      ]
    },
    {
      "cell_type": "markdown",
      "metadata": {
        "id": "N2ixFiyWyOsJ"
      },
      "source": [
        "Finally, we may also use lists or tuples in slices to select specifically multiple elements. For instance, if we want the first and last row of each of the matrices contained in our 4d tensor, we will type"
      ]
    },
    {
      "cell_type": "code",
      "execution_count": null,
      "metadata": {
        "colab": {
          "base_uri": "https://localhost:8080/"
        },
        "id": "Yk6ZXilaydWN",
        "outputId": "51abb129-cc82-49a7-b46e-10b38e0ba92d"
      },
      "outputs": [
        {
          "data": {
            "text/plain": [
              "array([[[[7, 1, 4, 5],\n",
              "         [8, 5, 7, 6]],\n",
              "\n",
              "        [[3, 4, 9, 0],\n",
              "         [4, 9, 4, 9]],\n",
              "\n",
              "        [[9, 5, 8, 8],\n",
              "         [9, 3, 4, 4]]],\n",
              "\n",
              "\n",
              "       [[[7, 4, 1, 0],\n",
              "         [7, 2, 3, 8]],\n",
              "\n",
              "        [[2, 5, 0, 6],\n",
              "         [9, 8, 9, 9]],\n",
              "\n",
              "        [[0, 4, 9, 5],\n",
              "         [8, 4, 7, 4]]]])"
            ]
          },
          "execution_count": 108,
          "metadata": {},
          "output_type": "execute_result"
        }
      ],
      "source": [
        "tensor_4d[:, :, (0, -1), :] # alternatively, tensor_4d[:, :, (0, -1)]"
      ]
    },
    {
      "cell_type": "markdown",
      "metadata": {
        "id": "HL3RKlLmxEvr"
      },
      "source": []
    },
    {
      "cell_type": "markdown",
      "metadata": {
        "id": "j8fTgK4VtvyP"
      },
      "source": [
        "On to tensor/ndarray operations:\n",
        "\n",
        "A sum/subtraction/multiplication/division between a tensor and a scalar will always be interpreted as the same operation between the same scalar and each element of the tensor:"
      ]
    },
    {
      "cell_type": "code",
      "execution_count": null,
      "metadata": {
        "colab": {
          "base_uri": "https://localhost:8080/"
        },
        "id": "AhUa3z3vtvLY",
        "outputId": "a0a94850-900d-4ef2-c2fd-2b965ea02d27"
      },
      "outputs": [
        {
          "name": "stdout",
          "output_type": "stream",
          "text": [
            "x:\n",
            "[-3.14       -2.95142857 -2.76285714 -2.57428571 -2.38571429 -2.19714286\n",
            " -2.00857143 -1.82       -1.63142857 -1.44285714 -1.25428571 -1.06571429\n",
            " -0.87714286 -0.68857143 -0.5         0.5         0.68857143  0.87714286\n",
            "  1.06571429  1.25428571  1.44285714  1.63142857  1.82        2.00857143\n",
            "  2.19714286  2.38571429  2.57428571  2.76285714  2.95142857  3.14      ]\n",
            "2*x:\n",
            "[-6.28       -5.90285714 -5.52571429 -5.14857143 -4.77142857 -4.39428571\n",
            " -4.01714286 -3.64       -3.26285714 -2.88571429 -2.50857143 -2.13142857\n",
            " -1.75428571 -1.37714286 -1.          1.          1.37714286  1.75428571\n",
            "  2.13142857  2.50857143  2.88571429  3.26285714  3.64        4.01714286\n",
            "  4.39428571  4.77142857  5.14857143  5.52571429  5.90285714  6.28      ]\n",
            "x//2: (integer division)\n",
            "[-2. -2. -2. -2. -2. -2. -2. -1. -1. -1. -1. -1. -1. -1. -1.  0.  0.  0.\n",
            "  0.  0.  0.  0.  0.  1.  1.  1.  1.  1.  1.  1.]\n"
          ]
        }
      ],
      "source": [
        "print(\"x:\")\n",
        "print(x)\n",
        "\n",
        "print(\"2*x:\")\n",
        "print(2*x)\n",
        "\n",
        "print(\"x//2: (integer division)\")\n",
        "print(x//2)"
      ]
    },
    {
      "cell_type": "markdown",
      "metadata": {
        "id": "teyT5kw-07WX"
      },
      "source": [
        "We can also apply an operation between tensors when these tensors are **conformable** (same shape). This operation will **always** be interpreted as an element-by-element operation. Be very careful when you want to, e.g., multiply matrices in this way."
      ]
    },
    {
      "cell_type": "code",
      "execution_count": null,
      "metadata": {
        "colab": {
          "base_uri": "https://localhost:8080/"
        },
        "id": "dKzxot_i1C5Y",
        "outputId": "d9c6dbbb-aa8e-45cc-a853-bb47ef80d531"
      },
      "outputs": [
        {
          "name": "stdout",
          "output_type": "stream",
          "text": [
            "x * z: (equivalent to x * 2)\n",
            "[-6.28       -5.90285714 -5.52571429 -5.14857143 -4.77142857 -4.39428571\n",
            " -4.01714286 -3.64       -3.26285714 -2.88571429 -2.50857143 -2.13142857\n",
            " -1.75428571 -1.37714286 -1.          1.          1.37714286  1.75428571\n",
            "  2.13142857  2.50857143  2.88571429  3.26285714  3.64        4.01714286\n",
            "  4.39428571  4.77142857  5.14857143  5.52571429  5.90285714  6.28      ]\n"
          ]
        }
      ],
      "source": [
        "z = np.full_like(x, 2) # matrix of 2's of the same shape as x\n",
        "\n",
        "print(\"x * z: (equivalent to x * 2)\")\n",
        "print(x * z)"
      ]
    },
    {
      "cell_type": "markdown",
      "metadata": {
        "id": "UjrYYUNw1hQi"
      },
      "source": [
        "The usual matrix multiplication has to be computed differently.\n",
        "Let us show an example.\n",
        "\n",
        "$a$ is a $5 \\times 4$ matrix, $b$ is a $4 \\times 5$ matrix.\n",
        "We could do $a\\cdot b$ to obtain a $5\\times 5$ matrix as output:"
      ]
    },
    {
      "cell_type": "code",
      "execution_count": null,
      "metadata": {
        "colab": {
          "base_uri": "https://localhost:8080/",
          "height": 393
        },
        "id": "EIPFQUE81o2Q",
        "outputId": "78abbbcd-e22f-451b-9677-433a47c9ac1e"
      },
      "outputs": [
        {
          "name": "stdout",
          "output_type": "stream",
          "text": [
            "a:\n",
            " [[0.00681953 0.1630243  0.53162    0.15077388]\n",
            " [0.27058237 0.57223329 0.05120527 0.48204166]\n",
            " [0.83240173 0.44959148 0.22467559 0.35938522]\n",
            " [0.34906629 0.12741809 0.6269242  0.67510059]\n",
            " [0.14486282 0.47796046 0.2706756  0.78668482]]\n",
            "b:\n",
            " [[0.19286445 0.93052816 0.17260971 0.31420522 0.13816691]\n",
            " [0.46918658 0.52077992 0.89334408 0.26698994 0.65362684]\n",
            " [0.04851723 0.86067131 0.83189775 0.46991166 0.075917  ]\n",
            " [0.41153045 0.4899663  0.93559714 0.32347148 0.98388349]]\n"
          ]
        },
        {
          "ename": "ValueError",
          "evalue": "ignored",
          "output_type": "error",
          "traceback": [
            "\u001b[0;31m---------------------------------------------------------------------------\u001b[0m",
            "\u001b[0;31mValueError\u001b[0m                                Traceback (most recent call last)",
            "\u001b[0;32m<ipython-input-111-a5a5cced0306>\u001b[0m in \u001b[0;36m<cell line: 5>\u001b[0;34m()\u001b[0m\n\u001b[1;32m      3\u001b[0m \u001b[0mb\u001b[0m \u001b[0;34m=\u001b[0m \u001b[0mnp\u001b[0m\u001b[0;34m.\u001b[0m\u001b[0mrandom\u001b[0m\u001b[0;34m.\u001b[0m\u001b[0mrand\u001b[0m\u001b[0;34m(\u001b[0m\u001b[0;36m4\u001b[0m\u001b[0;34m,\u001b[0m \u001b[0;36m5\u001b[0m\u001b[0;34m)\u001b[0m\u001b[0;34m\u001b[0m\u001b[0;34m\u001b[0m\u001b[0m\n\u001b[1;32m      4\u001b[0m \u001b[0mprint\u001b[0m\u001b[0;34m(\u001b[0m\u001b[0;34m\"b:\\n\"\u001b[0m\u001b[0;34m,\u001b[0m \u001b[0mb\u001b[0m\u001b[0;34m)\u001b[0m\u001b[0;34m\u001b[0m\u001b[0;34m\u001b[0m\u001b[0m\n\u001b[0;32m----> 5\u001b[0;31m \u001b[0ma\u001b[0m\u001b[0;34m*\u001b[0m\u001b[0mb\u001b[0m\u001b[0;34m\u001b[0m\u001b[0;34m\u001b[0m\u001b[0m\n\u001b[0m",
            "\u001b[0;31mValueError\u001b[0m: operands could not be broadcast together with shapes (5,4) (4,5) "
          ]
        }
      ],
      "source": [
        "a = np.random.rand(5, 4)\n",
        "print(\"a:\\n\", a)\n",
        "b = np.random.rand(4, 5)\n",
        "print(\"b:\\n\", b)\n",
        "a*b"
      ]
    },
    {
      "cell_type": "markdown",
      "metadata": {
        "id": "LugYHjaz2DcG"
      },
      "source": [
        "We, instead, have to use `np.dot(a, b)`, which computes the actual multiplication:"
      ]
    },
    {
      "cell_type": "code",
      "execution_count": null,
      "metadata": {
        "colab": {
          "base_uri": "https://localhost:8080/"
        },
        "id": "rTVdfRN81_26",
        "outputId": "a2ac1a39-51a4-458d-9eba-cb21196dcf78"
      },
      "outputs": [
        {
          "data": {
            "text/plain": [
              "array([[0.16564483, 0.62266975, 0.730131  , 0.34425407, 0.29620222],\n",
              "       [0.52152906, 0.8300472 , 1.05150071, 0.41778761, 0.88957274],\n",
              "       [0.53028159, 1.37816995, 1.06846741, 0.60340992, 0.77952531],\n",
              "       [0.43534641, 1.26152501, 1.32723944, 0.65667258, 0.84332782],\n",
              "       [0.58906871, 1.00212291, 1.41318236, 0.55479101, 1.12697811]])"
            ]
          },
          "execution_count": 112,
          "metadata": {},
          "output_type": "execute_result"
        }
      ],
      "source": [
        "np.dot(a, b)"
      ]
    },
    {
      "cell_type": "markdown",
      "metadata": {
        "id": "UlXBbRmf2ZoS"
      },
      "source": [
        "We could also do the same with the transposed matrices. We can transpose the two matrices by typing `a.T` and `b.T`. In this case, their dot product will yield a $4\\times 4$ matrix:"
      ]
    },
    {
      "cell_type": "code",
      "execution_count": null,
      "metadata": {
        "colab": {
          "base_uri": "https://localhost:8080/"
        },
        "id": "HYK0hhZY2iZw",
        "outputId": "d8de084b-9423-4bb5-ef6a-09ae66c12a54"
      },
      "outputs": [
        {
          "data": {
            "text/plain": [
              "array([[0.52647409, 1.07561807, 1.10071434, 1.1696165 ],\n",
              "       [0.74759839, 1.12256344, 0.97058897, 1.27957451],\n",
              "       [0.423341  , 0.82111155, 0.57191862, 0.92317786],\n",
              "       [0.86047958, 1.33727674, 1.0981267 , 1.62685399]])"
            ]
          },
          "execution_count": 113,
          "metadata": {},
          "output_type": "execute_result"
        }
      ],
      "source": [
        "np.dot(a.T, b.T)"
      ]
    },
    {
      "cell_type": "markdown",
      "metadata": {
        "id": "HaHQ88b22uii"
      },
      "source": [
        "The operations between tensors also use the concept of **broadcasting**: it is a complex concept that means that NumPy will try and compute the operation even when there is a partial match between the dimensions of two tensors."
      ]
    },
    {
      "cell_type": "code",
      "execution_count": null,
      "metadata": {
        "colab": {
          "base_uri": "https://localhost:8080/"
        },
        "id": "BrqXnWWT28xV",
        "outputId": "c2658864-d147-4ef9-e784-aabc06b62021"
      },
      "outputs": [
        {
          "name": "stdout",
          "output_type": "stream",
          "text": [
            "row vector:\n",
            " [[1 2 3 4]] \n",
            "\n",
            "\n",
            "row vector (shape 1 x 4) * conformable matrix (shape 5 x 4):\n",
            " [[0.00681953 0.32604861 1.59486    0.60309552]\n",
            " [0.27058237 1.14446658 0.1536158  1.92816664]\n",
            " [0.83240173 0.89918296 0.67402678 1.43754089]\n",
            " [0.34906629 0.25483618 1.88077261 2.70040236]\n",
            " [0.14486282 0.95592092 0.81202679 3.14673928]]\n"
          ]
        }
      ],
      "source": [
        "one_row = np.array([[1,2,3,4]])\n",
        "print(\"row vector:\\n\", one_row, \"\\n\\n\")\n",
        "print(\"row vector (shape 1 x 4) * conformable matrix (shape 5 x 4):\\n\", a * one_row)"
      ]
    },
    {
      "cell_type": "markdown",
      "metadata": {
        "id": "GUkJT6Hl3mKu"
      },
      "source": [
        "In the above code, we have one row vector, which we have defined by passing a list of a list of five elements to the constructor `np.array`.\n",
        "In order to muliply this row with a matrix of conformable size, we need three conditions to happen:\n",
        "1. The number of dimensions of these tensors have to be the same (so, 2)\n",
        "2. The two tensors must share the exact shape on a subset of their dimensions, at the same indices (so, for instance, dimensions 1, 2, and 5 must match)\n",
        "3. The other dimensions of one of the two tensors is a _singleton dimension_ (i.e., exactly 1)\n",
        "\n",
        "In the above case, we have one operand with shape 1 x 4 and another one with shape 5 x 4. The three conditions above are all satisfied, so the operation is carried out.\n",
        "\n",
        "The result is that all of the rows of the matrix `a` are multiplied, element-by-element, by the same copy of the row vector above defined.\n",
        "If you notice, the first column is the same as the first column of `a`, the second is multiplied by two, etc.\n",
        "\n",
        "If we want to obtain the same result with a column vector, we just need to add one transposition while defining this vector, and the job is done:"
      ]
    },
    {
      "cell_type": "code",
      "execution_count": null,
      "metadata": {
        "colab": {
          "base_uri": "https://localhost:8080/"
        },
        "id": "wjYvvjnh3ksF",
        "outputId": "17801e31-42d2-4336-e153-f2398b9b9ff7"
      },
      "outputs": [
        {
          "name": "stdout",
          "output_type": "stream",
          "text": [
            "column vector:\n",
            " [[1]\n",
            " [2]\n",
            " [3]\n",
            " [4]\n",
            " [5]] \n",
            "\n",
            "\n",
            "column vector (shape 5 x 1) * conformable matrix (shape 5 x 4):\n",
            " [[0.00681953 0.1630243  0.53162    0.15077388]\n",
            " [0.54116475 1.14446658 0.10241053 0.96408332]\n",
            " [2.49720519 1.34877443 0.67402678 1.07815567]\n",
            " [1.39626516 0.50967236 2.50769681 2.70040236]\n",
            " [0.72431411 2.38980229 1.35337798 3.9334241 ]]\n"
          ]
        }
      ],
      "source": [
        "one_column = np.array([[1,2,3,4,5]]).T\n",
        "print(\"column vector:\\n\", one_column, \"\\n\\n\")\n",
        "print(\"column vector (shape 5 x 1) * conformable matrix (shape 5 x 4):\\n\", a * one_column)"
      ]
    },
    {
      "cell_type": "markdown",
      "metadata": {
        "id": "8RZR6PNc5txo"
      },
      "source": [
        "#### Transitioning from NumPy to Keras\n",
        "\n",
        "PyTorch (PT) is a library for scientific computing, specifically revolving around tensor computations, as the name suggests.\n",
        "\n",
        "The code for creating and manipulating tensors in PT is very similar to NumPy, although PT tensors have a natural support for GPU computations and are built in such a way to support automatic differentiation using backpropagation."
      ]
    },
    {
      "cell_type": "code",
      "execution_count": 3,
      "metadata": {
        "colab": {
          "base_uri": "https://localhost:8080/"
        },
        "id": "XLMs8Z5b6tlR",
        "outputId": "a710e519-6c0c-4f0f-a307-41947f6c1d07"
      },
      "outputs": [
        {
          "data": {
            "text/plain": [
              "tensor([[1., 2., 3.],\n",
              "        [4., 5., 6.]])"
            ]
          },
          "execution_count": 3,
          "metadata": {},
          "output_type": "execute_result"
        }
      ],
      "source": [
        "# creation of a tensor from a list of lists\n",
        "torch.Tensor([[1,2,3],[4,5,6]])"
      ]
    },
    {
      "cell_type": "code",
      "execution_count": 4,
      "metadata": {
        "colab": {
          "base_uri": "https://localhost:8080/"
        },
        "id": "9imdOrgY7H2c",
        "outputId": "7654e8e2-0b20-4419-a2a2-81ae3436e7aa"
      },
      "outputs": [
        {
          "data": {
            "text/plain": [
              "tensor([[0.3009, 0.5239, 0.7180],\n",
              "        [0.2220, 0.9134, 0.7751]])"
            ]
          },
          "execution_count": 4,
          "metadata": {},
          "output_type": "execute_result"
        }
      ],
      "source": [
        "torch.rand((2,3)) # as np.random.rand"
      ]
    },
    {
      "cell_type": "code",
      "execution_count": 5,
      "metadata": {},
      "outputs": [
        {
          "data": {
            "text/plain": [
              "tensor([[0.7612, 0.3328, 0.9369],\n",
              "        [0.3461, 0.3013, 0.1306]], dtype=torch.float64)"
            ]
          },
          "execution_count": 5,
          "metadata": {},
          "output_type": "execute_result"
        }
      ],
      "source": [
        "# creating a tensor from a numpy array\n",
        "torch.from_numpy(np.random.rand(2,3))"
      ]
    },
    {
      "cell_type": "code",
      "execution_count": 6,
      "metadata": {},
      "outputs": [
        {
          "data": {
            "text/plain": [
              "array([[0.9248069 , 0.72592247, 0.03610182],\n",
              "       [0.19745922, 0.40348262, 0.7676811 ]], dtype=float32)"
            ]
          },
          "execution_count": 6,
          "metadata": {},
          "output_type": "execute_result"
        }
      ],
      "source": [
        "# extracting a numpy array from a tensor\n",
        "torch.rand((2,3)).numpy()"
      ]
    },
    {
      "cell_type": "code",
      "execution_count": 11,
      "metadata": {},
      "outputs": [
        {
          "name": "stdout",
          "output_type": "stream",
          "text": [
            "tensor([[0.0387, 0.6206, 0.5877],\n",
            "        [0.0516, 0.3819, 0.3599]])\n"
          ]
        },
        {
          "ename": "AttributeError",
          "evalue": "'numpy.ndarray' object has no attribute 'square'",
          "output_type": "error",
          "traceback": [
            "\u001b[0;31m---------------------------------------------------------------------------\u001b[0m",
            "\u001b[0;31mAttributeError\u001b[0m                            Traceback (most recent call last)",
            "Cell \u001b[0;32mIn[11], line 3\u001b[0m\n\u001b[1;32m      1\u001b[0m \u001b[39m# PT is more object-oriented than numpy\u001b[39;00m\n\u001b[1;32m      2\u001b[0m \u001b[39mprint\u001b[39m(torch\u001b[39m.\u001b[39mrand((\u001b[39m2\u001b[39m,\u001b[39m3\u001b[39m))\u001b[39m.\u001b[39msquare())\n\u001b[0;32m----> 3\u001b[0m \u001b[39mprint\u001b[39m(np\u001b[39m.\u001b[39;49mrandom\u001b[39m.\u001b[39;49mrand(\u001b[39m2\u001b[39;49m,\u001b[39m3\u001b[39;49m)\u001b[39m.\u001b[39;49msquare()) \u001b[39m# << this does not work, must use np.square(np.random.rand(2,3))\u001b[39;00m\n",
            "\u001b[0;31mAttributeError\u001b[0m: 'numpy.ndarray' object has no attribute 'square'"
          ]
        }
      ],
      "source": [
        "# PT is more object-oriented than numpy\n",
        "print(torch.rand((2,3)).square())\n",
        "print(np.random.rand(2,3).square()) # << this does not work, must use np.square(np.random.rand(2,3))"
      ]
    },
    {
      "cell_type": "markdown",
      "metadata": {
        "id": "7MEoIwzWqxtD"
      },
      "source": [
        "## Training a NN with Keras\n",
        "\n",
        "NNs are **frequentist** machine learning models loosely inspired by their biological counterpart: the data enters the NN and passes through some intermediate steps of evaluation, usually encompassing:\n",
        "* a matrix-matrix (or vector-matrix) product between data and weights\n",
        "* a non-linear function applied element-wise to each of the outputs of the previous product, which forms a **latent** or **hidden layer** in the computation.\n",
        "  * the dimension of this latent space is fixed\n",
        "\n",
        "The output of the final computation of this sequence of steps is the output of our NN.\n",
        "\n",
        "The process is more easily represented by means of a computational graph, where we put the input on the left. We draw a **node** for each dimension of the input and stack the nodes vertically.\n",
        "We do the same with all the dimensions of the hidden layers and the output as well.\n",
        "The output is the rightmost point of this graph.\n",
        "\n",
        "In the simplest form of NN, the MultiLayer Perceptron (MLP), we have full connectivity between each node of each consecutive layer.\n",
        "This means that\n",
        "\n",
        "![](https://raw.githubusercontent.com/ansuini/DSSC_DL_2022/71a0768e2c9370a3e1fff29cddbf45f386df4410/labs/imgs/01/mlp_graph.jpg)"
      ]
    },
    {
      "cell_type": "markdown",
      "metadata": {
        "id": "DVqM583oyfiP"
      },
      "source": [
        "An MLP can be quickly built in PT using simple building blocks found in the submodule `torch.nn`.\n",
        "\n",
        "If the information if the NN flows sequentially (i.e., we compute the content of each hidden layer sequentially after the previous layer has been evaluated), we can encapsulate our NN using the very convenient `torch.nn.Sequential` structure.\n",
        "\n",
        "The `Sequential` structure is constructed from a variable number of input layers, like so"
      ]
    },
    {
      "cell_type": "code",
      "execution_count": 12,
      "metadata": {
        "colab": {
          "base_uri": "https://localhost:8080/"
        },
        "id": "Eq_NQJuhyerI",
        "outputId": "a4f483fc-7321-4e14-ac6a-fd36a6acbf4d"
      },
      "outputs": [
        {
          "data": {
            "text/plain": [
              "Sequential(\n",
              "  (0): Linear(in_features=1, out_features=16, bias=True)\n",
              "  (1): ReLU()\n",
              "  (2): Linear(in_features=16, out_features=16, bias=True)\n",
              "  (3): ReLU()\n",
              "  (4): Linear(in_features=16, out_features=1, bias=True)\n",
              ")"
            ]
          },
          "execution_count": 12,
          "metadata": {},
          "output_type": "execute_result"
        }
      ],
      "source": [
        "model = torch.nn.Sequential(\n",
        "    torch.nn.Linear(in_features=1, out_features=16),\n",
        "    torch.nn.ReLU(),\n",
        "    torch.nn.Linear(in_features=16, out_features=16),\n",
        "    torch.nn.ReLU(),\n",
        "    torch.nn.Linear(in_features=16, out_features=1)\n",
        ")\n",
        "\n",
        "model"
      ]
    },
    {
      "cell_type": "markdown",
      "metadata": {},
      "source": [
        "We prepare the structures for training:\n",
        "* a dataloader which wraps the dataset and samples the batches\n",
        "    * a dataset can be quickly created from tensors using the `TensorDataset` structure\n",
        "* an optimizer which updates the parameters of the model (needs `model.parameters()` as input)\n",
        "* a loss function (can be found under `torch.nn` as an object or under `torch.nn.functional` as a function*, for this level of detail it makes no actual difference which one we choose)\n",
        "* the number of epochs\n",
        "* the device on which we will train the model\n",
        "    * a common stratagem to use CUDA if available is the following:\n",
        "        ```python\n",
        "        device = \"cuda\" if torch.cuda.is_available() else \"cpu\"\n",
        "        ```"
      ]
    },
    {
      "cell_type": "code",
      "execution_count": 16,
      "metadata": {
        "colab": {
          "base_uri": "https://localhost:8080/"
        },
        "id": "nFDvjEBiPpaF",
        "outputId": "c9a4d191-2342-4ed8-8b71-f4906bc0736b"
      },
      "outputs": [
        {
          "name": "stdout",
          "output_type": "stream",
          "text": [
            "Epoch 1: loss of last batch 0.7160400152206421\n",
            "Epoch 2: loss of last batch 0.6059862971305847\n",
            "Epoch 3: loss of last batch 0.5211771726608276\n",
            "Epoch 4: loss of last batch 0.45107316970825195\n",
            "Epoch 5: loss of last batch 0.3918968141078949\n",
            "Epoch 6: loss of last batch 0.3417784571647644\n",
            "Epoch 7: loss of last batch 0.29966360330581665\n",
            "Epoch 8: loss of last batch 0.26279377937316895\n",
            "Epoch 9: loss of last batch 0.234528049826622\n",
            "Epoch 10: loss of last batch 0.21424105763435364\n",
            "Epoch 11: loss of last batch 0.20200882852077484\n",
            "Epoch 12: loss of last batch 0.19759197533130646\n",
            "Epoch 13: loss of last batch 0.19878847897052765\n",
            "Epoch 14: loss of last batch 0.20171888172626495\n",
            "Epoch 15: loss of last batch 0.2025289684534073\n",
            "Epoch 16: loss of last batch 0.19883449375629425\n",
            "Epoch 17: loss of last batch 0.1906624734401703\n",
            "Epoch 18: loss of last batch 0.17998529970645905\n",
            "Epoch 19: loss of last batch 0.16876442730426788\n",
            "Epoch 20: loss of last batch 0.15863069891929626\n",
            "Epoch 21: loss of last batch 0.15011964738368988\n",
            "Epoch 22: loss of last batch 0.14340630173683167\n",
            "Epoch 23: loss of last batch 0.13824203610420227\n",
            "Epoch 24: loss of last batch 0.1340884119272232\n",
            "Epoch 25: loss of last batch 0.1302671730518341\n",
            "Epoch 26: loss of last batch 0.12616445124149323\n",
            "Epoch 27: loss of last batch 0.12159786373376846\n",
            "Epoch 28: loss of last batch 0.11636389046907425\n",
            "Epoch 29: loss of last batch 0.11044616252183914\n",
            "Epoch 30: loss of last batch 0.10397882014513016\n",
            "Epoch 31: loss of last batch 0.09723437577486038\n",
            "Epoch 32: loss of last batch 0.09074287861585617\n",
            "Epoch 33: loss of last batch 0.0845232680439949\n",
            "Epoch 34: loss of last batch 0.07883719354867935\n",
            "Epoch 35: loss of last batch 0.07367929071187973\n",
            "Epoch 36: loss of last batch 0.06905708461999893\n",
            "Epoch 37: loss of last batch 0.0648576095700264\n",
            "Epoch 38: loss of last batch 0.06075639650225639\n",
            "Epoch 39: loss of last batch 0.05660838633775711\n",
            "Epoch 40: loss of last batch 0.052416879683732986\n",
            "Epoch 41: loss of last batch 0.048246290534734726\n",
            "Epoch 42: loss of last batch 0.04427909851074219\n",
            "Epoch 43: loss of last batch 0.04072156175971031\n",
            "Epoch 44: loss of last batch 0.037671513855457306\n",
            "Epoch 45: loss of last batch 0.03508419543504715\n",
            "Epoch 46: loss of last batch 0.03285481780767441\n",
            "Epoch 47: loss of last batch 0.030720965936779976\n",
            "Epoch 48: loss of last batch 0.028631670400500298\n",
            "Epoch 49: loss of last batch 0.026611756533384323\n",
            "Epoch 50: loss of last batch 0.02479153871536255\n",
            "Epoch 51: loss of last batch 0.023305876180529594\n",
            "Epoch 52: loss of last batch 0.02221723087131977\n",
            "Epoch 53: loss of last batch 0.021270258352160454\n",
            "Epoch 54: loss of last batch 0.0202197153121233\n",
            "Epoch 55: loss of last batch 0.019055180251598358\n",
            "Epoch 56: loss of last batch 0.017706837505102158\n",
            "Epoch 57: loss of last batch 0.016337163746356964\n",
            "Epoch 58: loss of last batch 0.015123077668249607\n",
            "Epoch 59: loss of last batch 0.01419055089354515\n",
            "Epoch 60: loss of last batch 0.013444365933537483\n",
            "Epoch 61: loss of last batch 0.012814385816454887\n",
            "Epoch 62: loss of last batch 0.012218537740409374\n",
            "Epoch 63: loss of last batch 0.01164303719997406\n",
            "Epoch 64: loss of last batch 0.011127742007374763\n",
            "Epoch 65: loss of last batch 0.010634605772793293\n",
            "Epoch 66: loss of last batch 0.010107147507369518\n",
            "Epoch 67: loss of last batch 0.009515817277133465\n",
            "Epoch 68: loss of last batch 0.008874966762959957\n",
            "Epoch 69: loss of last batch 0.008361688815057278\n",
            "Epoch 70: loss of last batch 0.007996512576937675\n",
            "Epoch 71: loss of last batch 0.007718406617641449\n",
            "Epoch 72: loss of last batch 0.007424480747431517\n",
            "Epoch 73: loss of last batch 0.007124127820134163\n",
            "Epoch 74: loss of last batch 0.006855774205178022\n",
            "Epoch 75: loss of last batch 0.0066494992934167385\n",
            "Epoch 76: loss of last batch 0.0064278519712388515\n",
            "Epoch 77: loss of last batch 0.006146709900349379\n",
            "Epoch 78: loss of last batch 0.005836936645209789\n",
            "Epoch 79: loss of last batch 0.005601801443845034\n",
            "Epoch 80: loss of last batch 0.00547027075663209\n",
            "Epoch 81: loss of last batch 0.005360928364098072\n",
            "Epoch 82: loss of last batch 0.005256102420389652\n",
            "Epoch 83: loss of last batch 0.005161849316209555\n",
            "Epoch 84: loss of last batch 0.005085865966975689\n",
            "Epoch 85: loss of last batch 0.005030632019042969\n",
            "Epoch 86: loss of last batch 0.004958605859428644\n",
            "Epoch 87: loss of last batch 0.0048665995709598064\n",
            "Epoch 88: loss of last batch 0.004785462282598019\n",
            "Epoch 89: loss of last batch 0.004722709767520428\n",
            "Epoch 90: loss of last batch 0.004663206171244383\n",
            "Epoch 91: loss of last batch 0.00460113724693656\n",
            "Epoch 92: loss of last batch 0.004566974472254515\n",
            "Epoch 93: loss of last batch 0.004526758566498756\n",
            "Epoch 94: loss of last batch 0.00447996286675334\n",
            "Epoch 95: loss of last batch 0.00445210887119174\n",
            "Epoch 96: loss of last batch 0.004428414162248373\n",
            "Epoch 97: loss of last batch 0.0043941279873251915\n",
            "Epoch 98: loss of last batch 0.004346340429037809\n",
            "Epoch 99: loss of last batch 0.004309539217501879\n",
            "Epoch 100: loss of last batch 0.00427867891266942\n",
            "Epoch 101: loss of last batch 0.004247645381838083\n",
            "Epoch 102: loss of last batch 0.004215354565531015\n",
            "Epoch 103: loss of last batch 0.004184315446764231\n",
            "Epoch 104: loss of last batch 0.004158487543463707\n",
            "Epoch 105: loss of last batch 0.004138513468205929\n",
            "Epoch 106: loss of last batch 0.004122494719922543\n",
            "Epoch 107: loss of last batch 0.00410457095131278\n",
            "Epoch 108: loss of last batch 0.004086932633072138\n",
            "Epoch 109: loss of last batch 0.004070388153195381\n",
            "Epoch 110: loss of last batch 0.004053120967000723\n",
            "Epoch 111: loss of last batch 0.0040356009267270565\n",
            "Epoch 112: loss of last batch 0.00402490608394146\n",
            "Epoch 113: loss of last batch 0.004014626611024141\n",
            "Epoch 114: loss of last batch 0.003995609935373068\n",
            "Epoch 115: loss of last batch 0.003979342523962259\n",
            "Epoch 116: loss of last batch 0.003968558739870787\n",
            "Epoch 117: loss of last batch 0.00395995331928134\n",
            "Epoch 118: loss of last batch 0.003952011466026306\n",
            "Epoch 119: loss of last batch 0.003942137584090233\n",
            "Epoch 120: loss of last batch 0.003931901417672634\n",
            "Epoch 121: loss of last batch 0.003923422656953335\n",
            "Epoch 122: loss of last batch 0.003915931098163128\n",
            "Epoch 123: loss of last batch 0.003905997844412923\n",
            "Epoch 124: loss of last batch 0.0038966224528849125\n",
            "Epoch 125: loss of last batch 0.003888617269694805\n",
            "Epoch 126: loss of last batch 0.0038808768149465322\n",
            "Epoch 127: loss of last batch 0.0038724371697753668\n",
            "Epoch 128: loss of last batch 0.003857535310089588\n",
            "Epoch 129: loss of last batch 0.0038476784247905016\n",
            "Epoch 130: loss of last batch 0.0038407850079238415\n",
            "Epoch 131: loss of last batch 0.003833192866295576\n",
            "Epoch 132: loss of last batch 0.0038261613808572292\n",
            "Epoch 133: loss of last batch 0.0038198567926883698\n",
            "Epoch 134: loss of last batch 0.0038132930640131235\n",
            "Epoch 135: loss of last batch 0.003806598484516144\n",
            "Epoch 136: loss of last batch 0.003807589178904891\n",
            "Epoch 137: loss of last batch 0.003806441556662321\n",
            "Epoch 138: loss of last batch 0.00380410416983068\n",
            "Epoch 139: loss of last batch 0.0038014473393559456\n",
            "Epoch 140: loss of last batch 0.003798892954364419\n",
            "Epoch 141: loss of last batch 0.0037961644120514393\n",
            "Epoch 142: loss of last batch 0.0037927539087831974\n",
            "Epoch 143: loss of last batch 0.003789622336626053\n",
            "Epoch 144: loss of last batch 0.0037862241733819246\n",
            "Epoch 145: loss of last batch 0.003781830659136176\n",
            "Epoch 146: loss of last batch 0.0037806362379342318\n",
            "Epoch 147: loss of last batch 0.003778816433623433\n",
            "Epoch 148: loss of last batch 0.0037761752028018236\n",
            "Epoch 149: loss of last batch 0.0037733432836830616\n",
            "Epoch 150: loss of last batch 0.0037749826442450285\n",
            "Epoch 151: loss of last batch 0.0037739863619208336\n",
            "Epoch 152: loss of last batch 0.0037714585196226835\n",
            "Epoch 153: loss of last batch 0.003769522299990058\n",
            "Epoch 154: loss of last batch 0.0037724378053098917\n",
            "Epoch 155: loss of last batch 0.003778835292905569\n",
            "Epoch 156: loss of last batch 0.0037716953083872795\n",
            "Epoch 157: loss of last batch 0.0037713502533733845\n",
            "Epoch 158: loss of last batch 0.003767444286495447\n",
            "Epoch 159: loss of last batch 0.0037645394913852215\n",
            "Epoch 160: loss of last batch 0.0037621494848281145\n",
            "Epoch 161: loss of last batch 0.003754980629310012\n",
            "Epoch 162: loss of last batch 0.003749980591237545\n",
            "Epoch 163: loss of last batch 0.0037483416963368654\n",
            "Epoch 164: loss of last batch 0.0037517596501857042\n",
            "Epoch 165: loss of last batch 0.0037554390728473663\n",
            "Epoch 166: loss of last batch 0.0037559063639491796\n",
            "Epoch 167: loss of last batch 0.00374989933334291\n",
            "Epoch 168: loss of last batch 0.0037452811375260353\n",
            "Epoch 169: loss of last batch 0.00374412233941257\n",
            "Epoch 170: loss of last batch 0.003745905589312315\n",
            "Epoch 171: loss of last batch 0.003745174966752529\n",
            "Epoch 172: loss of last batch 0.0037411684170365334\n",
            "Epoch 173: loss of last batch 0.0037390717770904303\n",
            "Epoch 174: loss of last batch 0.0037376503460109234\n",
            "Epoch 175: loss of last batch 0.003733146470040083\n",
            "Epoch 176: loss of last batch 0.0037332873325794935\n",
            "Epoch 177: loss of last batch 0.0037349124904721975\n",
            "Epoch 178: loss of last batch 0.0037342568393796682\n",
            "Epoch 179: loss of last batch 0.003732336452230811\n",
            "Epoch 180: loss of last batch 0.0037307259626686573\n",
            "Epoch 181: loss of last batch 0.0037281413096934557\n",
            "Epoch 182: loss of last batch 0.00372532126493752\n",
            "Epoch 183: loss of last batch 0.003725905902683735\n",
            "Epoch 184: loss of last batch 0.0037258064839988947\n",
            "Epoch 185: loss of last batch 0.003723135916516185\n",
            "Epoch 186: loss of last batch 0.003721328917890787\n",
            "Epoch 187: loss of last batch 0.0037217698991298676\n",
            "Epoch 188: loss of last batch 0.0037196041084825993\n",
            "Epoch 189: loss of last batch 0.0037180378567427397\n",
            "Epoch 190: loss of last batch 0.0037194869946688414\n",
            "Epoch 191: loss of last batch 0.003718459513038397\n",
            "Epoch 192: loss of last batch 0.0037158066406846046\n",
            "Epoch 193: loss of last batch 0.0037139668129384518\n",
            "Epoch 194: loss of last batch 0.0037135921884328127\n",
            "Epoch 195: loss of last batch 0.0037117069587111473\n",
            "Epoch 196: loss of last batch 0.0037102256901562214\n",
            "Epoch 197: loss of last batch 0.0037091949488967657\n",
            "Epoch 198: loss of last batch 0.0037080892361700535\n",
            "Epoch 199: loss of last batch 0.0037072484847158194\n",
            "Epoch 200: loss of last batch 0.0037054489366710186\n",
            "Epoch 201: loss of last batch 0.003704926697537303\n",
            "Epoch 202: loss of last batch 0.0037044344935566187\n",
            "Epoch 203: loss of last batch 0.0037033569533377886\n",
            "Epoch 204: loss of last batch 0.0037018039729446173\n",
            "Epoch 205: loss of last batch 0.0037009993102401495\n",
            "Epoch 206: loss of last batch 0.003700733184814453\n",
            "Epoch 207: loss of last batch 0.0037001066375523806\n",
            "Epoch 208: loss of last batch 0.003698587417602539\n",
            "Epoch 209: loss of last batch 0.0036987178027629852\n",
            "Epoch 210: loss of last batch 0.003697501728311181\n",
            "Epoch 211: loss of last batch 0.003695541527122259\n",
            "Epoch 212: loss of last batch 0.0036949862260371447\n",
            "Epoch 213: loss of last batch 0.0036937969271093607\n",
            "Epoch 214: loss of last batch 0.003692760830745101\n",
            "Epoch 215: loss of last batch 0.003690637880936265\n",
            "Epoch 216: loss of last batch 0.003691263496875763\n",
            "Epoch 217: loss of last batch 0.0036901773419231176\n",
            "Epoch 218: loss of last batch 0.003688603872433305\n",
            "Epoch 219: loss of last batch 0.003690816927701235\n",
            "Epoch 220: loss of last batch 0.0036879724357277155\n",
            "Epoch 221: loss of last batch 0.003687599441036582\n",
            "Epoch 222: loss of last batch 0.0036855372600257397\n",
            "Epoch 223: loss of last batch 0.0036873682402074337\n",
            "Epoch 224: loss of last batch 0.003685993142426014\n",
            "Epoch 225: loss of last batch 0.003684512572363019\n",
            "Epoch 226: loss of last batch 0.003683869494125247\n",
            "Epoch 227: loss of last batch 0.003684147959575057\n",
            "Epoch 228: loss of last batch 0.0036814017221331596\n",
            "Epoch 229: loss of last batch 0.0036791381426155567\n",
            "Epoch 230: loss of last batch 0.003679628949612379\n",
            "Epoch 231: loss of last batch 0.0036779725924134254\n",
            "Epoch 232: loss of last batch 0.003676884574815631\n",
            "Epoch 233: loss of last batch 0.0036762813106179237\n",
            "Epoch 234: loss of last batch 0.003674952546134591\n",
            "Epoch 235: loss of last batch 0.0036776356864720583\n",
            "Epoch 236: loss of last batch 0.003673137165606022\n",
            "Epoch 237: loss of last batch 0.0036738303024321795\n",
            "Epoch 238: loss of last batch 0.003673188854008913\n",
            "Epoch 239: loss of last batch 0.0036716137547045946\n",
            "Epoch 240: loss of last batch 0.0036699995398521423\n",
            "Epoch 241: loss of last batch 0.003670749254524708\n",
            "Epoch 242: loss of last batch 0.0036685923114418983\n",
            "Epoch 243: loss of last batch 0.0036634027492254972\n",
            "Epoch 244: loss of last batch 0.003659573383629322\n",
            "Epoch 245: loss of last batch 0.0036586734931916\n",
            "Epoch 246: loss of last batch 0.0036569104995578527\n",
            "Epoch 247: loss of last batch 0.0036545901093631983\n",
            "Epoch 248: loss of last batch 0.0036543114110827446\n",
            "Epoch 249: loss of last batch 0.0036533442325890064\n",
            "Epoch 250: loss of last batch 0.0036529030185192823\n",
            "Epoch 251: loss of last batch 0.003650638274848461\n",
            "Epoch 252: loss of last batch 0.0036506089381873608\n",
            "Epoch 253: loss of last batch 0.00364922103472054\n",
            "Epoch 254: loss of last batch 0.003649843391031027\n",
            "Epoch 255: loss of last batch 0.003649308579042554\n",
            "Epoch 256: loss of last batch 0.003647082019597292\n",
            "Epoch 257: loss of last batch 0.0036461511626839638\n",
            "Epoch 258: loss of last batch 0.0036447709426283836\n",
            "Epoch 259: loss of last batch 0.0036439148243516684\n",
            "Epoch 260: loss of last batch 0.0036426594015210867\n",
            "Epoch 261: loss of last batch 0.0036408465821295977\n",
            "Epoch 262: loss of last batch 0.003643154865130782\n",
            "Epoch 263: loss of last batch 0.0036404873244464397\n",
            "Epoch 264: loss of last batch 0.0036393702030181885\n",
            "Epoch 265: loss of last batch 0.003611545544117689\n",
            "Epoch 266: loss of last batch 0.003601720789447427\n",
            "Epoch 267: loss of last batch 0.0036055524833500385\n",
            "Epoch 268: loss of last batch 0.003609317122027278\n",
            "Epoch 269: loss of last batch 0.003613486420363188\n",
            "Epoch 270: loss of last batch 0.0036179565358906984\n",
            "Epoch 271: loss of last batch 0.0036199691239744425\n",
            "Epoch 272: loss of last batch 0.0036145036574453115\n",
            "Epoch 273: loss of last batch 0.003609179053455591\n",
            "Epoch 274: loss of last batch 0.0036039797123521566\n",
            "Epoch 275: loss of last batch 0.00360510079190135\n",
            "Epoch 276: loss of last batch 0.0035982728004455566\n",
            "Epoch 277: loss of last batch 0.0035937351640313864\n",
            "Epoch 278: loss of last batch 0.0035883295349776745\n",
            "Epoch 279: loss of last batch 0.0035845141392201185\n",
            "Epoch 280: loss of last batch 0.003590361448004842\n",
            "Epoch 281: loss of last batch 0.0035857351031154394\n",
            "Epoch 282: loss of last batch 0.0035973889753222466\n",
            "Epoch 283: loss of last batch 0.0036380256060510874\n",
            "Epoch 284: loss of last batch 0.003670469159260392\n",
            "Epoch 285: loss of last batch 0.0036704621743410826\n",
            "Epoch 286: loss of last batch 0.0036414682399481535\n",
            "Epoch 287: loss of last batch 0.0036062293220311403\n",
            "Epoch 288: loss of last batch 0.0035912611056119204\n",
            "Epoch 289: loss of last batch 0.0035916368942707777\n",
            "Epoch 290: loss of last batch 0.003608446568250656\n",
            "Epoch 291: loss of last batch 0.0036258185282349586\n",
            "Epoch 292: loss of last batch 0.003629721701145172\n",
            "Epoch 293: loss of last batch 0.0036119455471634865\n",
            "Epoch 294: loss of last batch 0.0035884054377675056\n",
            "Epoch 295: loss of last batch 0.0035721962340176105\n",
            "Epoch 296: loss of last batch 0.003570138243958354\n",
            "Epoch 297: loss of last batch 0.003600307973101735\n",
            "Epoch 298: loss of last batch 0.003651839680969715\n",
            "Epoch 299: loss of last batch 0.003676634980365634\n",
            "Epoch 300: loss of last batch 0.0035885837860405445\n",
            "Epoch 301: loss of last batch 0.0035246217157691717\n",
            "Epoch 302: loss of last batch 0.0035298094153404236\n",
            "Epoch 303: loss of last batch 0.0035407396499067545\n",
            "Epoch 304: loss of last batch 0.0035601966083049774\n",
            "Epoch 305: loss of last batch 0.0035485783591866493\n",
            "Epoch 306: loss of last batch 0.003552175359800458\n",
            "Epoch 307: loss of last batch 0.003555028233677149\n",
            "Epoch 308: loss of last batch 0.0035520526580512524\n",
            "Epoch 309: loss of last batch 0.003543651197105646\n",
            "Epoch 310: loss of last batch 0.003533468348905444\n",
            "Epoch 311: loss of last batch 0.003519597463309765\n",
            "Epoch 312: loss of last batch 0.0035078346263617277\n",
            "Epoch 313: loss of last batch 0.0035008571576327085\n",
            "Epoch 314: loss of last batch 0.0035363591741770506\n",
            "Epoch 315: loss of last batch 0.00354896136559546\n",
            "Epoch 316: loss of last batch 0.0035442104563117027\n",
            "Epoch 317: loss of last batch 0.003581107361242175\n",
            "Epoch 318: loss of last batch 0.0035820084158331156\n",
            "Epoch 319: loss of last batch 0.0035489678848534822\n",
            "Epoch 320: loss of last batch 0.003536502132192254\n",
            "Epoch 321: loss of last batch 0.0035346767399460077\n",
            "Epoch 322: loss of last batch 0.003536426229402423\n",
            "Epoch 323: loss of last batch 0.0035312448162585497\n",
            "Epoch 324: loss of last batch 0.003524908097460866\n",
            "Epoch 325: loss of last batch 0.0035288294311612844\n",
            "Epoch 326: loss of last batch 0.003525457112118602\n",
            "Epoch 327: loss of last batch 0.003533740760758519\n",
            "Epoch 328: loss of last batch 0.0035274471156299114\n",
            "Epoch 329: loss of last batch 0.0035120355896651745\n",
            "Epoch 330: loss of last batch 0.00349600613117218\n",
            "Epoch 331: loss of last batch 0.0035001172218471766\n",
            "Epoch 332: loss of last batch 0.003497201716527343\n",
            "Epoch 333: loss of last batch 0.003525195177644491\n",
            "Epoch 334: loss of last batch 0.003604193450883031\n",
            "Epoch 335: loss of last batch 0.0036586180794984102\n",
            "Epoch 336: loss of last batch 0.0036490687634795904\n",
            "Epoch 337: loss of last batch 0.0035762132611125708\n",
            "Epoch 338: loss of last batch 0.0035081517416983843\n",
            "Epoch 339: loss of last batch 0.0035117515362799168\n",
            "Epoch 340: loss of last batch 0.0035618857946246862\n",
            "Epoch 341: loss of last batch 0.0036699704360216856\n",
            "Epoch 342: loss of last batch 0.0037038770969957113\n",
            "Epoch 343: loss of last batch 0.0036213682033121586\n",
            "Epoch 344: loss of last batch 0.003514259122312069\n",
            "Epoch 345: loss of last batch 0.003496405202895403\n",
            "Epoch 346: loss of last batch 0.0035572187043726444\n",
            "Epoch 347: loss of last batch 0.0036119555588811636\n",
            "Epoch 348: loss of last batch 0.0036431129556149244\n",
            "Epoch 349: loss of last batch 0.0036040686536580324\n",
            "Epoch 350: loss of last batch 0.0035517928190529346\n",
            "Epoch 351: loss of last batch 0.003497793572023511\n",
            "Epoch 352: loss of last batch 0.0034847562201321125\n",
            "Epoch 353: loss of last batch 0.003517943201586604\n",
            "Epoch 354: loss of last batch 0.0035429922863841057\n",
            "Epoch 355: loss of last batch 0.0035248142667114735\n",
            "Epoch 356: loss of last batch 0.003485762281343341\n",
            "Epoch 357: loss of last batch 0.003474969184026122\n",
            "Epoch 358: loss of last batch 0.0034966948442161083\n",
            "Epoch 359: loss of last batch 0.0034868032671511173\n",
            "Epoch 360: loss of last batch 0.0034756259992718697\n",
            "Epoch 361: loss of last batch 0.0034716124646365643\n",
            "Epoch 362: loss of last batch 0.003483362728729844\n",
            "Epoch 363: loss of last batch 0.003518878249451518\n",
            "Epoch 364: loss of last batch 0.003539049532264471\n",
            "Epoch 365: loss of last batch 0.0035148749593645334\n",
            "Epoch 366: loss of last batch 0.0034792525693774223\n",
            "Epoch 367: loss of last batch 0.0034684136044234037\n",
            "Epoch 368: loss of last batch 0.0034858526196330786\n",
            "Epoch 369: loss of last batch 0.0035368790850043297\n",
            "Epoch 370: loss of last batch 0.003558195661753416\n",
            "Epoch 371: loss of last batch 0.0035555895883589983\n",
            "Epoch 372: loss of last batch 0.003505408763885498\n",
            "Epoch 373: loss of last batch 0.0034664853010326624\n",
            "Epoch 374: loss of last batch 0.003475378965958953\n",
            "Epoch 375: loss of last batch 0.0035078004002571106\n",
            "Epoch 376: loss of last batch 0.0035473257303237915\n",
            "Epoch 377: loss of last batch 0.003562004305422306\n",
            "Epoch 378: loss of last batch 0.003541233716532588\n",
            "Epoch 379: loss of last batch 0.0034847636707127094\n",
            "Epoch 380: loss of last batch 0.00345883471891284\n",
            "Epoch 381: loss of last batch 0.003478322410956025\n",
            "Epoch 382: loss of last batch 0.0035090141464024782\n",
            "Epoch 383: loss of last batch 0.003537221811711788\n",
            "Epoch 384: loss of last batch 0.003525613807141781\n",
            "Epoch 385: loss of last batch 0.003503842046484351\n",
            "Epoch 386: loss of last batch 0.003469406859949231\n",
            "Epoch 387: loss of last batch 0.003457548562437296\n",
            "Epoch 388: loss of last batch 0.0034743298310786486\n",
            "Epoch 389: loss of last batch 0.0034936696756631136\n",
            "Epoch 390: loss of last batch 0.0035236079711467028\n",
            "Epoch 391: loss of last batch 0.003514899406582117\n",
            "Epoch 392: loss of last batch 0.003503270447254181\n",
            "Epoch 393: loss of last batch 0.003469868330284953\n",
            "Epoch 394: loss of last batch 0.0034509410616010427\n",
            "Epoch 395: loss of last batch 0.003460618434473872\n",
            "Epoch 396: loss of last batch 0.003485028864815831\n",
            "Epoch 397: loss of last batch 0.003511428600177169\n",
            "Epoch 398: loss of last batch 0.003514049109071493\n",
            "Epoch 399: loss of last batch 0.003502113511785865\n",
            "Epoch 400: loss of last batch 0.003468153066933155\n",
            "Epoch 401: loss of last batch 0.003448669333010912\n",
            "Epoch 402: loss of last batch 0.003458465216681361\n",
            "Epoch 403: loss of last batch 0.0034786476753652096\n",
            "Epoch 404: loss of last batch 0.0035111084580421448\n",
            "Epoch 405: loss of last batch 0.0035244361497461796\n",
            "Epoch 406: loss of last batch 0.003524265717715025\n",
            "Epoch 407: loss of last batch 0.0034824798349291086\n",
            "Epoch 408: loss of last batch 0.003447652794420719\n",
            "Epoch 409: loss of last batch 0.003448052564635873\n",
            "Epoch 410: loss of last batch 0.003471369156613946\n",
            "Epoch 411: loss of last batch 0.003510980634018779\n",
            "Epoch 412: loss of last batch 0.0035294180270284414\n",
            "Epoch 413: loss of last batch 0.0035231811925768852\n",
            "Epoch 414: loss of last batch 0.003478346625342965\n",
            "Epoch 415: loss of last batch 0.003443283261731267\n",
            "Epoch 416: loss of last batch 0.003448023460805416\n",
            "Epoch 417: loss of last batch 0.003475286066532135\n",
            "Epoch 418: loss of last batch 0.003532934235408902\n",
            "Epoch 419: loss of last batch 0.003552178619429469\n",
            "Epoch 420: loss of last batch 0.0035552021581679583\n",
            "Epoch 421: loss of last batch 0.003498236881569028\n",
            "Epoch 422: loss of last batch 0.0034431549720466137\n",
            "Epoch 423: loss of last batch 0.0034421079326421022\n",
            "Epoch 424: loss of last batch 0.0034794884268194437\n",
            "Epoch 425: loss of last batch 0.003528938163071871\n",
            "Epoch 426: loss of last batch 0.003552315291017294\n",
            "Epoch 427: loss of last batch 0.0035315153654664755\n",
            "Epoch 428: loss of last batch 0.003470331197604537\n",
            "Epoch 429: loss of last batch 0.00343633652664721\n",
            "Epoch 430: loss of last batch 0.003452785313129425\n",
            "Epoch 431: loss of last batch 0.003488182555884123\n",
            "Epoch 432: loss of last batch 0.0035351605620235205\n",
            "Epoch 433: loss of last batch 0.003540890756994486\n",
            "Epoch 434: loss of last batch 0.0035214959643781185\n",
            "Epoch 435: loss of last batch 0.003462535561993718\n",
            "Epoch 436: loss of last batch 0.0034309362526983023\n",
            "Epoch 437: loss of last batch 0.003448886564001441\n",
            "Epoch 438: loss of last batch 0.0034848377108573914\n",
            "Epoch 439: loss of last batch 0.0035169641487300396\n",
            "Epoch 440: loss of last batch 0.0035152966156601906\n",
            "Epoch 441: loss of last batch 0.0034915031865239143\n",
            "Epoch 442: loss of last batch 0.0034458418376743793\n",
            "Epoch 443: loss of last batch 0.0034299304243177176\n",
            "Epoch 444: loss of last batch 0.0034493659622967243\n",
            "Epoch 445: loss of last batch 0.003472712589427829\n",
            "Epoch 446: loss of last batch 0.0035071163438260555\n",
            "Epoch 447: loss of last batch 0.0035029160790145397\n",
            "Epoch 448: loss of last batch 0.003490607952699065\n",
            "Epoch 449: loss of last batch 0.0034507892560213804\n",
            "Epoch 450: loss of last batch 0.003424648428335786\n",
            "Epoch 451: loss of last batch 0.003434270154684782\n",
            "Epoch 452: loss of last batch 0.003459723200649023\n",
            "Epoch 453: loss of last batch 0.0034842879977077246\n",
            "Epoch 454: loss of last batch 0.003492694813758135\n",
            "Epoch 455: loss of last batch 0.0034792611841112375\n",
            "Epoch 456: loss of last batch 0.003445062320679426\n",
            "Epoch 457: loss of last batch 0.0034230882301926613\n",
            "Epoch 458: loss of last batch 0.003432564903050661\n",
            "Epoch 459: loss of last batch 0.0034557876642793417\n",
            "Epoch 460: loss of last batch 0.0035029693972319365\n",
            "Epoch 461: loss of last batch 0.0035076714120805264\n",
            "Epoch 462: loss of last batch 0.003508391324430704\n",
            "Epoch 463: loss of last batch 0.0034644620027393103\n",
            "Epoch 464: loss of last batch 0.0034238228108733892\n",
            "Epoch 465: loss of last batch 0.0034227080177515745\n",
            "Epoch 466: loss of last batch 0.003452311735600233\n",
            "Epoch 467: loss of last batch 0.003495727898553014\n",
            "Epoch 468: loss of last batch 0.003518087090924382\n",
            "Epoch 469: loss of last batch 0.003506768262013793\n",
            "Epoch 470: loss of last batch 0.0034550486598163843\n",
            "Epoch 471: loss of last batch 0.003418953390792012\n",
            "Epoch 472: loss of last batch 0.0034274912904947996\n",
            "Epoch 473: loss of last batch 0.0034599201753735542\n",
            "Epoch 474: loss of last batch 0.003513496834784746\n",
            "Epoch 475: loss of last batch 0.003535640425980091\n",
            "Epoch 476: loss of last batch 0.003527189837768674\n",
            "Epoch 477: loss of last batch 0.0034647781867533922\n",
            "Epoch 478: loss of last batch 0.0034150376450270414\n",
            "Epoch 479: loss of last batch 0.003423321293666959\n",
            "Epoch 480: loss of last batch 0.0034643770195543766\n",
            "Epoch 481: loss of last batch 0.0035140416584908962\n",
            "Epoch 482: loss of last batch 0.00353049929253757\n",
            "Epoch 483: loss of last batch 0.0035040522925555706\n",
            "Epoch 484: loss of last batch 0.0034429500810801983\n",
            "Epoch 485: loss of last batch 0.0034121766220778227\n",
            "Epoch 486: loss of last batch 0.003433185862377286\n",
            "Epoch 487: loss of last batch 0.0034693998750299215\n",
            "Epoch 488: loss of last batch 0.0035149778705090284\n",
            "Epoch 489: loss of last batch 0.0035165671724826097\n",
            "Epoch 490: loss of last batch 0.0034935844596475363\n",
            "Epoch 491: loss of last batch 0.0034365251194685698\n",
            "Epoch 492: loss of last batch 0.0034085086081176996\n",
            "Epoch 493: loss of last batch 0.003426701296120882\n",
            "Epoch 494: loss of last batch 0.0034584158565849066\n",
            "Epoch 495: loss of last batch 0.003482562955468893\n",
            "Epoch 496: loss of last batch 0.0034847527276724577\n",
            "Epoch 497: loss of last batch 0.0034580458886921406\n",
            "Epoch 498: loss of last batch 0.0034174167085438967\n",
            "Epoch 499: loss of last batch 0.0034050247631967068\n",
            "Epoch 500: loss of last batch 0.003425589995458722\n",
            "Epoch 501: loss of last batch 0.0034475731663405895\n",
            "Epoch 502: loss of last batch 0.0034859327133744955\n",
            "Epoch 503: loss of last batch 0.003482118481770158\n",
            "Epoch 504: loss of last batch 0.0034717058297246695\n",
            "Epoch 505: loss of last batch 0.0034312033094465733\n",
            "Epoch 506: loss of last batch 0.003402754431590438\n",
            "Epoch 507: loss of last batch 0.003407926531508565\n",
            "Epoch 508: loss of last batch 0.0034309751354157925\n",
            "Epoch 509: loss of last batch 0.003459675470367074\n",
            "Epoch 510: loss of last batch 0.003476395271718502\n",
            "Epoch 511: loss of last batch 0.003468264127150178\n",
            "Epoch 512: loss of last batch 0.003429508302360773\n",
            "Epoch 513: loss of last batch 0.0034011395182460546\n",
            "Epoch 514: loss of last batch 0.003407676238566637\n",
            "Epoch 515: loss of last batch 0.003433313686400652\n",
            "Epoch 516: loss of last batch 0.003480156185105443\n",
            "Epoch 517: loss of last batch 0.0034982452634721994\n",
            "Epoch 518: loss of last batch 0.00350021431222558\n",
            "Epoch 519: loss of last batch 0.003453667974099517\n",
            "Epoch 520: loss of last batch 0.003408573567867279\n",
            "Epoch 521: loss of last batch 0.003401240799576044\n",
            "Epoch 522: loss of last batch 0.0034286591690033674\n",
            "Epoch 523: loss of last batch 0.0034792828373610973\n",
            "Epoch 524: loss of last batch 0.0035085876006633043\n",
            "Epoch 525: loss of last batch 0.0035004804376512766\n",
            "Epoch 526: loss of last batch 0.0034483589697629213\n",
            "Epoch 527: loss of last batch 0.0033957669511437416\n",
            "Epoch 528: loss of last batch 0.003403183538466692\n",
            "Epoch 529: loss of last batch 0.0034381842706352472\n",
            "Epoch 530: loss of last batch 0.0034954920411109924\n",
            "Epoch 531: loss of last batch 0.0035219131968915462\n",
            "Epoch 532: loss of last batch 0.0035126334987580776\n",
            "Epoch 533: loss of last batch 0.0034463515039533377\n",
            "Epoch 534: loss of last batch 0.003395570907741785\n",
            "Epoch 535: loss of last batch 0.0034047593362629414\n",
            "Epoch 536: loss of last batch 0.0034466192591935396\n",
            "Epoch 537: loss of last batch 0.003494047559797764\n",
            "Epoch 538: loss of last batch 0.0035074360202997923\n",
            "Epoch 539: loss of last batch 0.003482417669147253\n",
            "Epoch 540: loss of last batch 0.003419978078454733\n",
            "Epoch 541: loss of last batch 0.0033872227650135756\n",
            "Epoch 542: loss of last batch 0.003413018537685275\n",
            "Epoch 543: loss of last batch 0.0034423142205923796\n",
            "Epoch 544: loss of last batch 0.003481086576357484\n",
            "Epoch 545: loss of last batch 0.0034906486980617046\n",
            "Epoch 546: loss of last batch 0.003471693256869912\n",
            "Epoch 547: loss of last batch 0.003417311469092965\n",
            "Epoch 548: loss of last batch 0.0033862844575196505\n",
            "Epoch 549: loss of last batch 0.003403141861781478\n",
            "Epoch 550: loss of last batch 0.0034375435207039118\n",
            "Epoch 551: loss of last batch 0.0034780423156917095\n",
            "Epoch 552: loss of last batch 0.0034767703618854284\n",
            "Epoch 553: loss of last batch 0.003455790923908353\n",
            "Epoch 554: loss of last batch 0.0034071155823767185\n",
            "Epoch 555: loss of last batch 0.003381723305210471\n",
            "Epoch 556: loss of last batch 0.0033989588264375925\n",
            "Epoch 557: loss of last batch 0.0034284787252545357\n",
            "Epoch 558: loss of last batch 0.003465469228103757\n",
            "Epoch 559: loss of last batch 0.0034744024742394686\n",
            "Epoch 560: loss of last batch 0.003461743937805295\n",
            "Epoch 561: loss of last batch 0.003414842067286372\n",
            "Epoch 562: loss of last batch 0.003383383620530367\n",
            "Epoch 563: loss of last batch 0.0033929531928151846\n",
            "Epoch 564: loss of last batch 0.0034225645940750837\n",
            "Epoch 565: loss of last batch 0.0034621183294802904\n",
            "Epoch 566: loss of last batch 0.0034702166449278593\n",
            "Epoch 567: loss of last batch 0.003454924328252673\n",
            "Epoch 568: loss of last batch 0.0034090972039848566\n",
            "Epoch 569: loss of last batch 0.003377636196091771\n",
            "Epoch 570: loss of last batch 0.0033903764560818672\n",
            "Epoch 571: loss of last batch 0.0034135556779801846\n",
            "Epoch 572: loss of last batch 0.003452644683420658\n",
            "Epoch 573: loss of last batch 0.0034689384046941996\n",
            "Epoch 574: loss of last batch 0.0034670380409806967\n",
            "Epoch 575: loss of last batch 0.0034202502574771643\n",
            "Epoch 576: loss of last batch 0.003379584290087223\n",
            "Epoch 577: loss of last batch 0.003383397590368986\n",
            "Epoch 578: loss of last batch 0.0034138604532927275\n",
            "Epoch 579: loss of last batch 0.0034592251759022474\n",
            "Epoch 580: loss of last batch 0.0034758299589157104\n",
            "Epoch 581: loss of last batch 0.0034663185942918062\n",
            "Epoch 582: loss of last batch 0.0034147961996495724\n",
            "Epoch 583: loss of last batch 0.0033764217514544725\n",
            "Epoch 584: loss of last batch 0.003381893737241626\n",
            "Epoch 585: loss of last batch 0.003416373860090971\n",
            "Epoch 586: loss of last batch 0.0034690271131694317\n",
            "Epoch 587: loss of last batch 0.0034983742516487837\n",
            "Epoch 588: loss of last batch 0.0034925455693155527\n",
            "Epoch 589: loss of last batch 0.003427149960771203\n",
            "Epoch 590: loss of last batch 0.003375330241397023\n",
            "Epoch 591: loss of last batch 0.003382308641448617\n",
            "Epoch 592: loss of last batch 0.003422461450099945\n",
            "Epoch 593: loss of last batch 0.0034775242675095797\n",
            "Epoch 594: loss of last batch 0.003493116470053792\n",
            "Epoch 595: loss of last batch 0.003470467636361718\n",
            "Epoch 596: loss of last batch 0.0034096473827958107\n",
            "Epoch 597: loss of last batch 0.0033676400780677795\n",
            "Epoch 598: loss of last batch 0.0033835237845778465\n",
            "Epoch 599: loss of last batch 0.003420853288844228\n",
            "Epoch 600: loss of last batch 0.0034677523653954268\n",
            "Epoch 601: loss of last batch 0.0034845166373997927\n",
            "Epoch 602: loss of last batch 0.003468823619186878\n",
            "Epoch 603: loss of last batch 0.0034067807719111443\n",
            "Epoch 604: loss of last batch 0.003367343218997121\n",
            "Epoch 605: loss of last batch 0.0033817156217992306\n",
            "Epoch 606: loss of last batch 0.0034188649151474237\n",
            "Epoch 607: loss of last batch 0.0034653921611607075\n",
            "Epoch 608: loss of last batch 0.0034697798546403646\n",
            "Epoch 609: loss of last batch 0.0034460732713341713\n",
            "Epoch 610: loss of last batch 0.003388833487406373\n",
            "Epoch 611: loss of last batch 0.003361355746164918\n",
            "Epoch 612: loss of last batch 0.003382283728569746\n",
            "Epoch 613: loss of last batch 0.0034156173933297396\n",
            "Epoch 614: loss of last batch 0.0034560896456241608\n",
            "Epoch 615: loss of last batch 0.0034632778260856867\n",
            "Epoch 616: loss of last batch 0.003446408547461033\n",
            "Epoch 617: loss of last batch 0.0033932188525795937\n",
            "Epoch 618: loss of last batch 0.003360467730090022\n",
            "Epoch 619: loss of last batch 0.0033727537374943495\n",
            "Epoch 620: loss of last batch 0.003404594026505947\n",
            "Epoch 621: loss of last batch 0.0034528481774032116\n",
            "Epoch 622: loss of last batch 0.0034524749498814344\n",
            "Epoch 623: loss of last batch 0.0034356999676674604\n",
            "Epoch 624: loss of last batch 0.003385981312021613\n",
            "Epoch 625: loss of last batch 0.0033579692244529724\n",
            "Epoch 626: loss of last batch 0.0033732072915881872\n",
            "Epoch 627: loss of last batch 0.0034025711938738823\n",
            "Epoch 628: loss of last batch 0.003441902343183756\n",
            "Epoch 629: loss of last batch 0.00345514970831573\n",
            "Epoch 630: loss of last batch 0.0034436259884387255\n",
            "Epoch 631: loss of last batch 0.0033919881097972393\n",
            "Epoch 632: loss of last batch 0.003355335211381316\n",
            "Epoch 633: loss of last batch 0.003367941128090024\n",
            "Epoch 634: loss of last batch 0.00339619442820549\n",
            "Epoch 635: loss of last batch 0.0034439368173480034\n",
            "Epoch 636: loss of last batch 0.0034539548214524984\n",
            "Epoch 637: loss of last batch 0.0034405554179102182\n",
            "Epoch 638: loss of last batch 0.0033877540845423937\n",
            "Epoch 639: loss of last batch 0.003353618085384369\n",
            "Epoch 640: loss of last batch 0.0033628407400101423\n",
            "Epoch 641: loss of last batch 0.0033925967290997505\n",
            "Epoch 642: loss of last batch 0.003436850616708398\n",
            "Epoch 643: loss of last batch 0.0034581543877720833\n",
            "Epoch 644: loss of last batch 0.003451546421274543\n",
            "Epoch 645: loss of last batch 0.0034013318363577127\n",
            "Epoch 646: loss of last batch 0.0033532571978867054\n",
            "Epoch 647: loss of last batch 0.0033578595612198114\n",
            "Epoch 648: loss of last batch 0.003392258193343878\n",
            "Epoch 649: loss of last batch 0.0034479512833058834\n",
            "Epoch 650: loss of last batch 0.003464803099632263\n",
            "Epoch 651: loss of last batch 0.0034518877509981394\n",
            "Epoch 652: loss of last batch 0.003391426056623459\n",
            "Epoch 653: loss of last batch 0.0033497519325464964\n",
            "Epoch 654: loss of last batch 0.0033584709744900465\n",
            "Epoch 655: loss of last batch 0.0033944910392165184\n",
            "Epoch 656: loss of last batch 0.003446685615926981\n",
            "Epoch 657: loss of last batch 0.003471540054306388\n",
            "Epoch 658: loss of last batch 0.0034592999145388603\n",
            "Epoch 659: loss of last batch 0.003397144842892885\n",
            "Epoch 660: loss of last batch 0.003349894192069769\n",
            "Epoch 661: loss of last batch 0.003360804170370102\n",
            "Epoch 662: loss of last batch 0.0034010037779808044\n",
            "Epoch 663: loss of last batch 0.0034554980229586363\n",
            "Epoch 664: loss of last batch 0.003466206369921565\n",
            "Epoch 665: loss of last batch 0.003441454377025366\n",
            "Epoch 666: loss of last batch 0.0033770569134503603\n",
            "Epoch 667: loss of last batch 0.0033422240521758795\n",
            "Epoch 668: loss of last batch 0.0033597229048609734\n",
            "Epoch 669: loss of last batch 0.0033979692962020636\n",
            "Epoch 670: loss of last batch 0.003444617846980691\n",
            "Epoch 671: loss of last batch 0.0034636654891073704\n",
            "Epoch 672: loss of last batch 0.003449380164965987\n",
            "Epoch 673: loss of last batch 0.0033844811841845512\n",
            "Epoch 674: loss of last batch 0.003344352589920163\n",
            "Epoch 675: loss of last batch 0.003360165050253272\n",
            "Epoch 676: loss of last batch 0.0033986656926572323\n",
            "Epoch 677: loss of last batch 0.0034492318518459797\n",
            "Epoch 678: loss of last batch 0.0034521964844316244\n",
            "Epoch 679: loss of last batch 0.003423952031880617\n",
            "Epoch 680: loss of last batch 0.0033637203741818666\n",
            "Epoch 681: loss of last batch 0.0033379571978002787\n",
            "Epoch 682: loss of last batch 0.003357615787535906\n",
            "Epoch 683: loss of last batch 0.0033924069721251726\n",
            "Epoch 684: loss of last batch 0.0034335299860686064\n",
            "Epoch 685: loss of last batch 0.003439647611230612\n",
            "Epoch 686: loss of last batch 0.003421173198148608\n",
            "Epoch 687: loss of last batch 0.003366646356880665\n",
            "Epoch 688: loss of last batch 0.003335519228130579\n",
            "Epoch 689: loss of last batch 0.0033508697524666786\n",
            "Epoch 690: loss of last batch 0.0033818974625319242\n",
            "Epoch 691: loss of last batch 0.0034197985660284758\n",
            "Epoch 692: loss of last batch 0.003423512913286686\n",
            "Epoch 693: loss of last batch 0.0034101628698408604\n",
            "Epoch 694: loss of last batch 0.0033542076125741005\n",
            "Epoch 695: loss of last batch 0.0033298847265541553\n",
            "Epoch 696: loss of last batch 0.003348310012370348\n",
            "Epoch 697: loss of last batch 0.003377722343429923\n",
            "Epoch 698: loss of last batch 0.0034197173081338406\n",
            "Epoch 699: loss of last batch 0.003429401433095336\n",
            "Epoch 700: loss of last batch 0.0034178239293396473\n",
            "Epoch 701: loss of last batch 0.0033659839536994696\n",
            "Epoch 702: loss of last batch 0.0033304551616311073\n",
            "Epoch 703: loss of last batch 0.003338385373353958\n",
            "Epoch 704: loss of last batch 0.0033745879773050547\n",
            "Epoch 705: loss of last batch 0.003412072081118822\n",
            "Epoch 706: loss of last batch 0.0034292680211365223\n",
            "Epoch 707: loss of last batch 0.0034143696539103985\n",
            "Epoch 708: loss of last batch 0.003364634932950139\n",
            "Epoch 709: loss of last batch 0.0033288237173110247\n",
            "Epoch 710: loss of last batch 0.003338744631037116\n",
            "Epoch 711: loss of last batch 0.0033711078576743603\n",
            "Epoch 712: loss of last batch 0.003421069821342826\n",
            "Epoch 713: loss of last batch 0.0034372073132544756\n",
            "Epoch 714: loss of last batch 0.0034301667474210262\n",
            "Epoch 715: loss of last batch 0.0033724638633430004\n",
            "Epoch 716: loss of last batch 0.003329834435135126\n",
            "Epoch 717: loss of last batch 0.00333238928578794\n",
            "Epoch 718: loss of last batch 0.0033688368275761604\n",
            "Epoch 719: loss of last batch 0.0034194926265627146\n",
            "Epoch 720: loss of last batch 0.0034413195680826902\n",
            "Epoch 721: loss of last batch 0.0034257799852639437\n",
            "Epoch 722: loss of last batch 0.0033640158362686634\n",
            "Epoch 723: loss of last batch 0.0033223265781998634\n",
            "Epoch 724: loss of last batch 0.003333816071972251\n",
            "Epoch 725: loss of last batch 0.0033699078485369682\n",
            "Epoch 726: loss of last batch 0.003425615606829524\n",
            "Epoch 727: loss of last batch 0.0034558484330773354\n",
            "Epoch 728: loss of last batch 0.0034426103811711073\n",
            "Epoch 729: loss of last batch 0.003376669017598033\n",
            "Epoch 730: loss of last batch 0.003325594821944833\n",
            "Epoch 731: loss of last batch 0.0033323243260383606\n",
            "Epoch 732: loss of last batch 0.0033740634098649025\n",
            "Epoch 733: loss of last batch 0.0034286086447536945\n",
            "Epoch 734: loss of last batch 0.003447806229814887\n",
            "Epoch 735: loss of last batch 0.003422710346058011\n",
            "Epoch 736: loss of last batch 0.0033569412771612406\n",
            "Epoch 737: loss of last batch 0.0033167609944939613\n",
            "Epoch 738: loss of last batch 0.0033334936015307903\n",
            "Epoch 739: loss of last batch 0.003373154439032078\n",
            "Epoch 740: loss of last batch 0.0034262824337929487\n",
            "Epoch 741: loss of last batch 0.0034393786918371916\n",
            "Epoch 742: loss of last batch 0.003421423491090536\n",
            "Epoch 743: loss of last batch 0.003356270957738161\n",
            "Epoch 744: loss of last batch 0.0033149621449410915\n",
            "Epoch 745: loss of last batch 0.003332402091473341\n",
            "Epoch 746: loss of last batch 0.0033718151971697807\n",
            "Epoch 747: loss of last batch 0.003409984754398465\n",
            "Epoch 748: loss of last batch 0.003416679799556732\n",
            "Epoch 749: loss of last batch 0.003389963647350669\n",
            "Epoch 750: loss of last batch 0.0033341683447360992\n"
          ]
        }
      ],
      "source": [
        "batch_size = 32\n",
        "epochs = 750\n",
        "\n",
        "# preprocessing data: converting to torch tensors, convert to float, add batch dimension\n",
        "x_torch = torch.from_numpy(x).float().unsqueeze(1)\n",
        "y_torch = torch.from_numpy(y).float().unsqueeze(1)\n",
        "\n",
        "trainloader = torch.utils.data.DataLoader(\n",
        "    torch.utils.data.TensorDataset(x_torch, y_torch),\n",
        "    batch_size=batch_size,\n",
        "    shuffle=True\n",
        ")\n",
        "\n",
        "optimizer = torch.optim.Adam(model.parameters(), lr=0.01)\n",
        "\n",
        "loss_fn = torch.nn.MSELoss()\n",
        "\n",
        "device = \"cpu\"\n",
        "\n",
        "for epoch in range(epochs):\n",
        "    for data, target in trainloader: # this create the batches from the training set\n",
        "        # this sends the data to the device (cpu or gpu)\n",
        "        data, target = data.to(device), target.to(device) \n",
        "        # clears gradient from previous computations\n",
        "        optimizer.zero_grad()\n",
        "        # get output from model\n",
        "        output = model(data)\n",
        "        # calculate loss\n",
        "        loss = loss_fn(output, target)\n",
        "        # backpropagate the gradients to the model parameters\n",
        "        loss.backward()\n",
        "        # update the parameters specified in the optimizer constructor\n",
        "        optimizer.step()\n",
        "    print(f\"Epoch {epoch+1}: loss of last batch {loss.item()}\")"
      ]
    },
    {
      "cell_type": "markdown",
      "metadata": {},
      "source": [
        "**Note: you'll find this function in the `torch_helpers.train` module within this GitHub repo, so we don't have to rewrite it again every time**"
      ]
    },
    {
      "cell_type": "code",
      "execution_count": 17,
      "metadata": {
        "colab": {
          "base_uri": "https://localhost:8080/",
          "height": 465
        },
        "id": "TELUd0VL0Ryn",
        "outputId": "23b26ea7-65c4-498f-9003-417cc5115b26"
      },
      "outputs": [
        {
          "data": {
            "text/plain": [
              "<matplotlib.collections.PathCollection at 0x7fb9fddf4b90>"
            ]
          },
          "execution_count": 17,
          "metadata": {},
          "output_type": "execute_result"
        },
        {
          "data": {
            "image/png": "[encoded data removed]",
            "text/plain": [
              "<Figure size 640x480 with 1 Axes>"
            ]
          },
          "metadata": {},
          "output_type": "display_data"
        }
      ],
      "source": [
        "with torch.no_grad(): # when no gradient is required, this speeds up computations\n",
        "    model.eval() # set model to evaluation mode, useful when using dropout or batchnorm, for safety reasons should be always called before testing\n",
        "    y_pred = model(x_torch).numpy()\n",
        "\n",
        "plt.scatter(x, y, s=5)\n",
        "plt.scatter(x, y_pred, s=5)"
      ]
    },
    {
      "cell_type": "markdown",
      "metadata": {
        "id": "aotcRHDP7WC_"
      },
      "source": [
        "#### Testing our model\n",
        "\n",
        "We can now test our model. We randomly sample a set of `m` points and proceed to test the effectiveness of our model."
      ]
    },
    {
      "cell_type": "code",
      "execution_count": 19,
      "metadata": {
        "id": "pafM_UO07mbU"
      },
      "outputs": [],
      "source": [
        "x_test = np.linspace(-3.14, 3.14, 1000)\n",
        "y_test_true = np.sin(x_test)"
      ]
    },
    {
      "cell_type": "code",
      "execution_count": 23,
      "metadata": {
        "colab": {
          "base_uri": "https://localhost:8080/"
        },
        "id": "w1zwUdgA79Ut",
        "outputId": "79e2b5d0-dcf0-4874-d350-467f579f810f"
      },
      "outputs": [],
      "source": [
        "x_test_torch = torch.from_numpy(x_test).float().unsqueeze(1)\n",
        "y_test_true_torch = torch.from_numpy(y_test_true).float().unsqueeze(1)\n",
        "with torch.no_grad():\n",
        "    model.eval()\n",
        "    y_test_pred = model(x_test_torch)\n"
      ]
    },
    {
      "cell_type": "code",
      "execution_count": 24,
      "metadata": {
        "colab": {
          "base_uri": "https://localhost:8080/"
        },
        "id": "_5rkoC6r8cDg",
        "outputId": "1bf88cca-7f30-4def-bf66-708d2fd83d4e"
      },
      "outputs": [
        {
          "data": {
            "text/plain": [
              "tensor(0.0014)"
            ]
          },
          "execution_count": 24,
          "metadata": {},
          "output_type": "execute_result"
        }
      ],
      "source": [
        "torch.nn.functional.mse_loss(y_test_pred, y_test_true_torch)"
      ]
    },
    {
      "cell_type": "code",
      "execution_count": 25,
      "metadata": {
        "id": "8sdjmpKT8mKf"
      },
      "outputs": [],
      "source": [
        "def plot_prediction(x, y_true, y_pred, x_max, x_min_pos):\n",
        "  plt.scatter(x, y_true, s=5)\n",
        "  plt.scatter(x, y_pred, s=5)\n",
        "  yline = (\n",
        "      min(y_true.min().item(), y_pred.min().item()),\n",
        "      max(y_true.max().item(), y_pred.max().item())\n",
        "  )\n",
        "  plt.vlines((-x_max, -x_min_pos, x_min_pos, x_max), ymin=yline[0], ymax=yline[1], colors=\"black\")\n",
        "  x1 = np.array((-x_max, -x_min_pos))\n",
        "  x2 = np.array((x_min_pos, x_max))\n",
        "  y1 = np.array([yline[1], yline[1]])\n",
        "  y2 = np.array([yline[0], yline[0]])\n",
        "  plt.fill_between(x1, y1, y2, where=(y1 > y2), color=\"yellow\", alpha=.3)\n",
        "  plt.fill_between(x2, y1, y2, where=(y1 > y2), color=\"yellow\", alpha=.3)"
      ]
    },
    {
      "cell_type": "code",
      "execution_count": 26,
      "metadata": {
        "colab": {
          "base_uri": "https://localhost:8080/",
          "height": 430
        },
        "id": "IahmYeb_2xcj",
        "outputId": "f9383322-2ae2-4847-d15f-d22c0d6408ae"
      },
      "outputs": [
        {
          "data": {
            "image/png": "[encoded data removed]",
            "text/plain": [
              "<Figure size 640x480 with 1 Axes>"
            ]
          },
          "metadata": {},
          "output_type": "display_data"
        }
      ],
      "source": [
        "plot_prediction(x_test, y_test_true, y_test_pred.numpy(), x_max, x_min_pos)"
      ]
    },
    {
      "cell_type": "markdown",
      "metadata": {
        "id": "ACMEHykSIRUK"
      },
      "source": [
        "**Q: _comment on this chart? Do you know why are those rough edges present?_**"
      ]
    },
    {
      "cell_type": "markdown",
      "metadata": {
        "id": "VQMSWQ0a3AcP"
      },
      "source": [
        "#### Testing outside of the range $[-\\pi,\\pi]$"
      ]
    },
    {
      "cell_type": "code",
      "execution_count": 27,
      "metadata": {
        "colab": {
          "base_uri": "https://localhost:8080/"
        },
        "id": "tp-hXblQ_yY9",
        "outputId": "f08f567a-cd63-4779-82e1-10aa6d737559"
      },
      "outputs": [],
      "source": [
        "x_test_out = np.concatenate([np.linspace(-7, -x_max, 1000), np.linspace(x_max, 7, 1000)])\n",
        "y_test_out_true = np.sin(x_test_out)\n",
        "\n",
        "with torch.no_grad():\n",
        "    model.eval()\n",
        "    y_test_out_pred = model(torch.from_numpy(x_test_out).float().unsqueeze(1))"
      ]
    },
    {
      "cell_type": "code",
      "execution_count": 28,
      "metadata": {
        "colab": {
          "base_uri": "https://localhost:8080/",
          "height": 430
        },
        "id": "tyyEPMUh2aqb",
        "outputId": "659c80d8-54ce-46bc-c712-545093914b85"
      },
      "outputs": [
        {
          "data": {
            "image/png": "[encoded data removed]",
            "text/plain": [
              "<Figure size 640x480 with 1 Axes>"
            ]
          },
          "metadata": {},
          "output_type": "display_data"
        }
      ],
      "source": [
        "plot_prediction(x_test_out, y_test_out_true, y_test_out_pred.numpy(), x_max, x_min_pos)"
      ]
    },
    {
      "cell_type": "markdown",
      "metadata": {
        "id": "0jd9hzB0Ic-H"
      },
      "source": [
        "**Q: _why are the predictions so seemingly random outside of the range $[-\\pi, \\pi]$?_**"
      ]
    },
    {
      "cell_type": "markdown",
      "metadata": {
        "id": "zYRnMZ0T3Fvn"
      },
      "source": [
        "#### Combining everything\n",
        "\n"
      ]
    },
    {
      "cell_type": "code",
      "execution_count": 29,
      "metadata": {
        "colab": {
          "base_uri": "https://localhost:8080/",
          "height": 430
        },
        "id": "xAAzmv5f3IL2",
        "outputId": "2ec56026-5925-4fd5-8c47-0c7831b0c068"
      },
      "outputs": [
        {
          "data": {
            "image/png": "[encoded data removed]",
            "text/plain": [
              "<Figure size 640x480 with 1 Axes>"
            ]
          },
          "metadata": {},
          "output_type": "display_data"
        }
      ],
      "source": [
        "x_test_all = np.concatenate([x_test, x_test_out])\n",
        "y_test_all_true = np.concatenate([y_test_true, y_test_out_true])\n",
        "y_test_all_pred = np.concatenate([y_test_pred, y_test_out_pred])\n",
        "plot_prediction(x_test_all, y_test_all_true, y_test_all_pred, x_max, x_min_pos)"
      ]
    },
    {
      "cell_type": "markdown",
      "metadata": {
        "id": "pqPYoZqZIGnu"
      },
      "source": [
        "This introductory notebook was just a preview of things to come. Let's start working with BNNs next!"
      ]
    }
  ],
  "metadata": {
    "colab": {
      "authorship_tag": "ABX9TyNQ9qvGzfu5heemZ6JJK+qI",
      "include_colab_link": true,
      "provenance": []
    },
    "kernelspec": {
      "display_name": "Python 3",
      "name": "python3"
    },
    "language_info": {
      "codemirror_mode": {
        "name": "ipython",
        "version": 3
      },
      "file_extension": ".py",
      "mimetype": "text/x-python",
      "name": "python",
      "nbconvert_exporter": "python",
      "pygments_lexer": "ipython3",
      "version": "3.11.3"
    }
  },
  "nbformat": 4,
  "nbformat_minor": 0
}
