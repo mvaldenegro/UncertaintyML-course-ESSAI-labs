{
  "cells": [
    {
      "cell_type": "markdown",
      "metadata": {
        "id": "view-in-github",
        "colab_type": "text"
      },
      "source": [
        "<a href=\"https://colab.research.google.com/github/mvaldenegro/UncertaintyML-course-ESSAI-labs/blob/main/03_OOD.ipynb\" target=\"_parent\"><img src=\"https://colab.research.google.com/assets/colab-badge.svg\" alt=\"Open In Colab\"/></a>"
      ]
    },
    {
      "cell_type": "code",
      "execution_count": null,
      "metadata": {
        "colab": {
          "base_uri": "https://localhost:8080/"
        },
        "id": "jcIg7h_YIUV4",
        "outputId": "b36d5dca-00bb-4d62-b196-83bad64e5a2c"
      },
      "outputs": [
        {
          "output_type": "stream",
          "name": "stdout",
          "text": [
            "Collecting git+https://github.com/mvaldenegro/keras-uncertainty\n",
            "  Cloning https://github.com/mvaldenegro/keras-uncertainty to /tmp/pip-req-build-paq5dvgm\n",
            "  Running command git clone --filter=blob:none --quiet https://github.com/mvaldenegro/keras-uncertainty /tmp/pip-req-build-paq5dvgm\n",
            "  Resolved https://github.com/mvaldenegro/keras-uncertainty to commit ca332fd1006a8df7af2aea7375b608080eb7fd9e\n",
            "  Preparing metadata (setup.py) ... \u001b[?25l\u001b[?25hdone\n",
            "Requirement already satisfied: keras>=2.2.0 in /usr/local/lib/python3.10/dist-packages (from Keras-Uncertainty==0.0.1) (2.12.0)\n",
            "Requirement already satisfied: numpy in /usr/local/lib/python3.10/dist-packages (from Keras-Uncertainty==0.0.1) (1.22.4)\n",
            "Requirement already satisfied: tqdm in /usr/local/lib/python3.10/dist-packages (from Keras-Uncertainty==0.0.1) (4.65.0)\n",
            "Requirement already satisfied: scipy in /usr/local/lib/python3.10/dist-packages (from Keras-Uncertainty==0.0.1) (1.10.1)\n",
            "Building wheels for collected packages: Keras-Uncertainty\n",
            "  Building wheel for Keras-Uncertainty (setup.py) ... \u001b[?25l\u001b[?25hdone\n",
            "  Created wheel for Keras-Uncertainty: filename=Keras_Uncertainty-0.0.1-py3-none-any.whl size=36625 sha256=7e188760c1c1a8647073e99d37f13ae4327282296f17c931f2802fe6d15075b1\n",
            "  Stored in directory: /tmp/pip-ephem-wheel-cache-sum26meq/wheels/0f/e9/fe/f6021c41f51978e09980019aa4b827d65ad4d3eca0c85be79a\n",
            "Successfully built Keras-Uncertainty\n",
            "Installing collected packages: Keras-Uncertainty\n",
            "Successfully installed Keras-Uncertainty-0.0.1\n",
            "Cloning into 'UncertaintyML-course-ESSAI-labs'...\n",
            "remote: Enumerating objects: 41, done.\u001b[K\n",
            "remote: Counting objects: 100% (41/41), done.\u001b[K\n",
            "remote: Compressing objects: 100% (38/38), done.\u001b[K\n",
            "remote: Total 41 (delta 15), reused 11 (delta 3), pack-reused 0\u001b[K\n",
            "Receiving objects: 100% (41/41), 2.50 MiB | 10.60 MiB/s, done.\n",
            "Resolving deltas: 100% (15/15), done.\n"
          ]
        }
      ],
      "source": [
        "!pip install git+https://github.com/mvaldenegro/keras-uncertainty\n",
        "!git clone https://github.com/mvaldenegro/UncertaintyML-course-ESSAI-labs"
      ]
    },
    {
      "cell_type": "code",
      "execution_count": null,
      "metadata": {
        "colab": {
          "base_uri": "https://localhost:8080/"
        },
        "id": "SPLrhhUywK0Q",
        "outputId": "cf5d75af-b589-4af5-b193-7bd9ed96e5cf"
      },
      "outputs": [
        {
          "output_type": "stream",
          "name": "stderr",
          "text": [
            "Keras Uncertainty will use standalone Keras backend"
          ]
        }
      ],
      "source": [
        "import keras\n",
        "from keras import backend as K\n",
        "import tensorflow as tf\n",
        "import math\n",
        "\n",
        "from matplotlib import pyplot as plt\n",
        "import numpy as np\n",
        "from sklearn import metrics as M\n",
        "import pandas as pd\n",
        "# from google.colab import files\n",
        "\n",
        "import keras_uncertainty as ku\n",
        "\n"
      ]
    },
    {
      "cell_type": "markdown",
      "metadata": {
        "id": "wiQuQvn8wSgn"
      },
      "source": [
        "## Out-of-Distribution (OOD) Detection\n",
        "\n",
        "ML models are trained on finite datasets which can encompass a finite variability of data.\n",
        "Many of these models (especially NNs) are generally trained to produce highly-confident predictions even when presented with data which lies outside of the training distribution.\n",
        "\n",
        "When referencing to NNs for image classification (e.g., cats vs dogs) we might have several situations when a well-trained model might fail:\n",
        "* a model is presented with an image of a cat which is very different From the other cat images in the dataset (**unknown knowns**---the image comes from a known class, but the training dataset is not comprehensive enough to encompass for the sufficient variability of the data within this class).\n",
        "* a model is presented with an image of a bird (**unkwnown unknows**---the image comes from a category which is **external** to the ones it was trained to recognize, but the model is not aware of the existence of other categories besides cat and dog).\n",
        "\n",
        "OOD detection refers to the task of identifying whether some data do not overlap with the training distribution.\n",
        "By adding some formalization, we call $\\mathcal{X}$ the training distribution.\n",
        "Let us call $\\mathcal{U}$ the _universe_ distribution of the data type of the input of our model.\n",
        "If our NN takes in images of size $h\\times w$, we might think $\\mathcal{U}$ as encompassing all possible images, i.e., all combinations of pixels in the range $[0-255]$.\n",
        "The idea of OOD is to identify whether a test sample $x^\\star$ comes from ${\\mathcal{X}}$ or $\\mathcal{U}\\setminus{\\mathcal{X}}$.\n"
      ]
    },
    {
      "cell_type": "markdown",
      "metadata": {
        "id": "JB-We9-w3DI7"
      },
      "source": [
        "### A practical example of OOD failure with NNs\n",
        "\n",
        "In the next code cells, we will be training a (frequentist) NN on MNIST and showcase a range of failures on some unknown unknowns and known unknowns."
      ]
    },
    {
      "cell_type": "code",
      "execution_count": null,
      "metadata": {
        "colab": {
          "base_uri": "https://localhost:8080/"
        },
        "id": "-LlU0GnHwRZp",
        "outputId": "1b7545b9-37a8-4c86-a40e-cc5f2fd317d7"
      },
      "outputs": [
        {
          "output_type": "stream",
          "name": "stdout",
          "text": [
            "Model: \"sequential\"\n",
            "_________________________________________________________________\n",
            " Layer (type)                Output Shape              Param #   \n",
            "=================================================================\n",
            " flatten (Flatten)           (None, 784)               0         \n",
            "                                                                 \n",
            " dense (Dense)               (None, 32)                25120     \n",
            "                                                                 \n",
            " dense_1 (Dense)             (None, 32)                1056      \n",
            "                                                                 \n",
            " dense_2 (Dense)             (None, 10)                330       \n",
            "                                                                 \n",
            " activation (Activation)     (None, 10)                0         \n",
            "                                                                 \n",
            "=================================================================\n",
            "Total params: 26,506\n",
            "Trainable params: 26,506\n",
            "Non-trainable params: 0\n",
            "_________________________________________________________________\n"
          ]
        }
      ],
      "source": [
        "model_mnist = keras.Sequential([\n",
        "    keras.layers.Input((28, 28, 1)), # data as image: heigth x width x channels. MNIST is grayscale » 1 channel\n",
        "    keras.layers.Flatten(),\n",
        "    keras.layers.Dense(32, activation=\"relu\"),\n",
        "    keras.layers.Dense(32, activation=\"relu\"),\n",
        "    keras.layers.Dense(10),\n",
        "    keras.layers.Activation(\"softmax\")\n",
        "])\n",
        "\n",
        "model_mnist.compile(optimizer=\"adam\", loss=\"categorical_crossentropy\", metrics=[\"accuracy\"])\n",
        "\n",
        "model_mnist.summary()"
      ]
    },
    {
      "cell_type": "code",
      "execution_count": null,
      "metadata": {
        "colab": {
          "base_uri": "https://localhost:8080/"
        },
        "id": "nEKq8sBG_let",
        "outputId": "e921c377-0833-4376-afb2-0f1f4c6f985b"
      },
      "outputs": [
        {
          "output_type": "stream",
          "name": "stdout",
          "text": [
            "Downloading data from https://storage.googleapis.com/tensorflow/tf-keras-datasets/mnist.npz\n",
            "11490434/11490434 [==============================] - 0s 0us/step\n"
          ]
        }
      ],
      "source": [
        "(x, y), (x_test, y_test) = tf.keras.datasets.mnist.load_data()\n",
        "\n",
        "def preprocess_data(data):\n",
        "  '''\n",
        "  Changes data type to float32, normalizes in [0,1] range, and add a channel singleton dimension\n",
        "  '''\n",
        "  return np.expand_dims(data.astype(\"float32\"), -1) / 255\n",
        "\n",
        "x = preprocess_data(x)\n",
        "x_test = preprocess_data(x_test)\n",
        "\n",
        "y = keras.utils.to_categorical(y, 10)\n",
        "y_test = keras.utils.to_categorical(y_test, 10)"
      ]
    },
    {
      "cell_type": "code",
      "source": [
        "model_mnist.load_weights(\"/content/UncertaintyML-course-ESSAI-labs/files/nn_mnist_weights.keras\")"
      ],
      "metadata": {
        "id": "zGU-_Lb5ET9u"
      },
      "execution_count": null,
      "outputs": []
    },
    {
      "cell_type": "code",
      "execution_count": null,
      "metadata": {
        "colab": {
          "base_uri": "https://localhost:8080/"
        },
        "id": "ViPNcQa649Ry",
        "outputId": "2c43ca1d-f5ec-46d0-b419-592bae2da898"
      },
      "outputs": [
        {
          "name": "stdout",
          "output_type": "stream",
          "text": [
            "Epoch 1/15\n",
            "469/469 [==============================] - 9s 11ms/step - loss: 0.5091 - accuracy: 0.8582\n",
            "Epoch 2/15\n",
            "469/469 [==============================] - 3s 7ms/step - loss: 0.2253 - accuracy: 0.9352\n",
            "Epoch 3/15\n",
            "469/469 [==============================] - 3s 7ms/step - loss: 0.1793 - accuracy: 0.9486\n",
            "Epoch 4/15\n",
            "469/469 [==============================] - 3s 7ms/step - loss: 0.1509 - accuracy: 0.9560\n",
            "Epoch 5/15\n",
            "469/469 [==============================] - 4s 9ms/step - loss: 0.1308 - accuracy: 0.9622\n",
            "Epoch 6/15\n",
            "469/469 [==============================] - 3s 7ms/step - loss: 0.1148 - accuracy: 0.9666\n",
            "Epoch 7/15\n",
            "469/469 [==============================] - 3s 7ms/step - loss: 0.1036 - accuracy: 0.9687\n",
            "Epoch 8/15\n",
            "469/469 [==============================] - 5s 10ms/step - loss: 0.0954 - accuracy: 0.9714\n",
            "Epoch 9/15\n",
            "469/469 [==============================] - 3s 7ms/step - loss: 0.0860 - accuracy: 0.9746\n",
            "Epoch 10/15\n",
            "469/469 [==============================] - 3s 6ms/step - loss: 0.0808 - accuracy: 0.9756\n",
            "Epoch 11/15\n",
            "469/469 [==============================] - 2s 4ms/step - loss: 0.0753 - accuracy: 0.9768\n",
            "Epoch 12/15\n",
            "469/469 [==============================] - 2s 3ms/step - loss: 0.0689 - accuracy: 0.9789\n",
            "Epoch 13/15\n",
            "469/469 [==============================] - 2s 4ms/step - loss: 0.0643 - accuracy: 0.9804\n",
            "Epoch 14/15\n",
            "469/469 [==============================] - 2s 5ms/step - loss: 0.0604 - accuracy: 0.9812\n",
            "Epoch 15/15\n",
            "469/469 [==============================] - 2s 4ms/step - loss: 0.0572 - accuracy: 0.9825\n"
          ]
        },
        {
          "data": {
            "text/plain": [
              "<keras.callbacks.History at 0x7dd12f1af0d0>"
            ]
          },
          "execution_count": 5,
          "metadata": {},
          "output_type": "execute_result"
        }
      ],
      "source": [
        "# Uncomment if you wish to train\n",
        "# model_mnist.fit(x, y, batch_size=128, epochs=15)"
      ]
    },
    {
      "cell_type": "code",
      "execution_count": null,
      "metadata": {
        "colab": {
          "base_uri": "https://localhost:8080/",
          "height": 17
        },
        "id": "Bb187DU6rsUd",
        "outputId": "112fb860-1ba7-4e40-8d94-252faada25a9"
      },
      "outputs": [
        {
          "output_type": "display_data",
          "data": {
            "text/plain": [
              "<IPython.core.display.Javascript object>"
            ],
            "application/javascript": [
              "\n",
              "    async function download(id, filename, size) {\n",
              "      if (!google.colab.kernel.accessAllowed) {\n",
              "        return;\n",
              "      }\n",
              "      const div = document.createElement('div');\n",
              "      const label = document.createElement('label');\n",
              "      label.textContent = `Downloading \"${filename}\": `;\n",
              "      div.appendChild(label);\n",
              "      const progress = document.createElement('progress');\n",
              "      progress.max = size;\n",
              "      div.appendChild(progress);\n",
              "      document.body.appendChild(div);\n",
              "\n",
              "      const buffers = [];\n",
              "      let downloaded = 0;\n",
              "\n",
              "      const channel = await google.colab.kernel.comms.open(id);\n",
              "      // Send a message to notify the kernel that we're ready.\n",
              "      channel.send({})\n",
              "\n",
              "      for await (const message of channel.messages) {\n",
              "        // Send a message to notify the kernel that we're ready.\n",
              "        channel.send({})\n",
              "        if (message.buffers) {\n",
              "          for (const buffer of message.buffers) {\n",
              "            buffers.push(buffer);\n",
              "            downloaded += buffer.byteLength;\n",
              "            progress.value = downloaded;\n",
              "          }\n",
              "        }\n",
              "      }\n",
              "      const blob = new Blob(buffers, {type: 'application/binary'});\n",
              "      const a = document.createElement('a');\n",
              "      a.href = window.URL.createObjectURL(blob);\n",
              "      a.download = filename;\n",
              "      div.appendChild(a);\n",
              "      a.click();\n",
              "      div.remove();\n",
              "    }\n",
              "  "
            ]
          },
          "metadata": {}
        },
        {
          "output_type": "display_data",
          "data": {
            "text/plain": [
              "<IPython.core.display.Javascript object>"
            ],
            "application/javascript": [
              "download(\"download_d1b40ac0-bd24-47e5-9ff9-46a96f6e89f0\", \"nn_mnist_weights.keras\", 121944)"
            ]
          },
          "metadata": {}
        }
      ],
      "source": [
        "# uncomment to save weights and load files\n",
        "# model_mnist.save_weights(\"nn_mnist_weights.keras\")\n",
        "# files.download(\"nn_mnist_weights.keras\")"
      ]
    },
    {
      "cell_type": "markdown",
      "source": [
        "This is Keras' default way to assess a model."
      ],
      "metadata": {
        "id": "vuOUGqP4EtH3"
      }
    },
    {
      "cell_type": "code",
      "execution_count": null,
      "metadata": {
        "colab": {
          "base_uri": "https://localhost:8080/"
        },
        "id": "CW1ga-SHHEn8",
        "outputId": "63b40481-640c-428e-a1d1-99497fad9de9"
      },
      "outputs": [
        {
          "output_type": "stream",
          "name": "stdout",
          "text": [
            "313/313 [==============================] - 1s 1ms/step - loss: 0.1059 - accuracy: 0.9698\n"
          ]
        },
        {
          "output_type": "execute_result",
          "data": {
            "text/plain": [
              "[0.10594726353883743, 0.9697999954223633]"
            ]
          },
          "metadata": {},
          "execution_count": 9
        }
      ],
      "source": [
        "model_mnist.evaluate(x_test, y_test)"
      ]
    },
    {
      "cell_type": "markdown",
      "source": [
        "**Q: _despite the above function working correctly, we are missing something very useful for our labs. What?_**"
      ],
      "metadata": {
        "id": "QGuYQTuoE09N"
      }
    },
    {
      "cell_type": "code",
      "execution_count": null,
      "metadata": {
        "colab": {
          "base_uri": "https://localhost:8080/"
        },
        "id": "y38GwzmdBzHZ",
        "outputId": "5ee1ffc8-f3b2-4079-a853-df3f12f36ed6"
      },
      "outputs": [
        {
          "output_type": "stream",
          "name": "stdout",
          "text": [
            "313/313 [==============================] - 0s 910us/step\n"
          ]
        },
        {
          "output_type": "execute_result",
          "data": {
            "text/plain": [
              "0.9698"
            ]
          },
          "metadata": {},
          "execution_count": 10
        }
      ],
      "source": [
        "mnist_test_predictions = model_mnist.predict(x_test)\n",
        "mnist_test_correct_predictions = (mnist_test_predictions.argmax(axis=1) == y_test.argmax(axis=1))\n",
        "mnist_test_accuracy = mnist_test_correct_predictions.mean()\n",
        "mnist_test_accuracy"
      ]
    },
    {
      "cell_type": "markdown",
      "metadata": {
        "id": "VzxvRYNTI4XW"
      },
      "source": [
        "Let's now evaluate our model with a randomly generated image within the $[0-1]$ range"
      ]
    },
    {
      "cell_type": "code",
      "execution_count": null,
      "metadata": {
        "colab": {
          "base_uri": "https://localhost:8080/",
          "height": 447
        },
        "id": "7mdDykQpJEvT",
        "outputId": "9864b7d3-aab2-4c48-d37a-392c1b532c7b"
      },
      "outputs": [
        {
          "output_type": "execute_result",
          "data": {
            "text/plain": [
              "<matplotlib.image.AxesImage at 0x7b9ffac23a00>"
            ]
          },
          "metadata": {},
          "execution_count": 11
        },
        {
          "output_type": "display_data",
          "data": {
            "text/plain": [
              "<Figure size 640x480 with 1 Axes>"
            ],
            "image/png": "[encoded data removed]"
          },
          "metadata": {}
        }
      ],
      "source": [
        "random_image = np.random.rand(28,28)\n",
        "plt.imshow(random_image, cmap=\"gray\")"
      ]
    },
    {
      "cell_type": "code",
      "execution_count": null,
      "metadata": {
        "id": "ce8uyiXgJTbV"
      },
      "outputs": [],
      "source": [
        "def predict_and_plot(image, model, normalize=False):\n",
        "  if normalize:\n",
        "    image = image / 255\n",
        "  model_output = model.predict(image)\n",
        "  _=plt.bar(x=np.arange(0,10), height=model_output.squeeze())\n",
        "  _=plt.xticks(np.arange(0,10))"
      ]
    },
    {
      "cell_type": "code",
      "execution_count": null,
      "metadata": {
        "colab": {
          "base_uri": "https://localhost:8080/",
          "height": 447
        },
        "id": "WQ8p0KuON5AR",
        "outputId": "e70db176-b329-4901-d2ba-75d7b2b1bb09"
      },
      "outputs": [
        {
          "output_type": "stream",
          "name": "stdout",
          "text": [
            "1/1 [==============================] - 0s 15ms/step\n"
          ]
        },
        {
          "output_type": "display_data",
          "data": {
            "text/plain": [
              "<Figure size 640x480 with 1 Axes>"
            ],
            "image/png": "[encoded data removed]"
          },
          "metadata": {}
        }
      ],
      "source": [
        "predict_and_plot(np.expand_dims(random_image, (0, -1)), model_mnist)"
      ]
    },
    {
      "cell_type": "markdown",
      "metadata": {
        "id": "4_qOj4wNzvXz"
      },
      "source": [
        "**Q: _The above image is an example of..._**\n",
        "1. **_known known_**\n",
        "2. **_unknown known_**\n",
        "3. **_known unknown_**\n",
        "4. **_unknown unknown_**\n",
        "\n",
        "\n",
        "**Q: _What can you say on the behavior of the model in this case?_**\n",
        "\n"
      ]
    },
    {
      "cell_type": "markdown",
      "metadata": {
        "id": "MlexdbmsMnlp"
      },
      "source": [
        "Let's try with another example..."
      ]
    },
    {
      "cell_type": "code",
      "execution_count": null,
      "metadata": {
        "colab": {
          "base_uri": "https://localhost:8080/",
          "height": 447
        },
        "id": "mex-QIvtNGO2",
        "outputId": "ffc62aa4-15cd-4394-c8c0-a6be6df8dde4"
      },
      "outputs": [
        {
          "output_type": "execute_result",
          "data": {
            "text/plain": [
              "<matplotlib.image.AxesImage at 0x7b9ff9216350>"
            ]
          },
          "metadata": {},
          "execution_count": 14
        },
        {
          "output_type": "display_data",
          "data": {
            "text/plain": [
              "<Figure size 640x480 with 1 Axes>"
            ],
            "image/png": "[encoded data removed]"
          },
          "metadata": {}
        }
      ],
      "source": [
        "shifted_img = np.zeros((28,28,1))\n",
        "shifted_img[:20,:21] = x[1,5:25,4:25] / 255\n",
        "plt.imshow(shifted_img, cmap=\"gray\")"
      ]
    },
    {
      "cell_type": "code",
      "execution_count": null,
      "metadata": {
        "colab": {
          "base_uri": "https://localhost:8080/",
          "height": 447
        },
        "id": "Icrb6czRMvmh",
        "outputId": "40f7cc02-37df-453d-857a-cd754de1cdee"
      },
      "outputs": [
        {
          "name": "stdout",
          "output_type": "stream",
          "text": [
            "1/1 [==============================] - 0s 38ms/step\n"
          ]
        },
        {
          "data": {
            "image/png": "[encoded data removed]",
            "text/plain": [
              "<Figure size 640x480 with 1 Axes>"
            ]
          },
          "metadata": {},
          "output_type": "display_data"
        }
      ],
      "source": [
        "predict_and_plot(np.expand_dims(shifted_img, 0), model_mnist)"
      ]
    },
    {
      "cell_type": "markdown",
      "metadata": {
        "id": "LJz0lNc2zOeH"
      },
      "source": [
        "**Q: _Can you comment on the behavior of the model for this specific image? Is it a case of unknown known or unknown unknown? Do you think the image is really OOD, or is the failure of the model here a case of bad model selection/bad inductive biases?_**"
      ]
    },
    {
      "cell_type": "markdown",
      "metadata": {
        "id": "fq8pdYM8OHLO"
      },
      "source": [
        "## Assessing OOD detection capability\n",
        "\n",
        "Assessing OOD detection capability is a hard task.\n",
        "Multiple things need to be taken into consideration while deciding the dataset for assessing it:\n",
        "1. The domain for OOD model is huge, potentially infinite: it's thus impossible to obtain a comprehensive dataset for exhaustively evaluate the potential of the model on OOD detection\n",
        "2. What is the level of _similarity_ needed between the training dataset and the dataset for assessing OOD detection? In most applications, we might want to get a dataset where the datapoints are _sufficiently similar_ to the data in the trainset, data that the model could encounter while being tested or deployed. For instance, if we train a model to classify paintings, it's probably useless to assess it against images from MNIST or CIFAR10. In other words, the domain of the data should be similar and plausible for the application.\n",
        "\n",
        "In our case, we will compare our model trained on MNIST against data from Fashion-MNIST. This is a standard OOD test in the literature, especially for toy examples, since (a) both data are natively produced at the same resolution (28x28 pixels) and with similar domain (the images contain grayscale examples of handwritte digits/fashion products and the background is always plain black; in addition, the images contain only the object to be classified, unlike other popular image datasets which contain natural images), and (b) there is no overlap between the classes of MNIST and Fashion MNIST, which makes it the perfect model to evaluate the confidence of the model when being evaluated with unknown unknowns.\n",
        "\n",
        "![data from Fashion MNIST](https://storage.googleapis.com/kaggle-datasets-images/2243/3791/9384af51de8baa77f6320901f53bd26b/dataset-cover.png)\n",
        "\n",
        "We first download the Fashion MNIST dataset using keras API:"
      ]
    },
    {
      "cell_type": "code",
      "execution_count": null,
      "metadata": {
        "colab": {
          "base_uri": "https://localhost:8080/"
        },
        "id": "DzHtsQ0P6y0V",
        "outputId": "19886155-f910-446f-a2c5-e1ac9cfca980"
      },
      "outputs": [
        {
          "output_type": "stream",
          "name": "stdout",
          "text": [
            "Downloading data from https://storage.googleapis.com/tensorflow/tf-keras-datasets/train-labels-idx1-ubyte.gz\n",
            "29515/29515 [==============================] - 0s 0us/step\n",
            "Downloading data from https://storage.googleapis.com/tensorflow/tf-keras-datasets/train-images-idx3-ubyte.gz\n",
            "26421880/26421880 [==============================] - 0s 0us/step\n",
            "Downloading data from https://storage.googleapis.com/tensorflow/tf-keras-datasets/t10k-labels-idx1-ubyte.gz\n",
            "5148/5148 [==============================] - 0s 0us/step\n",
            "Downloading data from https://storage.googleapis.com/tensorflow/tf-keras-datasets/t10k-images-idx3-ubyte.gz\n",
            "4422102/4422102 [==============================] - 0s 0us/step\n"
          ]
        }
      ],
      "source": [
        "_, (x_ood, y_ood) = tf.keras.datasets.fashion_mnist.load_data()\n",
        "x_ood = preprocess_data(x_ood)"
      ]
    },
    {
      "cell_type": "markdown",
      "metadata": {
        "id": "uRYiOnUHyrdH"
      },
      "source": [
        "**Q: *What does the `_` mean in the expression `_, (x_ood, y_ood) = tf...`? Why is it there?***"
      ]
    },
    {
      "cell_type": "markdown",
      "metadata": {
        "id": "PmjsVz1s3Fpx"
      },
      "source": [
        "We then proceed to evaluate the new data on our keras model, producing the predictions."
      ]
    },
    {
      "cell_type": "code",
      "execution_count": null,
      "metadata": {
        "colab": {
          "base_uri": "https://localhost:8080/"
        },
        "id": "PA1jRzjekmuZ",
        "outputId": "e7f6494a-f7dd-4255-b3fa-0e6c54d7fe03"
      },
      "outputs": [
        {
          "output_type": "stream",
          "name": "stdout",
          "text": [
            "313/313 [==============================] - 0s 1ms/step\n"
          ]
        }
      ],
      "source": [
        "fmnist_predictions = model_mnist.predict(x_ood)"
      ]
    },
    {
      "cell_type": "markdown",
      "metadata": {
        "id": "IO0-42EE3MfI"
      },
      "source": [
        "**Q: _What does the variable `fmnist_predictions` contain?_**"
      ]
    },
    {
      "cell_type": "markdown",
      "metadata": {
        "id": "Z15D8F3s3adE"
      },
      "source": [
        "We then obtain the confidence value associated to the highest prediction for both MNIST and Fashion MNIST.\n",
        "\n",
        "The confidence value can be obtained both from the logits (pre-softmax) and from the probability values (post-softmax).\n",
        "Usually, working with the logits yields better results for OOD detection. **Can we get them directly?**"
      ]
    },
    {
      "cell_type": "code",
      "execution_count": null,
      "metadata": {
        "id": "pF1-BnTbG2iK"
      },
      "outputs": [],
      "source": [
        "mnist_test_confidence = # your code here\n",
        "fmnist_confidence = # your code here"
      ]
    },
    {
      "cell_type": "markdown",
      "metadata": {
        "id": "47Ot1Vjm3kWy"
      },
      "source": [
        "We can immediately compare the two distribution using a visualization method like a boxplot (also density/violin plots are perfectly fine for this task). In the figure below, \"1\" on the x-axis refers to MNIST, \"2\" to Fashion MNIST, while the y axis tracks the confidence."
      ]
    },
    {
      "cell_type": "code",
      "execution_count": null,
      "metadata": {
        "colab": {
          "base_uri": "https://localhost:8080/",
          "height": 452
        },
        "id": "4G75fr2RkvXp",
        "outputId": "5f6ac84a-249e-4700-9916-dc56fbd43980"
      },
      "outputs": [
        {
          "data": {
            "text/plain": [
              "(0.0, 1.0)"
            ]
          },
          "execution_count": 92,
          "metadata": {},
          "output_type": "execute_result"
        },
        {
          "data": {
            "image/png": "[encoded data removed]",
            "text/plain": [
              "<Figure size 640x480 with 1 Axes>"
            ]
          },
          "metadata": {},
          "output_type": "display_data"
        }
      ],
      "source": [
        "_ = plt.boxplot([mnist_test_confidence, fmnist_confidence])\n",
        "plt.ylim((0,1))"
      ]
    },
    {
      "cell_type": "markdown",
      "metadata": {
        "id": "BDQUvcA93uXW"
      },
      "source": [
        "**Q: _What can you comment on the above chart? What are the main differences between the two distributions?_**"
      ]
    },
    {
      "cell_type": "markdown",
      "metadata": {
        "id": "HbIuH5GQ4Fem"
      },
      "source": [
        "We can quantitatively check the model capability for telling apart ID and OOD data by using the confidence values as _predictors_ for OOD.\n",
        "We can do so by assigning a synthetic label of 0 for ID data (MNIST) and 1 for OOD data (Fashion MNIST) and see if we can find a confidence threshold which optimally divides the two distributions.\n",
        "We can measure the performance using one or more metrics for binary classification:\n",
        "* Accuracy\n",
        "* FP and/or FN\n",
        "* F1 score\n",
        "* ...\n",
        "\n",
        "**_Other ideas_**?"
      ]
    },
    {
      "cell_type": "code",
      "execution_count": null,
      "metadata": {
        "id": "hhafRhJHmpWh"
      },
      "outputs": [],
      "source": [
        "def ood_detection_scores(confidence_id, confidence_ood,\n",
        "                         min_thresh=0.0, max_thresh=1.0, num_steps=101,\n",
        "                         comparison_fn=np.less):\n",
        "\n",
        "  ood_label = np.concatenate([\n",
        "      np.zeros_like(confidence_id),\n",
        "      np.ones_like(confidence_ood)\n",
        "  ])\n",
        "\n",
        "  len_id = len(confidence_id)\n",
        "\n",
        "  threshold = []\n",
        "  accuracy = []\n",
        "  accuracy_id = []\n",
        "  accuracy_ood = []\n",
        "  f1_score = []\n",
        "  # add here other metrics\n",
        "\n",
        "  for thresh in np.linspace(min_thresh, max_thresh, num_steps):\n",
        "    detection_scores_id = np.where(comparison_fn(confidence_id, thresh), 1, 0)\n",
        "    detection_scores_ood = np.where(comparison_fn(confidence_ood, thresh), 1, 0)\n",
        "    detection_scores = np.concatenate([detection_scores_id, detection_scores_ood])\n",
        "\n",
        "    acc = M.accuracy_score(ood_label, detection_scores)\n",
        "    acc_id = M.accuracy_score(ood_label[:len_id], detection_scores_id)\n",
        "    acc_ood = M.accuracy_score(ood_label[len_id:], detection_scores_ood)\n",
        "    f1 = M.f1_score(ood_label, detection_scores)\n",
        "    # add here other metrics\n",
        "\n",
        "    threshold.append(thresh)\n",
        "    accuracy.append(acc)\n",
        "    accuracy_id.append(acc_id)\n",
        "    accuracy_ood.append(acc_ood)\n",
        "    f1_score.append(f1)\n",
        "    # add here other metrics\n",
        "\n",
        "  ood_detection_scores = pd.DataFrame({\n",
        "    \"threshold\": threshold,\n",
        "    \"accuracy\": accuracy,\n",
        "    \"accuracy_id\": accuracy_id,\n",
        "    \"accuracy_ood\": accuracy_ood,\n",
        "    \"f1_score\": f1_score,\n",
        "    # add here other metrics\n",
        "  })\n",
        "\n",
        "  return ood_detection_scores"
      ]
    },
    {
      "cell_type": "code",
      "execution_count": null,
      "metadata": {
        "colab": {
          "base_uri": "https://localhost:8080/",
          "height": 2302
        },
        "id": "56y_5qIQus3E",
        "outputId": "e26c4702-54a6-489e-b6f9-593fbc58d680"
      },
      "outputs": [
        {
          "output_type": "execute_result",
          "data": {
            "text/plain": [
              "     threshold  accuracy  accuracy_id  accuracy_ood  f1_score\n",
              "0         0.00   0.50000       1.0000        0.0000  0.000000\n",
              "1         0.01   0.50000       1.0000        0.0000  0.000000\n",
              "2         0.02   0.50000       1.0000        0.0000  0.000000\n",
              "3         0.03   0.50000       1.0000        0.0000  0.000000\n",
              "4         0.04   0.50000       1.0000        0.0000  0.000000\n",
              "..         ...       ...          ...           ...       ...\n",
              "96        0.96   0.68620       0.8988        0.4736  0.601473\n",
              "97        0.97   0.69355       0.8853        0.5018  0.620848\n",
              "98        0.98   0.69855       0.8639        0.5332  0.638831\n",
              "99        0.99   0.70150       0.8200        0.5830  0.661373\n",
              "100       1.00   0.50000       0.0000        1.0000  0.666667\n",
              "\n",
              "[101 rows x 5 columns]"
            ],
            "text/html": [
              "\n",
              "\n",
              "  <div id=\"df-a4aad4a1-8eac-45cf-8f68-6ce8e2afd2ed\">\n",
              "    <div class=\"colab-df-container\">\n",
              "      <div>\n",
              "<style scoped>\n",
              "    .dataframe tbody tr th:only-of-type {\n",
              "        vertical-align: middle;\n",
              "    }\n",
              "\n",
              "    .dataframe tbody tr th {\n",
              "        vertical-align: top;\n",
              "    }\n",
              "\n",
              "    .dataframe thead th {\n",
              "        text-align: right;\n",
              "    }\n",
              "</style>\n",
              "<table border=\"1\" class=\"dataframe\">\n",
              "  <thead>\n",
              "    <tr style=\"text-align: right;\">\n",
              "      <th></th>\n",
              "      <th>threshold</th>\n",
              "      <th>accuracy</th>\n",
              "      <th>accuracy_id</th>\n",
              "      <th>accuracy_ood</th>\n",
              "      <th>f1_score</th>\n",
              "    </tr>\n",
              "  </thead>\n",
              "  <tbody>\n",
              "    <tr>\n",
              "      <th>0</th>\n",
              "      <td>0.00</td>\n",
              "      <td>0.50000</td>\n",
              "      <td>1.0000</td>\n",
              "      <td>0.0000</td>\n",
              "      <td>0.000000</td>\n",
              "    </tr>\n",
              "    <tr>\n",
              "      <th>1</th>\n",
              "      <td>0.01</td>\n",
              "      <td>0.50000</td>\n",
              "      <td>1.0000</td>\n",
              "      <td>0.0000</td>\n",
              "      <td>0.000000</td>\n",
              "    </tr>\n",
              "    <tr>\n",
              "      <th>2</th>\n",
              "      <td>0.02</td>\n",
              "      <td>0.50000</td>\n",
              "      <td>1.0000</td>\n",
              "      <td>0.0000</td>\n",
              "      <td>0.000000</td>\n",
              "    </tr>\n",
              "    <tr>\n",
              "      <th>3</th>\n",
              "      <td>0.03</td>\n",
              "      <td>0.50000</td>\n",
              "      <td>1.0000</td>\n",
              "      <td>0.0000</td>\n",
              "      <td>0.000000</td>\n",
              "    </tr>\n",
              "    <tr>\n",
              "      <th>4</th>\n",
              "      <td>0.04</td>\n",
              "      <td>0.50000</td>\n",
              "      <td>1.0000</td>\n",
              "      <td>0.0000</td>\n",
              "      <td>0.000000</td>\n",
              "    </tr>\n",
              "    <tr>\n",
              "      <th>...</th>\n",
              "      <td>...</td>\n",
              "      <td>...</td>\n",
              "      <td>...</td>\n",
              "      <td>...</td>\n",
              "      <td>...</td>\n",
              "    </tr>\n",
              "    <tr>\n",
              "      <th>96</th>\n",
              "      <td>0.96</td>\n",
              "      <td>0.68620</td>\n",
              "      <td>0.8988</td>\n",
              "      <td>0.4736</td>\n",
              "      <td>0.601473</td>\n",
              "    </tr>\n",
              "    <tr>\n",
              "      <th>97</th>\n",
              "      <td>0.97</td>\n",
              "      <td>0.69355</td>\n",
              "      <td>0.8853</td>\n",
              "      <td>0.5018</td>\n",
              "      <td>0.620848</td>\n",
              "    </tr>\n",
              "    <tr>\n",
              "      <th>98</th>\n",
              "      <td>0.98</td>\n",
              "      <td>0.69855</td>\n",
              "      <td>0.8639</td>\n",
              "      <td>0.5332</td>\n",
              "      <td>0.638831</td>\n",
              "    </tr>\n",
              "    <tr>\n",
              "      <th>99</th>\n",
              "      <td>0.99</td>\n",
              "      <td>0.70150</td>\n",
              "      <td>0.8200</td>\n",
              "      <td>0.5830</td>\n",
              "      <td>0.661373</td>\n",
              "    </tr>\n",
              "    <tr>\n",
              "      <th>100</th>\n",
              "      <td>1.00</td>\n",
              "      <td>0.50000</td>\n",
              "      <td>0.0000</td>\n",
              "      <td>1.0000</td>\n",
              "      <td>0.666667</td>\n",
              "    </tr>\n",
              "  </tbody>\n",
              "</table>\n",
              "<p>101 rows × 5 columns</p>\n",
              "</div>\n",
              "      <button class=\"colab-df-convert\" onclick=\"convertToInteractive('df-a4aad4a1-8eac-45cf-8f68-6ce8e2afd2ed')\"\n",
              "              title=\"Convert this dataframe to an interactive table.\"\n",
              "              style=\"display:none;\">\n",
              "\n",
              "  <svg xmlns=\"http://www.w3.org/2000/svg\" height=\"24px\"viewBox=\"0 0 24 24\"\n",
              "       width=\"24px\">\n",
              "    <path d=\"M0 0h24v24H0V0z\" fill=\"none\"/>\n",
              "    <path d=\"M18.56 5.44l.94 2.06.94-2.06 2.06-.94-2.06-.94-.94-2.06-.94 2.06-2.06.94zm-11 1L8.5 8.5l.94-2.06 2.06-.94-2.06-.94L8.5 2.5l-.94 2.06-2.06.94zm10 10l.94 2.06.94-2.06 2.06-.94-2.06-.94-.94-2.06-.94 2.06-2.06.94z\"/><path d=\"M17.41 7.96l-1.37-1.37c-.4-.4-.92-.59-1.43-.59-.52 0-1.04.2-1.43.59L10.3 9.45l-7.72 7.72c-.78.78-.78 2.05 0 2.83L4 21.41c.39.39.9.59 1.41.59.51 0 1.02-.2 1.41-.59l7.78-7.78 2.81-2.81c.8-.78.8-2.07 0-2.86zM5.41 20L4 18.59l7.72-7.72 1.47 1.35L5.41 20z\"/>\n",
              "  </svg>\n",
              "      </button>\n",
              "\n",
              "\n",
              "\n",
              "    <div id=\"df-0fc46169-a9d9-4490-a152-5cb2b8efa834\">\n",
              "      <button class=\"colab-df-quickchart\" onclick=\"quickchart('df-0fc46169-a9d9-4490-a152-5cb2b8efa834')\"\n",
              "              title=\"Suggest charts.\"\n",
              "              style=\"display:none;\">\n",
              "\n",
              "<svg xmlns=\"http://www.w3.org/2000/svg\" height=\"24px\"viewBox=\"0 0 24 24\"\n",
              "     width=\"24px\">\n",
              "    <g>\n",
              "        <path d=\"M19 3H5c-1.1 0-2 .9-2 2v14c0 1.1.9 2 2 2h14c1.1 0 2-.9 2-2V5c0-1.1-.9-2-2-2zM9 17H7v-7h2v7zm4 0h-2V7h2v10zm4 0h-2v-4h2v4z\"/>\n",
              "    </g>\n",
              "</svg>\n",
              "      </button>\n",
              "    </div>\n",
              "\n",
              "<style>\n",
              "  .colab-df-quickchart {\n",
              "    background-color: #E8F0FE;\n",
              "    border: none;\n",
              "    border-radius: 50%;\n",
              "    cursor: pointer;\n",
              "    display: none;\n",
              "    fill: #1967D2;\n",
              "    height: 32px;\n",
              "    padding: 0 0 0 0;\n",
              "    width: 32px;\n",
              "  }\n",
              "\n",
              "  .colab-df-quickchart:hover {\n",
              "    background-color: #E2EBFA;\n",
              "    box-shadow: 0px 1px 2px rgba(60, 64, 67, 0.3), 0px 1px 3px 1px rgba(60, 64, 67, 0.15);\n",
              "    fill: #174EA6;\n",
              "  }\n",
              "\n",
              "  [theme=dark] .colab-df-quickchart {\n",
              "    background-color: #3B4455;\n",
              "    fill: #D2E3FC;\n",
              "  }\n",
              "\n",
              "  [theme=dark] .colab-df-quickchart:hover {\n",
              "    background-color: #434B5C;\n",
              "    box-shadow: 0px 1px 3px 1px rgba(0, 0, 0, 0.15);\n",
              "    filter: drop-shadow(0px 1px 2px rgba(0, 0, 0, 0.3));\n",
              "    fill: #FFFFFF;\n",
              "  }\n",
              "</style>\n",
              "\n",
              "    <script>\n",
              "      async function quickchart(key) {\n",
              "        const containerElement = document.querySelector('#' + key);\n",
              "        const charts = await google.colab.kernel.invokeFunction(\n",
              "            'suggestCharts', [key], {});\n",
              "      }\n",
              "    </script>\n",
              "\n",
              "      <script>\n",
              "\n",
              "function displayQuickchartButton(domScope) {\n",
              "  let quickchartButtonEl =\n",
              "    domScope.querySelector('#df-0fc46169-a9d9-4490-a152-5cb2b8efa834 button.colab-df-quickchart');\n",
              "  quickchartButtonEl.style.display =\n",
              "    google.colab.kernel.accessAllowed ? 'block' : 'none';\n",
              "}\n",
              "\n",
              "        displayQuickchartButton(document);\n",
              "      </script>\n",
              "      <style>\n",
              "    .colab-df-container {\n",
              "      display:flex;\n",
              "      flex-wrap:wrap;\n",
              "      gap: 12px;\n",
              "    }\n",
              "\n",
              "    .colab-df-convert {\n",
              "      background-color: #E8F0FE;\n",
              "      border: none;\n",
              "      border-radius: 50%;\n",
              "      cursor: pointer;\n",
              "      display: none;\n",
              "      fill: #1967D2;\n",
              "      height: 32px;\n",
              "      padding: 0 0 0 0;\n",
              "      width: 32px;\n",
              "    }\n",
              "\n",
              "    .colab-df-convert:hover {\n",
              "      background-color: #E2EBFA;\n",
              "      box-shadow: 0px 1px 2px rgba(60, 64, 67, 0.3), 0px 1px 3px 1px rgba(60, 64, 67, 0.15);\n",
              "      fill: #174EA6;\n",
              "    }\n",
              "\n",
              "    [theme=dark] .colab-df-convert {\n",
              "      background-color: #3B4455;\n",
              "      fill: #D2E3FC;\n",
              "    }\n",
              "\n",
              "    [theme=dark] .colab-df-convert:hover {\n",
              "      background-color: #434B5C;\n",
              "      box-shadow: 0px 1px 3px 1px rgba(0, 0, 0, 0.15);\n",
              "      filter: drop-shadow(0px 1px 2px rgba(0, 0, 0, 0.3));\n",
              "      fill: #FFFFFF;\n",
              "    }\n",
              "  </style>\n",
              "\n",
              "      <script>\n",
              "        const buttonEl =\n",
              "          document.querySelector('#df-a4aad4a1-8eac-45cf-8f68-6ce8e2afd2ed button.colab-df-convert');\n",
              "        buttonEl.style.display =\n",
              "          google.colab.kernel.accessAllowed ? 'block' : 'none';\n",
              "\n",
              "        async function convertToInteractive(key) {\n",
              "          const element = document.querySelector('#df-a4aad4a1-8eac-45cf-8f68-6ce8e2afd2ed');\n",
              "          const dataTable =\n",
              "            await google.colab.kernel.invokeFunction('convertToInteractive',\n",
              "                                                     [key], {});\n",
              "          if (!dataTable) return;\n",
              "\n",
              "          const docLinkHtml = 'Like what you see? Visit the ' +\n",
              "            '<a target=\"_blank\" href=https://colab.research.google.com/notebooks/data_table.ipynb>data table notebook</a>'\n",
              "            + ' to learn more about interactive tables.';\n",
              "          element.innerHTML = '';\n",
              "          dataTable['output_type'] = 'display_data';\n",
              "          await google.colab.output.renderOutput(dataTable, element);\n",
              "          const docLink = document.createElement('div');\n",
              "          docLink.innerHTML = docLinkHtml;\n",
              "          element.appendChild(docLink);\n",
              "        }\n",
              "      </script>\n",
              "    </div>\n",
              "  </div>\n"
            ]
          },
          "metadata": {},
          "execution_count": 52
        }
      ],
      "source": [
        "ood_detection_scores(mnist_test_confidence, fmnist_confidence)"
      ]
    },
    {
      "cell_type": "markdown",
      "metadata": {
        "id": "ZLCaguqz40JS"
      },
      "source": [
        "Another common indicator for measuring the _separability_ power of a classifier is the Receiving Operator Curve (ROC) and the corresponding Area Under the Curve (AUC, but often called AUROC or AUC-ROC).\n",
        "This metric already scans the separability for a multeplicity of thresholds. A perfect separability yields a value of 1."
      ]
    },
    {
      "cell_type": "code",
      "execution_count": null,
      "metadata": {
        "colab": {
          "base_uri": "https://localhost:8080/",
          "height": 449
        },
        "id": "4zXGI1DhvqVq",
        "outputId": "2bf597d8-6ab2-4330-812f-c4b283fa97bc"
      },
      "outputs": [
        {
          "output_type": "display_data",
          "data": {
            "text/plain": [
              "<Figure size 640x480 with 1 Axes>"
            ],
            "image/png": "[encoded data removed]"
          },
          "metadata": {}
        }
      ],
      "source": [
        "def plot_roc(confidence_id, confidence_ood):\n",
        "  ood_label = np.concatenate([\n",
        "        np.zeros_like(confidence_id),\n",
        "        np.ones_like(confidence_ood)\n",
        "    ])\n",
        "\n",
        "  true_pos_rate, false_pos_rate, thresh = M.roc_curve(\n",
        "      ood_label,\n",
        "      np.concatenate([confidence_id, confidence_ood])\n",
        "  )\n",
        "  roc_auc = M.auc(false_pos_rate, true_pos_rate)\n",
        "\n",
        "  display = M.RocCurveDisplay(fpr=false_pos_rate, tpr=true_pos_rate, roc_auc=roc_auc)\n",
        "  display.plot()\n",
        "\n",
        "plot_roc(mnist_test_confidence, fmnist_confidence)"
      ]
    },
    {
      "cell_type": "markdown",
      "source": [
        "### Do we get any improvement if we switch to Entropy?\n",
        "\n",
        "We have made considerations on the confidence in the prediction:\n",
        "\n",
        "$$\n",
        "\\text{Conf}(\\hat{y}) = \\max_{c=1,\\dots,C} \\hat{y}\n",
        "$$\n",
        "\n",
        "However, we could also make considerations on the **Entropy** of the prediction\n",
        "\n",
        "$$\n",
        "H(\\hat{y}) = -\\sum_{c=1}^{C} \\hat{y}_c \\log \\hat{y}_c\n",
        "$$"
      ],
      "metadata": {
        "id": "uV0vh1FHIX_O"
      }
    },
    {
      "cell_type": "code",
      "source": [
        "def entropy(predictions_array):\n",
        "  # your code here\n",
        "  pass"
      ],
      "metadata": {
        "id": "mTH8zRSHLM3N"
      },
      "execution_count": null,
      "outputs": []
    },
    {
      "cell_type": "code",
      "source": [
        "entropy_mnist_test = # pass\n",
        "entropy_fmnist = # pass"
      ],
      "metadata": {
        "id": "nkAF35zwKtlp"
      },
      "execution_count": null,
      "outputs": []
    },
    {
      "cell_type": "code",
      "source": [
        "_ = plt.boxplot((entropy_mnist_test, entropy_fmnist))"
      ],
      "metadata": {
        "colab": {
          "base_uri": "https://localhost:8080/",
          "height": 430
        },
        "id": "Ys_4HOqEPVDc",
        "outputId": "05b6fb70-af2c-44a5-da49-43a3f293d489"
      },
      "execution_count": null,
      "outputs": [
        {
          "output_type": "display_data",
          "data": {
            "text/plain": [
              "<Figure size 640x480 with 1 Axes>"
            ],
            "image/png": "[encoded data removed]"
          },
          "metadata": {}
        }
      ]
    },
    {
      "cell_type": "markdown",
      "source": [],
      "metadata": {
        "id": "FTRJgJz1LkvN"
      }
    },
    {
      "cell_type": "code",
      "source": [
        "ood_detection_scores(entropy_mnist_test, entropy_fmnist,\n",
        "                     max_thresh=max(entropy_mnist_test.max(), entropy_fmnist.max()),\n",
        "                     comparison_fn=np.greater)"
      ],
      "metadata": {
        "colab": {
          "base_uri": "https://localhost:8080/",
          "height": 2302
        },
        "id": "Xux3mtrALlDO",
        "outputId": "0dc7f232-04e4-4685-831d-a94514b74753"
      },
      "execution_count": null,
      "outputs": [
        {
          "output_type": "execute_result",
          "data": {
            "text/plain": [
              "     threshold  accuracy  accuracy_id  accuracy_ood  f1_score\n",
              "0     0.000000   0.50000       0.0000        1.0000  0.666667\n",
              "1     0.018457   0.68145       0.7029        0.6600  0.674467\n",
              "2     0.036913   0.69785       0.7761        0.6196  0.672200\n",
              "3     0.055370   0.70010       0.8096        0.5906  0.663223\n",
              "4     0.073827   0.70030       0.8343        0.5663  0.653926\n",
              "..         ...       ...          ...           ...       ...\n",
              "96    1.771846   0.50000       0.9999        0.0001  0.000200\n",
              "97    1.790303   0.50000       0.9999        0.0001  0.000200\n",
              "98    1.808760   0.50000       0.9999        0.0001  0.000200\n",
              "99    1.827216   0.50000       0.9999        0.0001  0.000200\n",
              "100   1.845673   0.50000       1.0000        0.0000  0.000000\n",
              "\n",
              "[101 rows x 5 columns]"
            ],
            "text/html": [
              "\n",
              "\n",
              "  <div id=\"df-714637c0-1ac8-4c30-af1a-56c7db90bb68\">\n",
              "    <div class=\"colab-df-container\">\n",
              "      <div>\n",
              "<style scoped>\n",
              "    .dataframe tbody tr th:only-of-type {\n",
              "        vertical-align: middle;\n",
              "    }\n",
              "\n",
              "    .dataframe tbody tr th {\n",
              "        vertical-align: top;\n",
              "    }\n",
              "\n",
              "    .dataframe thead th {\n",
              "        text-align: right;\n",
              "    }\n",
              "</style>\n",
              "<table border=\"1\" class=\"dataframe\">\n",
              "  <thead>\n",
              "    <tr style=\"text-align: right;\">\n",
              "      <th></th>\n",
              "      <th>threshold</th>\n",
              "      <th>accuracy</th>\n",
              "      <th>accuracy_id</th>\n",
              "      <th>accuracy_ood</th>\n",
              "      <th>f1_score</th>\n",
              "    </tr>\n",
              "  </thead>\n",
              "  <tbody>\n",
              "    <tr>\n",
              "      <th>0</th>\n",
              "      <td>0.000000</td>\n",
              "      <td>0.50000</td>\n",
              "      <td>0.0000</td>\n",
              "      <td>1.0000</td>\n",
              "      <td>0.666667</td>\n",
              "    </tr>\n",
              "    <tr>\n",
              "      <th>1</th>\n",
              "      <td>0.018457</td>\n",
              "      <td>0.68145</td>\n",
              "      <td>0.7029</td>\n",
              "      <td>0.6600</td>\n",
              "      <td>0.674467</td>\n",
              "    </tr>\n",
              "    <tr>\n",
              "      <th>2</th>\n",
              "      <td>0.036913</td>\n",
              "      <td>0.69785</td>\n",
              "      <td>0.7761</td>\n",
              "      <td>0.6196</td>\n",
              "      <td>0.672200</td>\n",
              "    </tr>\n",
              "    <tr>\n",
              "      <th>3</th>\n",
              "      <td>0.055370</td>\n",
              "      <td>0.70010</td>\n",
              "      <td>0.8096</td>\n",
              "      <td>0.5906</td>\n",
              "      <td>0.663223</td>\n",
              "    </tr>\n",
              "    <tr>\n",
              "      <th>4</th>\n",
              "      <td>0.073827</td>\n",
              "      <td>0.70030</td>\n",
              "      <td>0.8343</td>\n",
              "      <td>0.5663</td>\n",
              "      <td>0.653926</td>\n",
              "    </tr>\n",
              "    <tr>\n",
              "      <th>...</th>\n",
              "      <td>...</td>\n",
              "      <td>...</td>\n",
              "      <td>...</td>\n",
              "      <td>...</td>\n",
              "      <td>...</td>\n",
              "    </tr>\n",
              "    <tr>\n",
              "      <th>96</th>\n",
              "      <td>1.771846</td>\n",
              "      <td>0.50000</td>\n",
              "      <td>0.9999</td>\n",
              "      <td>0.0001</td>\n",
              "      <td>0.000200</td>\n",
              "    </tr>\n",
              "    <tr>\n",
              "      <th>97</th>\n",
              "      <td>1.790303</td>\n",
              "      <td>0.50000</td>\n",
              "      <td>0.9999</td>\n",
              "      <td>0.0001</td>\n",
              "      <td>0.000200</td>\n",
              "    </tr>\n",
              "    <tr>\n",
              "      <th>98</th>\n",
              "      <td>1.808760</td>\n",
              "      <td>0.50000</td>\n",
              "      <td>0.9999</td>\n",
              "      <td>0.0001</td>\n",
              "      <td>0.000200</td>\n",
              "    </tr>\n",
              "    <tr>\n",
              "      <th>99</th>\n",
              "      <td>1.827216</td>\n",
              "      <td>0.50000</td>\n",
              "      <td>0.9999</td>\n",
              "      <td>0.0001</td>\n",
              "      <td>0.000200</td>\n",
              "    </tr>\n",
              "    <tr>\n",
              "      <th>100</th>\n",
              "      <td>1.845673</td>\n",
              "      <td>0.50000</td>\n",
              "      <td>1.0000</td>\n",
              "      <td>0.0000</td>\n",
              "      <td>0.000000</td>\n",
              "    </tr>\n",
              "  </tbody>\n",
              "</table>\n",
              "<p>101 rows × 5 columns</p>\n",
              "</div>\n",
              "      <button class=\"colab-df-convert\" onclick=\"convertToInteractive('df-714637c0-1ac8-4c30-af1a-56c7db90bb68')\"\n",
              "              title=\"Convert this dataframe to an interactive table.\"\n",
              "              style=\"display:none;\">\n",
              "\n",
              "  <svg xmlns=\"http://www.w3.org/2000/svg\" height=\"24px\"viewBox=\"0 0 24 24\"\n",
              "       width=\"24px\">\n",
              "    <path d=\"M0 0h24v24H0V0z\" fill=\"none\"/>\n",
              "    <path d=\"M18.56 5.44l.94 2.06.94-2.06 2.06-.94-2.06-.94-.94-2.06-.94 2.06-2.06.94zm-11 1L8.5 8.5l.94-2.06 2.06-.94-2.06-.94L8.5 2.5l-.94 2.06-2.06.94zm10 10l.94 2.06.94-2.06 2.06-.94-2.06-.94-.94-2.06-.94 2.06-2.06.94z\"/><path d=\"M17.41 7.96l-1.37-1.37c-.4-.4-.92-.59-1.43-.59-.52 0-1.04.2-1.43.59L10.3 9.45l-7.72 7.72c-.78.78-.78 2.05 0 2.83L4 21.41c.39.39.9.59 1.41.59.51 0 1.02-.2 1.41-.59l7.78-7.78 2.81-2.81c.8-.78.8-2.07 0-2.86zM5.41 20L4 18.59l7.72-7.72 1.47 1.35L5.41 20z\"/>\n",
              "  </svg>\n",
              "      </button>\n",
              "\n",
              "\n",
              "\n",
              "    <div id=\"df-5852e71f-8de0-47b1-91b4-c727f58c5fb5\">\n",
              "      <button class=\"colab-df-quickchart\" onclick=\"quickchart('df-5852e71f-8de0-47b1-91b4-c727f58c5fb5')\"\n",
              "              title=\"Suggest charts.\"\n",
              "              style=\"display:none;\">\n",
              "\n",
              "<svg xmlns=\"http://www.w3.org/2000/svg\" height=\"24px\"viewBox=\"0 0 24 24\"\n",
              "     width=\"24px\">\n",
              "    <g>\n",
              "        <path d=\"M19 3H5c-1.1 0-2 .9-2 2v14c0 1.1.9 2 2 2h14c1.1 0 2-.9 2-2V5c0-1.1-.9-2-2-2zM9 17H7v-7h2v7zm4 0h-2V7h2v10zm4 0h-2v-4h2v4z\"/>\n",
              "    </g>\n",
              "</svg>\n",
              "      </button>\n",
              "    </div>\n",
              "\n",
              "<style>\n",
              "  .colab-df-quickchart {\n",
              "    background-color: #E8F0FE;\n",
              "    border: none;\n",
              "    border-radius: 50%;\n",
              "    cursor: pointer;\n",
              "    display: none;\n",
              "    fill: #1967D2;\n",
              "    height: 32px;\n",
              "    padding: 0 0 0 0;\n",
              "    width: 32px;\n",
              "  }\n",
              "\n",
              "  .colab-df-quickchart:hover {\n",
              "    background-color: #E2EBFA;\n",
              "    box-shadow: 0px 1px 2px rgba(60, 64, 67, 0.3), 0px 1px 3px 1px rgba(60, 64, 67, 0.15);\n",
              "    fill: #174EA6;\n",
              "  }\n",
              "\n",
              "  [theme=dark] .colab-df-quickchart {\n",
              "    background-color: #3B4455;\n",
              "    fill: #D2E3FC;\n",
              "  }\n",
              "\n",
              "  [theme=dark] .colab-df-quickchart:hover {\n",
              "    background-color: #434B5C;\n",
              "    box-shadow: 0px 1px 3px 1px rgba(0, 0, 0, 0.15);\n",
              "    filter: drop-shadow(0px 1px 2px rgba(0, 0, 0, 0.3));\n",
              "    fill: #FFFFFF;\n",
              "  }\n",
              "</style>\n",
              "\n",
              "    <script>\n",
              "      async function quickchart(key) {\n",
              "        const containerElement = document.querySelector('#' + key);\n",
              "        const charts = await google.colab.kernel.invokeFunction(\n",
              "            'suggestCharts', [key], {});\n",
              "      }\n",
              "    </script>\n",
              "\n",
              "      <script>\n",
              "\n",
              "function displayQuickchartButton(domScope) {\n",
              "  let quickchartButtonEl =\n",
              "    domScope.querySelector('#df-5852e71f-8de0-47b1-91b4-c727f58c5fb5 button.colab-df-quickchart');\n",
              "  quickchartButtonEl.style.display =\n",
              "    google.colab.kernel.accessAllowed ? 'block' : 'none';\n",
              "}\n",
              "\n",
              "        displayQuickchartButton(document);\n",
              "      </script>\n",
              "      <style>\n",
              "    .colab-df-container {\n",
              "      display:flex;\n",
              "      flex-wrap:wrap;\n",
              "      gap: 12px;\n",
              "    }\n",
              "\n",
              "    .colab-df-convert {\n",
              "      background-color: #E8F0FE;\n",
              "      border: none;\n",
              "      border-radius: 50%;\n",
              "      cursor: pointer;\n",
              "      display: none;\n",
              "      fill: #1967D2;\n",
              "      height: 32px;\n",
              "      padding: 0 0 0 0;\n",
              "      width: 32px;\n",
              "    }\n",
              "\n",
              "    .colab-df-convert:hover {\n",
              "      background-color: #E2EBFA;\n",
              "      box-shadow: 0px 1px 2px rgba(60, 64, 67, 0.3), 0px 1px 3px 1px rgba(60, 64, 67, 0.15);\n",
              "      fill: #174EA6;\n",
              "    }\n",
              "\n",
              "    [theme=dark] .colab-df-convert {\n",
              "      background-color: #3B4455;\n",
              "      fill: #D2E3FC;\n",
              "    }\n",
              "\n",
              "    [theme=dark] .colab-df-convert:hover {\n",
              "      background-color: #434B5C;\n",
              "      box-shadow: 0px 1px 3px 1px rgba(0, 0, 0, 0.15);\n",
              "      filter: drop-shadow(0px 1px 2px rgba(0, 0, 0, 0.3));\n",
              "      fill: #FFFFFF;\n",
              "    }\n",
              "  </style>\n",
              "\n",
              "      <script>\n",
              "        const buttonEl =\n",
              "          document.querySelector('#df-714637c0-1ac8-4c30-af1a-56c7db90bb68 button.colab-df-convert');\n",
              "        buttonEl.style.display =\n",
              "          google.colab.kernel.accessAllowed ? 'block' : 'none';\n",
              "\n",
              "        async function convertToInteractive(key) {\n",
              "          const element = document.querySelector('#df-714637c0-1ac8-4c30-af1a-56c7db90bb68');\n",
              "          const dataTable =\n",
              "            await google.colab.kernel.invokeFunction('convertToInteractive',\n",
              "                                                     [key], {});\n",
              "          if (!dataTable) return;\n",
              "\n",
              "          const docLinkHtml = 'Like what you see? Visit the ' +\n",
              "            '<a target=\"_blank\" href=https://colab.research.google.com/notebooks/data_table.ipynb>data table notebook</a>'\n",
              "            + ' to learn more about interactive tables.';\n",
              "          element.innerHTML = '';\n",
              "          dataTable['output_type'] = 'display_data';\n",
              "          await google.colab.output.renderOutput(dataTable, element);\n",
              "          const docLink = document.createElement('div');\n",
              "          docLink.innerHTML = docLinkHtml;\n",
              "          element.appendChild(docLink);\n",
              "        }\n",
              "      </script>\n",
              "    </div>\n",
              "  </div>\n"
            ]
          },
          "metadata": {},
          "execution_count": 63
        }
      ]
    },
    {
      "cell_type": "code",
      "source": [
        "plot_roc(entropy_mnist_test, entropy_fmnist)"
      ],
      "metadata": {
        "colab": {
          "base_uri": "https://localhost:8080/",
          "height": 449
        },
        "id": "9IddJFk_P3Hj",
        "outputId": "9cc673fc-5423-4ee5-c960-74dd7ab7798b"
      },
      "execution_count": null,
      "outputs": [
        {
          "output_type": "display_data",
          "data": {
            "text/plain": [
              "<Figure size 640x480 with 1 Axes>"
            ],
            "image/png": "[encoded data removed]"
          },
          "metadata": {}
        }
      ]
    },
    {
      "cell_type": "markdown",
      "metadata": {
        "id": "P5J9KcoUtLSl"
      },
      "source": [
        "## Switch to a Bayesian model\n",
        "\n",
        "We have seen that the deterministic NN is unable to effectively tell apart ID and OOD, despite the confidence of the OOD data having a distribution more skewed toward smaller values w.r.t. the ID data.\n",
        "\n",
        "We can repeat the experiment with a BNN and see if this model is more effective at detecting OOD data."
      ]
    },
    {
      "cell_type": "code",
      "execution_count": null,
      "metadata": {
        "id": "-4jeDbJzvOxk"
      },
      "outputs": [],
      "source": [
        "bnn_backbone_mnist = keras.Sequential([\n",
        "    keras.layers.Input((28, 28, 1)),\n",
        "    keras.layers.Flatten(),\n",
        "    keras.layers.Dense(32, activation=\"relu\"),\n",
        "    ku.layers.StochasticDropout(0.2),\n",
        "    keras.layers.Dense(32, activation=\"relu\"),\n",
        "    ku.layers.StochasticDropout(0.2),\n",
        "    keras.layers.Dense(10, activation=\"softmax\")\n",
        "])\n",
        "\n",
        "bnn_backbone_mnist.compile(loss=\"categorical_crossentropy\", optimizer=\"adam\", metrics=[\"accuracy\"])\n",
        "\n",
        "# uncomment to train\n",
        "# bnn_backbone_mnist.fit(x, y, batch_size=128, epochs=35)"
      ]
    },
    {
      "cell_type": "code",
      "execution_count": null,
      "metadata": {
        "id": "OxtXC--YJO2b"
      },
      "outputs": [],
      "source": [
        "bnn_backbone_mnist.load_weights(\"/content/UncertaintyML-course-ESSAI-labs/files/bnn_dropout_mnist_weights.keras\")\n",
        "\n",
        "# bnn_backbone_mnist.save_weights(\"bnn_dropout_mnist_weights.keras\")\n",
        "# files.download(\"bnn_dropout_mnist_weights.keras\")"
      ]
    },
    {
      "cell_type": "code",
      "execution_count": null,
      "metadata": {
        "id": "Z7Dg_SXiIk9o"
      },
      "outputs": [],
      "source": [
        "bnn_mnist = ku.models.StochasticClassifier(bnn_backbone_mnist)"
      ]
    },
    {
      "cell_type": "markdown",
      "metadata": {
        "id": "sfS97lyXKoWy"
      },
      "source": [
        "Get the predictions... This might take a while, so I have saved them and I can provide them already pre-packaged in a numpy archive."
      ]
    },
    {
      "cell_type": "code",
      "execution_count": null,
      "metadata": {
        "id": "52cvmkH6MHqe"
      },
      "outputs": [],
      "source": [
        "# Uncomment to get predictions\n",
        "# mnist_test_predictions_bnn = bnn_mnist.predict(x_test, num_samples=25)"
      ]
    },
    {
      "cell_type": "code",
      "source": [
        "mnist_test_predictions_bnn = np.load(\n",
        "    \"/content/UncertaintyML-course-ESSAI-labs/files/bnn_dropout_mnist_predictions.npy\"\n",
        ")"
      ],
      "metadata": {
        "id": "HYwQ9vu_F1MV"
      },
      "execution_count": null,
      "outputs": []
    },
    {
      "cell_type": "code",
      "execution_count": null,
      "metadata": {
        "colab": {
          "base_uri": "https://localhost:8080/",
          "height": 17
        },
        "id": "hlKER79gzXa8",
        "outputId": "d54047ef-d84b-4882-ad8f-c89f368a2d7b"
      },
      "outputs": [
        {
          "data": {
            "application/javascript": [
              "\n",
              "    async function download(id, filename, size) {\n",
              "      if (!google.colab.kernel.accessAllowed) {\n",
              "        return;\n",
              "      }\n",
              "      const div = document.createElement('div');\n",
              "      const label = document.createElement('label');\n",
              "      label.textContent = `Downloading \"${filename}\": `;\n",
              "      div.appendChild(label);\n",
              "      const progress = document.createElement('progress');\n",
              "      progress.max = size;\n",
              "      div.appendChild(progress);\n",
              "      document.body.appendChild(div);\n",
              "\n",
              "      const buffers = [];\n",
              "      let downloaded = 0;\n",
              "\n",
              "      const channel = await google.colab.kernel.comms.open(id);\n",
              "      // Send a message to notify the kernel that we're ready.\n",
              "      channel.send({})\n",
              "\n",
              "      for await (const message of channel.messages) {\n",
              "        // Send a message to notify the kernel that we're ready.\n",
              "        channel.send({})\n",
              "        if (message.buffers) {\n",
              "          for (const buffer of message.buffers) {\n",
              "            buffers.push(buffer);\n",
              "            downloaded += buffer.byteLength;\n",
              "            progress.value = downloaded;\n",
              "          }\n",
              "        }\n",
              "      }\n",
              "      const blob = new Blob(buffers, {type: 'application/binary'});\n",
              "      const a = document.createElement('a');\n",
              "      a.href = window.URL.createObjectURL(blob);\n",
              "      a.download = filename;\n",
              "      div.appendChild(a);\n",
              "      a.click();\n",
              "      div.remove();\n",
              "    }\n",
              "  "
            ],
            "text/plain": [
              "<IPython.core.display.Javascript object>"
            ]
          },
          "metadata": {},
          "output_type": "display_data"
        },
        {
          "data": {
            "application/javascript": [
              "download(\"download_6f0181cc-40ef-4bb8-badf-2e01f3760f5a\", \"mnist_predictions_bnn_dropout.npy\", 400128)"
            ],
            "text/plain": [
              "<IPython.core.display.Javascript object>"
            ]
          },
          "metadata": {},
          "output_type": "display_data"
        }
      ],
      "source": [
        "# np.save(\"bnn_dropout_mnist_predictions.npy\", mnist_test_predictions_bnn)\n",
        "# files.download(\"bnn_dropout_mnist_predictions.npy\")"
      ]
    },
    {
      "cell_type": "code",
      "execution_count": null,
      "metadata": {
        "id": "Jt8AsUpPNnRu"
      },
      "outputs": [],
      "source": [
        "# Uncomment to get predictions\n",
        "# fmnist_predictions_bnn = bnn_mnist.predict(x_ood, num_samples=25)"
      ]
    },
    {
      "cell_type": "code",
      "source": [
        "fmnist_predictions_bnn = np.load(\n",
        "    \"/content/UncertaintyML-course-ESSAI-labs/files/bnn_dropout_fmnist_predictions.npy\"\n",
        ")"
      ],
      "metadata": {
        "id": "ppQWR3u7F-tv"
      },
      "execution_count": null,
      "outputs": []
    },
    {
      "cell_type": "code",
      "execution_count": null,
      "metadata": {
        "colab": {
          "base_uri": "https://localhost:8080/",
          "height": 17
        },
        "id": "3TAVXtMdUM5j",
        "outputId": "690ad7af-efc5-4158-dbb8-cef0a94dc2d9"
      },
      "outputs": [
        {
          "data": {
            "application/javascript": [
              "\n",
              "    async function download(id, filename, size) {\n",
              "      if (!google.colab.kernel.accessAllowed) {\n",
              "        return;\n",
              "      }\n",
              "      const div = document.createElement('div');\n",
              "      const label = document.createElement('label');\n",
              "      label.textContent = `Downloading \"${filename}\": `;\n",
              "      div.appendChild(label);\n",
              "      const progress = document.createElement('progress');\n",
              "      progress.max = size;\n",
              "      div.appendChild(progress);\n",
              "      document.body.appendChild(div);\n",
              "\n",
              "      const buffers = [];\n",
              "      let downloaded = 0;\n",
              "\n",
              "      const channel = await google.colab.kernel.comms.open(id);\n",
              "      // Send a message to notify the kernel that we're ready.\n",
              "      channel.send({})\n",
              "\n",
              "      for await (const message of channel.messages) {\n",
              "        // Send a message to notify the kernel that we're ready.\n",
              "        channel.send({})\n",
              "        if (message.buffers) {\n",
              "          for (const buffer of message.buffers) {\n",
              "            buffers.push(buffer);\n",
              "            downloaded += buffer.byteLength;\n",
              "            progress.value = downloaded;\n",
              "          }\n",
              "        }\n",
              "      }\n",
              "      const blob = new Blob(buffers, {type: 'application/binary'});\n",
              "      const a = document.createElement('a');\n",
              "      a.href = window.URL.createObjectURL(blob);\n",
              "      a.download = filename;\n",
              "      div.appendChild(a);\n",
              "      a.click();\n",
              "      div.remove();\n",
              "    }\n",
              "  "
            ],
            "text/plain": [
              "<IPython.core.display.Javascript object>"
            ]
          },
          "metadata": {},
          "output_type": "display_data"
        },
        {
          "data": {
            "application/javascript": [
              "download(\"download_89a85aa8-f3f7-4eb9-aa8e-26f459cf8acb\", \"bnn_dropout_fmnist_predictions.npy\", 400128)"
            ],
            "text/plain": [
              "<IPython.core.display.Javascript object>"
            ]
          },
          "metadata": {},
          "output_type": "display_data"
        }
      ],
      "source": [
        "# np.save(\"bnn_dropout_fmnist_predictions.npy\", fmnist_predictions_bnn)\n",
        "# files.download(\"bnn_dropout_fmnist_predictions.npy\")#"
      ]
    },
    {
      "cell_type": "markdown",
      "metadata": {
        "id": "1XIZahiCPleT"
      },
      "source": [
        "As we did with the deterministic model, we define the confidence as the maximum value of probability associated with the predicted class.\n",
        "\n",
        "**Q: _what is the difference in the predictions between the deterministic and the Bayesian model (`mnist_test_predictions` vs `mnist_test_predictions_bnn`)?_**"
      ]
    },
    {
      "cell_type": "code",
      "execution_count": null,
      "metadata": {
        "id": "t66MpAR9QY_W"
      },
      "outputs": [],
      "source": [
        "mnist_confidence_bnn = # your code here\n",
        "fmnist_confidence_bnn = # your code here"
      ]
    },
    {
      "cell_type": "markdown",
      "metadata": {
        "id": "aBMZ5krgQYi1"
      },
      "source": [
        "Again, as we did before, we define the `ood_label` to treat as ground truth, create a single vector for the confidence levels, and analyze the accuracy and F1-scores."
      ]
    },
    {
      "cell_type": "code",
      "execution_count": null,
      "metadata": {
        "id": "YUFKly0uUgaY"
      },
      "outputs": [],
      "source": [
        "ood_label = np.concatenate([\n",
        "    np.zeros_like(mnist_confidence_bnn),\n",
        "    np.ones_like(fmnist_confidence_bnn)\n",
        "])\n",
        "confidence_bnn = np.concatenate([\n",
        "    mnist_confidence_bnn, fmnist_confidence_bnn\n",
        "])"
      ]
    },
    {
      "cell_type": "code",
      "execution_count": null,
      "metadata": {
        "colab": {
          "base_uri": "https://localhost:8080/",
          "height": 424
        },
        "id": "WEW5hXh76Gdr",
        "outputId": "a7ba7778-1597-407c-b8e8-280314ab4525"
      },
      "outputs": [
        {
          "output_type": "execute_result",
          "data": {
            "text/plain": [
              "     threshold  accuracy  accuracy_id  accuracy_ood  f1_score\n",
              "0         0.00   0.50000       1.0000        0.0000  0.000000\n",
              "1         0.01   0.50000       1.0000        0.0000  0.000000\n",
              "2         0.02   0.50000       1.0000        0.0000  0.000000\n",
              "3         0.03   0.50000       1.0000        0.0000  0.000000\n",
              "4         0.04   0.50000       1.0000        0.0000  0.000000\n",
              "..         ...       ...          ...           ...       ...\n",
              "96        0.96   0.75170       0.6014        0.9020  0.784143\n",
              "97        0.97   0.72535       0.5322        0.9185  0.769811\n",
              "98        0.98   0.68380       0.4327        0.9349  0.747262\n",
              "99        0.99   0.62590       0.2988        0.9530  0.718107\n",
              "100       1.00   0.50000       0.0000        1.0000  0.666667\n",
              "\n",
              "[101 rows x 5 columns]"
            ],
            "text/html": [
              "\n",
              "\n",
              "  <div id=\"df-715234f8-a611-4787-91ae-e4b9e987260c\">\n",
              "    <div class=\"colab-df-container\">\n",
              "      <div>\n",
              "<style scoped>\n",
              "    .dataframe tbody tr th:only-of-type {\n",
              "        vertical-align: middle;\n",
              "    }\n",
              "\n",
              "    .dataframe tbody tr th {\n",
              "        vertical-align: top;\n",
              "    }\n",
              "\n",
              "    .dataframe thead th {\n",
              "        text-align: right;\n",
              "    }\n",
              "</style>\n",
              "<table border=\"1\" class=\"dataframe\">\n",
              "  <thead>\n",
              "    <tr style=\"text-align: right;\">\n",
              "      <th></th>\n",
              "      <th>threshold</th>\n",
              "      <th>accuracy</th>\n",
              "      <th>accuracy_id</th>\n",
              "      <th>accuracy_ood</th>\n",
              "      <th>f1_score</th>\n",
              "    </tr>\n",
              "  </thead>\n",
              "  <tbody>\n",
              "    <tr>\n",
              "      <th>0</th>\n",
              "      <td>0.00</td>\n",
              "      <td>0.50000</td>\n",
              "      <td>1.0000</td>\n",
              "      <td>0.0000</td>\n",
              "      <td>0.000000</td>\n",
              "    </tr>\n",
              "    <tr>\n",
              "      <th>1</th>\n",
              "      <td>0.01</td>\n",
              "      <td>0.50000</td>\n",
              "      <td>1.0000</td>\n",
              "      <td>0.0000</td>\n",
              "      <td>0.000000</td>\n",
              "    </tr>\n",
              "    <tr>\n",
              "      <th>2</th>\n",
              "      <td>0.02</td>\n",
              "      <td>0.50000</td>\n",
              "      <td>1.0000</td>\n",
              "      <td>0.0000</td>\n",
              "      <td>0.000000</td>\n",
              "    </tr>\n",
              "    <tr>\n",
              "      <th>3</th>\n",
              "      <td>0.03</td>\n",
              "      <td>0.50000</td>\n",
              "      <td>1.0000</td>\n",
              "      <td>0.0000</td>\n",
              "      <td>0.000000</td>\n",
              "    </tr>\n",
              "    <tr>\n",
              "      <th>4</th>\n",
              "      <td>0.04</td>\n",
              "      <td>0.50000</td>\n",
              "      <td>1.0000</td>\n",
              "      <td>0.0000</td>\n",
              "      <td>0.000000</td>\n",
              "    </tr>\n",
              "    <tr>\n",
              "      <th>...</th>\n",
              "      <td>...</td>\n",
              "      <td>...</td>\n",
              "      <td>...</td>\n",
              "      <td>...</td>\n",
              "      <td>...</td>\n",
              "    </tr>\n",
              "    <tr>\n",
              "      <th>96</th>\n",
              "      <td>0.96</td>\n",
              "      <td>0.75170</td>\n",
              "      <td>0.6014</td>\n",
              "      <td>0.9020</td>\n",
              "      <td>0.784143</td>\n",
              "    </tr>\n",
              "    <tr>\n",
              "      <th>97</th>\n",
              "      <td>0.97</td>\n",
              "      <td>0.72535</td>\n",
              "      <td>0.5322</td>\n",
              "      <td>0.9185</td>\n",
              "      <td>0.769811</td>\n",
              "    </tr>\n",
              "    <tr>\n",
              "      <th>98</th>\n",
              "      <td>0.98</td>\n",
              "      <td>0.68380</td>\n",
              "      <td>0.4327</td>\n",
              "      <td>0.9349</td>\n",
              "      <td>0.747262</td>\n",
              "    </tr>\n",
              "    <tr>\n",
              "      <th>99</th>\n",
              "      <td>0.99</td>\n",
              "      <td>0.62590</td>\n",
              "      <td>0.2988</td>\n",
              "      <td>0.9530</td>\n",
              "      <td>0.718107</td>\n",
              "    </tr>\n",
              "    <tr>\n",
              "      <th>100</th>\n",
              "      <td>1.00</td>\n",
              "      <td>0.50000</td>\n",
              "      <td>0.0000</td>\n",
              "      <td>1.0000</td>\n",
              "      <td>0.666667</td>\n",
              "    </tr>\n",
              "  </tbody>\n",
              "</table>\n",
              "<p>101 rows × 5 columns</p>\n",
              "</div>\n",
              "      <button class=\"colab-df-convert\" onclick=\"convertToInteractive('df-715234f8-a611-4787-91ae-e4b9e987260c')\"\n",
              "              title=\"Convert this dataframe to an interactive table.\"\n",
              "              style=\"display:none;\">\n",
              "\n",
              "  <svg xmlns=\"http://www.w3.org/2000/svg\" height=\"24px\"viewBox=\"0 0 24 24\"\n",
              "       width=\"24px\">\n",
              "    <path d=\"M0 0h24v24H0V0z\" fill=\"none\"/>\n",
              "    <path d=\"M18.56 5.44l.94 2.06.94-2.06 2.06-.94-2.06-.94-.94-2.06-.94 2.06-2.06.94zm-11 1L8.5 8.5l.94-2.06 2.06-.94-2.06-.94L8.5 2.5l-.94 2.06-2.06.94zm10 10l.94 2.06.94-2.06 2.06-.94-2.06-.94-.94-2.06-.94 2.06-2.06.94z\"/><path d=\"M17.41 7.96l-1.37-1.37c-.4-.4-.92-.59-1.43-.59-.52 0-1.04.2-1.43.59L10.3 9.45l-7.72 7.72c-.78.78-.78 2.05 0 2.83L4 21.41c.39.39.9.59 1.41.59.51 0 1.02-.2 1.41-.59l7.78-7.78 2.81-2.81c.8-.78.8-2.07 0-2.86zM5.41 20L4 18.59l7.72-7.72 1.47 1.35L5.41 20z\"/>\n",
              "  </svg>\n",
              "      </button>\n",
              "\n",
              "\n",
              "\n",
              "    <div id=\"df-f92d12ba-3ce4-4956-b40e-0bf236c2e9d3\">\n",
              "      <button class=\"colab-df-quickchart\" onclick=\"quickchart('df-f92d12ba-3ce4-4956-b40e-0bf236c2e9d3')\"\n",
              "              title=\"Suggest charts.\"\n",
              "              style=\"display:none;\">\n",
              "\n",
              "<svg xmlns=\"http://www.w3.org/2000/svg\" height=\"24px\"viewBox=\"0 0 24 24\"\n",
              "     width=\"24px\">\n",
              "    <g>\n",
              "        <path d=\"M19 3H5c-1.1 0-2 .9-2 2v14c0 1.1.9 2 2 2h14c1.1 0 2-.9 2-2V5c0-1.1-.9-2-2-2zM9 17H7v-7h2v7zm4 0h-2V7h2v10zm4 0h-2v-4h2v4z\"/>\n",
              "    </g>\n",
              "</svg>\n",
              "      </button>\n",
              "    </div>\n",
              "\n",
              "<style>\n",
              "  .colab-df-quickchart {\n",
              "    background-color: #E8F0FE;\n",
              "    border: none;\n",
              "    border-radius: 50%;\n",
              "    cursor: pointer;\n",
              "    display: none;\n",
              "    fill: #1967D2;\n",
              "    height: 32px;\n",
              "    padding: 0 0 0 0;\n",
              "    width: 32px;\n",
              "  }\n",
              "\n",
              "  .colab-df-quickchart:hover {\n",
              "    background-color: #E2EBFA;\n",
              "    box-shadow: 0px 1px 2px rgba(60, 64, 67, 0.3), 0px 1px 3px 1px rgba(60, 64, 67, 0.15);\n",
              "    fill: #174EA6;\n",
              "  }\n",
              "\n",
              "  [theme=dark] .colab-df-quickchart {\n",
              "    background-color: #3B4455;\n",
              "    fill: #D2E3FC;\n",
              "  }\n",
              "\n",
              "  [theme=dark] .colab-df-quickchart:hover {\n",
              "    background-color: #434B5C;\n",
              "    box-shadow: 0px 1px 3px 1px rgba(0, 0, 0, 0.15);\n",
              "    filter: drop-shadow(0px 1px 2px rgba(0, 0, 0, 0.3));\n",
              "    fill: #FFFFFF;\n",
              "  }\n",
              "</style>\n",
              "\n",
              "    <script>\n",
              "      async function quickchart(key) {\n",
              "        const containerElement = document.querySelector('#' + key);\n",
              "        const charts = await google.colab.kernel.invokeFunction(\n",
              "            'suggestCharts', [key], {});\n",
              "      }\n",
              "    </script>\n",
              "\n",
              "      <script>\n",
              "\n",
              "function displayQuickchartButton(domScope) {\n",
              "  let quickchartButtonEl =\n",
              "    domScope.querySelector('#df-f92d12ba-3ce4-4956-b40e-0bf236c2e9d3 button.colab-df-quickchart');\n",
              "  quickchartButtonEl.style.display =\n",
              "    google.colab.kernel.accessAllowed ? 'block' : 'none';\n",
              "}\n",
              "\n",
              "        displayQuickchartButton(document);\n",
              "      </script>\n",
              "      <style>\n",
              "    .colab-df-container {\n",
              "      display:flex;\n",
              "      flex-wrap:wrap;\n",
              "      gap: 12px;\n",
              "    }\n",
              "\n",
              "    .colab-df-convert {\n",
              "      background-color: #E8F0FE;\n",
              "      border: none;\n",
              "      border-radius: 50%;\n",
              "      cursor: pointer;\n",
              "      display: none;\n",
              "      fill: #1967D2;\n",
              "      height: 32px;\n",
              "      padding: 0 0 0 0;\n",
              "      width: 32px;\n",
              "    }\n",
              "\n",
              "    .colab-df-convert:hover {\n",
              "      background-color: #E2EBFA;\n",
              "      box-shadow: 0px 1px 2px rgba(60, 64, 67, 0.3), 0px 1px 3px 1px rgba(60, 64, 67, 0.15);\n",
              "      fill: #174EA6;\n",
              "    }\n",
              "\n",
              "    [theme=dark] .colab-df-convert {\n",
              "      background-color: #3B4455;\n",
              "      fill: #D2E3FC;\n",
              "    }\n",
              "\n",
              "    [theme=dark] .colab-df-convert:hover {\n",
              "      background-color: #434B5C;\n",
              "      box-shadow: 0px 1px 3px 1px rgba(0, 0, 0, 0.15);\n",
              "      filter: drop-shadow(0px 1px 2px rgba(0, 0, 0, 0.3));\n",
              "      fill: #FFFFFF;\n",
              "    }\n",
              "  </style>\n",
              "\n",
              "      <script>\n",
              "        const buttonEl =\n",
              "          document.querySelector('#df-715234f8-a611-4787-91ae-e4b9e987260c button.colab-df-convert');\n",
              "        buttonEl.style.display =\n",
              "          google.colab.kernel.accessAllowed ? 'block' : 'none';\n",
              "\n",
              "        async function convertToInteractive(key) {\n",
              "          const element = document.querySelector('#df-715234f8-a611-4787-91ae-e4b9e987260c');\n",
              "          const dataTable =\n",
              "            await google.colab.kernel.invokeFunction('convertToInteractive',\n",
              "                                                     [key], {});\n",
              "          if (!dataTable) return;\n",
              "\n",
              "          const docLinkHtml = 'Like what you see? Visit the ' +\n",
              "            '<a target=\"_blank\" href=https://colab.research.google.com/notebooks/data_table.ipynb>data table notebook</a>'\n",
              "            + ' to learn more about interactive tables.';\n",
              "          element.innerHTML = '';\n",
              "          dataTable['output_type'] = 'display_data';\n",
              "          await google.colab.output.renderOutput(dataTable, element);\n",
              "          const docLink = document.createElement('div');\n",
              "          docLink.innerHTML = docLinkHtml;\n",
              "          element.appendChild(docLink);\n",
              "        }\n",
              "      </script>\n",
              "    </div>\n",
              "  </div>\n"
            ]
          },
          "metadata": {},
          "execution_count": 96
        }
      ],
      "source": [
        "ood_detection_scores(mnist_confidence_bnn, fmnist_confidence_bnn)"
      ]
    },
    {
      "cell_type": "markdown",
      "metadata": {
        "id": "SuBrF9pm6GPf"
      },
      "source": [
        "And we compute the ROC and calculate the AUROC\n"
      ]
    },
    {
      "cell_type": "code",
      "execution_count": null,
      "metadata": {
        "colab": {
          "base_uri": "https://localhost:8080/",
          "height": 449
        },
        "id": "vF29Ye01Om0x",
        "outputId": "3e68e8c7-d2e4-40e6-c7b5-34bf290d88c2"
      },
      "outputs": [
        {
          "output_type": "display_data",
          "data": {
            "text/plain": [
              "<Figure size 640x480 with 1 Axes>"
            ],
            "image/png": "[encoded data removed]"
          },
          "metadata": {}
        }
      ],
      "source": [
        "plot_roc(mnist_confidence_bnn, fmnist_confidence_bnn)"
      ]
    },
    {
      "cell_type": "markdown",
      "metadata": {
        "id": "FuzkLT6TRKMU"
      },
      "source": [
        "We can also visualize the difference with the boxplots, as we did before"
      ]
    },
    {
      "cell_type": "code",
      "execution_count": null,
      "metadata": {
        "colab": {
          "base_uri": "https://localhost:8080/",
          "height": 452
        },
        "id": "VM_epHS3VJH9",
        "outputId": "bd5e96f7-2169-4217-e48e-c81cdb82c8f4"
      },
      "outputs": [
        {
          "output_type": "execute_result",
          "data": {
            "text/plain": [
              "(0.0, 1.0)"
            ]
          },
          "metadata": {},
          "execution_count": 26
        },
        {
          "output_type": "display_data",
          "data": {
            "text/plain": [
              "<Figure size 640x480 with 1 Axes>"
            ],
            "image/png": "[encoded data removed]"
          },
          "metadata": {}
        }
      ],
      "source": [
        "_ = plt.boxplot([mnist_confidence_bnn, fmnist_confidence_bnn])\n",
        "plt.ylim((0,1))"
      ]
    },
    {
      "cell_type": "markdown",
      "source": [
        "**Your task**: repeat this analysis with entropy. Does something change in the metrics for OOD detection?"
      ],
      "metadata": {
        "id": "SK7ZEMVDQxt1"
      }
    },
    {
      "cell_type": "markdown",
      "metadata": {
        "id": "KLxOWts1RSH4"
      },
      "source": [
        "## Variational Inference\n",
        "\n",
        "We can also try and have a look at the behavior of a model with VI. VI tends to be slower to learn w.r.t. other Bayesian methods, so we will utilize a different MLP architecture with more neurons, and train for a longer time."
      ]
    },
    {
      "cell_type": "code",
      "execution_count": null,
      "metadata": {
        "id": "NU7AmbR863Mq"
      },
      "outputs": [],
      "source": [
        "bsize = 128\n",
        "kl_weight = 1\n",
        "\n",
        "vi_backbone_mnist = keras.Sequential([\n",
        "    keras.layers.Input((28, 28, 1)),\n",
        "    keras.layers.Flatten(),\n",
        "    ku.layers.VariationalDense(64, kl_weight=kl_weight, activation=\"relu\"),\n",
        "    ku.layers.VariationalDense(64, kl_weight=kl_weight, activation=\"relu\"),\n",
        "    ku.layers.VariationalDense(10, kl_weight=kl_weight, activation=\"softmax\")\n",
        "])\n",
        "\n",
        "vi_backbone_mnist.compile(loss=\"categorical_crossentropy\", optimizer=\"adam\", metrics=[\"accuracy\"])\n",
        "\n",
        "# Uncomment to train\n",
        "# vi_backbone_mnist.fit(x, y, batch_size=128, epochs=35)"
      ]
    },
    {
      "cell_type": "code",
      "execution_count": null,
      "metadata": {
        "id": "wHqbeOA799Bn"
      },
      "outputs": [],
      "source": [
        "vi_backbone_mnist.load_weights(\n",
        "    \"/content/UncertaintyML-course-ESSAI-labs/files/bnn_vi_mnist_weights.keras\"\n",
        ")"
      ]
    },
    {
      "cell_type": "code",
      "execution_count": null,
      "metadata": {
        "id": "JVxO291QOpmT"
      },
      "outputs": [],
      "source": [
        "vi_mnist = ku.models.StochasticClassifier(vi_backbone_mnist)\n",
        "# Uncomment to get predictions\n",
        "# mnist_test_predictions_vi = vi_mnist.predict(x_test, num_samples=25)\n",
        "mnist_test_predictions_vi = np.load(\n",
        "    \"/content/UncertaintyML-course-ESSAI-labs/files/bnn_vi_mnist_predictions.npy\"\n",
        ")"
      ]
    },
    {
      "cell_type": "code",
      "execution_count": null,
      "metadata": {
        "id": "BKw8pAkeO8Mm"
      },
      "outputs": [],
      "source": [
        "# Uncomment to get predictions\n",
        "# fmnist_predictions_vi = vi_mnist.predict(x_ood, num_samples=25)\n",
        "fmnist_predictions_vi = np.load(\n",
        "    \"/content/UncertaintyML-course-ESSAI-labs/files/bnn_vi_fmnist_predictions.npy\"\n",
        ")"
      ]
    },
    {
      "cell_type": "markdown",
      "source": [
        "As for MCDropout, let's get the confidence..."
      ],
      "metadata": {
        "id": "2-ru9T7hGwzx"
      }
    },
    {
      "cell_type": "code",
      "execution_count": null,
      "metadata": {
        "id": "8FzM4SYrOmqt"
      },
      "outputs": [],
      "source": [
        "mnist_confidence_vi = # your code here\n",
        "fmnist_confidence_vi = # your code here"
      ]
    },
    {
      "cell_type": "code",
      "execution_count": null,
      "metadata": {
        "id": "OUmToyqbYAYw"
      },
      "outputs": [],
      "source": [
        "# Uncomment to save\n",
        "# np.save(\"mnist_test_predictions_vi.npy\", mnist_test_predictions_vi)\n",
        "# np.save(\"fmnist_predictions_vi.npy\", fmnist_predictions_vi)\n",
        "# files.download(\"mnist_test_predictions_vi.npy\")\n",
        "# files.download(\"fmnist_predictions_vi.npy\")"
      ]
    },
    {
      "cell_type": "code",
      "execution_count": null,
      "metadata": {
        "id": "ClxNVPA6XOfP"
      },
      "outputs": [],
      "source": [
        "ood_label = np.concatenate([\n",
        "    np.zeros_like(mnist_confidence_vi),\n",
        "    np.ones_like(fmnist_confidence_vi)\n",
        "])\n",
        "confidence_vi = np.concatenate([\n",
        "    mnist_confidence_vi, fmnist_confidence_vi\n",
        "])"
      ]
    },
    {
      "cell_type": "code",
      "source": [
        "ood_detection_scores(mnist_confidence_vi, fmnist_confidence_vi)"
      ],
      "metadata": {
        "id": "goFYNZHkdESI"
      },
      "execution_count": null,
      "outputs": []
    },
    {
      "cell_type": "code",
      "execution_count": null,
      "metadata": {
        "colab": {
          "base_uri": "https://localhost:8080/",
          "height": 466
        },
        "id": "dWmaTQBxXswW",
        "outputId": "2708802f-c6d4-40c6-ae81-21e680998975"
      },
      "outputs": [
        {
          "output_type": "execute_result",
          "data": {
            "text/plain": [
              "<sklearn.metrics._plot.roc_curve.RocCurveDisplay at 0x7b9fee4257b0>"
            ]
          },
          "metadata": {},
          "execution_count": 34
        },
        {
          "output_type": "display_data",
          "data": {
            "text/plain": [
              "<Figure size 640x480 with 1 Axes>"
            ],
            "image/png": "[encoded data removed]"
          },
          "metadata": {}
        }
      ],
      "source": [
        "plot_roc(mnist_confidence_vi, fmnist_confidence_vi)"
      ]
    },
    {
      "cell_type": "markdown",
      "source": [
        "## ODIN\n",
        "\n",
        "[ODIN](https://arxiv.org/pdf/1706.02690.pdf) is a method for OOD detection which is based upon the aforementioned concept of confidence, with the addition of **temperature scaling**.\n",
        "\n",
        "Let us call the output of our model pre-softmax $f(x)$ for a generic input $x$.\n",
        "We know that $f(x)$ has $C$ components, where $C$ is the number of classes:\n",
        "$$\n",
        "f(x) = \\left[f_1(x),\\dots,f_C(x)\\right]^\\top\n",
        "$$\n",
        "\n",
        "Our prediction $\\hat{y}$ is obtained as $\\text{softmax}(f(x))$. For a generic component $c\\in\\{1,\\dots,C\\}$ we have\n",
        "$$\n",
        "\\text{softmax}(f_c(x)) = \\frac{e^{f_c(x)}}{\\sum_{k=1}^C e^{f_k(x)}}.\n",
        "$$\n",
        "This turns $f(x)$ into a simplex $\\hat{y}$, i.e., a vector interpretable as a probability distribution.\n",
        "\n",
        "The softmax can be generalized by adding a parameter $T$ called **temperature**:\n",
        "$$\n",
        "\\text{softmax}(f_c(x), T) = \\frac{e^{f_c(x)/T}}{\\sum_{k=1}^C e^{f_k(x)/T}}.\n",
        "$$\n",
        "The effect of $T$ is to increase or decrease the entropy of the prediction.\n",
        "$T<1$ decreases the entropy, thus increasing the confidence in the argmax category; $T>1$ increases the entropy, thus decreasing the confidence.\n",
        "\n",
        "ODIN acts as a post-hoc OOD detection method (**Q: _what am I referring to when I talk about post-hoc?_**) which acts by:\n",
        "* modifying the predictions by means of a softmax with very high temperature ($T>100$) and\n",
        "* using the corresponding confidence to drive the OOD detection.\n",
        "\n",
        "**Your task**: implement ODIN with the aforementioned strategy on the deterministic model trained on MNIST.\n",
        "If you do everything correctly, no re-training should be done.\n",
        "Once you have implemented the softmax with temperature and obtained the modified predictions, you should tune the temperature and the confidence threshold to find the optimal values for OOD detection.\n",
        "For $T$, you could pick $k$ values between 100 and 1500, for instance.\n",
        "\n",
        "_Tips_:\n",
        "* You should be able to re-use the `ood_detection_scores` function, with a few modifications.\n",
        "* You will need to access the output of the model pre-softmax, i.e., you need to access the intermediate output of the model. In Keras, this can be done in the following way:"
      ],
      "metadata": {
        "id": "p7WM4BLLHIi8"
      }
    },
    {
      "cell_type": "code",
      "source": [
        "pre_softmax_extractor = keras.Model(\n",
        "    inputs=model_mnist.inputs,\n",
        "    outputs=model_mnist.layers[-2].output\n",
        ")\n",
        "\n",
        "pre_softmax_data = pre_softmax_extractor(x_test)"
      ],
      "metadata": {
        "id": "HpQzfVR5Yov9"
      },
      "execution_count": null,
      "outputs": []
    },
    {
      "cell_type": "markdown",
      "source": [
        "Essentially, we build a `Model` on top of our `model_mnist` which _intercepts_ the output of the penultimate layer (the final being the softmax).\n",
        "\n",
        "Be careful that the output of `pre_softmax_extractor` is a TF Tensor, not a NumPy array. You can easily convert the Tensor to an array by calling the `.numpy()` method on the Tensor."
      ],
      "metadata": {
        "id": "SKnbE4cUbwsw"
      }
    },
    {
      "cell_type": "code",
      "source": [
        "# your code here"
      ],
      "metadata": {
        "id": "cU5FzntqcW-9"
      },
      "execution_count": null,
      "outputs": []
    },
    {
      "cell_type": "markdown",
      "source": [
        "**Extra task (for the more ambitious ones)**\n",
        "\n",
        "ODIN is not only about temperature scaling.\n",
        "It also adds an initial preprocessing step on the image, which aims at adding a small perturbation before obtaining the final softmax. The perturbation is calculated as\n",
        "\n",
        "$$\n",
        "d(x) = \\epsilon\\cdot\\text{sgn}(-\\nabla_x \\hat{y}).\n",
        "$$\n",
        "\n",
        "In the formula above:\n",
        "* $\\nabla_x$ identifies the gradient of the softmax $\\hat{y}$ w.r.t. the image $x$\n",
        "* $\\text{sgn}$ is the sign function:\n",
        "  $$\n",
        "  \\text{sgn}(a) = \\begin{cases} 1 & \\text{if } a>0 \\\\ -1 &  \\text{otherwise}\\end{cases}\n",
        "  $$\n",
        "\n",
        "__Tips__: for this, you're gonna need to use TF.\n",
        "This is the basic code snippet for calculating gradients of a quantity w.r.t. a variable `x`:\n",
        "\n",
        "```python\n",
        "x = tf.Variable(...) # here is e.g. a batch of test images\n",
        "\n",
        "with tf.GradientTape() as tape:\n",
        "  y = some_computation(x)\n",
        "\n",
        "grad_x = tape.gradient(y, x)\n",
        "```"
      ],
      "metadata": {
        "id": "029bABMQdupn"
      }
    }
  ],
  "metadata": {
    "colab": {
      "provenance": [],
      "toc_visible": true,
      "authorship_tag": "ABX9TyPGYID7FLK9dguttQ2XWSGK",
      "include_colab_link": true
    },
    "kernelspec": {
      "display_name": "Python 3",
      "name": "python3"
    },
    "language_info": {
      "name": "python"
    }
  },
  "nbformat": 4,
  "nbformat_minor": 0
}